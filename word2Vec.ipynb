{
  "cells": [
    {
      "cell_type": "markdown",
      "metadata": {
        "id": "7gXXCstEngzH"
      },
      "source": [
        "## Word2Vec"
      ]
    },
    {
      "cell_type": "markdown",
      "metadata": {
        "id": "ShLntAt0qK4W"
      },
      "source": [
        "### SkipGram & CBOW\n",
        "\n",
        "![image.png](data:image/png;base64,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)"
      ]
    },
    {
      "cell_type": "markdown",
      "metadata": {
        "id": "upU2Hou5qvJ-"
      },
      "source": [
        "### Gensim\n",
        "\n",
        "[Gensim](https://radimrehurek.com/gensim/index.html) – библиотека обработки естественного языка предназначения для «Тематического моделирования». С его помощью можно обрабатывать тексты, работать с векторными моделями слов (такими как Word2Vec, FastText и т. д.) и создавать тематические модели текстов"
      ]
    },
    {
      "cell_type": "code",
      "execution_count": null,
      "metadata": {
        "id": "bw0zIjDaryl3"
      },
      "outputs": [],
      "source": [
        "import gensim.downloader as api\n",
        "import warnings\n",
        "\n",
        "warnings.simplefilter(action='ignore', category=FutureWarning)"
      ]
    },
    {
      "cell_type": "markdown",
      "metadata": {
        "id": "td9nmXS4r4kf"
      },
      "source": [
        "`word2vec-ruscorpora-300` - word2vec обученный на Russian National Corpus (~ 250M слов), SkipGram с окном 10\n",
        "\n",
        "В модели \"word2vec-ruscorpora-300\" после слова указывается часть речи: NOUN (существительное), ADJ (прилагательное) и так далее.\n",
        "\n",
        "[Расшифровка POS-тегов](https://yandex.ru/dev/mystem/doc/grammemes-values.html/#grammemes-values__parts)\n",
        "\n",
        "[Другие предобученные эмбеддинги gensim](https://radimrehurek.com/gensim/models/word2vec.html#pretrained-models)\n",
        "\n",
        "[Репозиторий gensim-data](https://github.com/RaRe-Technologies/gensim-data)"
      ]
    },
    {
      "cell_type": "code",
      "execution_count": null,
      "metadata": {
        "colab": {
          "base_uri": "https://localhost:8080/"
        },
        "id": "xPHz1AQKnFC9",
        "outputId": "ab1b43df-05e2-4b6f-aa3e-7645ceaa8e33"
      },
      "outputs": [
        {
          "output_type": "stream",
          "name": "stdout",
          "text": [
            "[==================================================] 100.0% 198.8/198.8MB downloaded\n"
          ]
        }
      ],
      "source": [
        "wv = api.load('word2vec-ruscorpora-300')"
      ]
    },
    {
      "cell_type": "code",
      "execution_count": null,
      "metadata": {
        "id": "U3yt17s9tFjX",
        "colab": {
          "base_uri": "https://localhost:8080/",
          "height": 338
        },
        "outputId": "183c4c79-02ac-48f1-81b5-73a772531369"
      },
      "outputs": [
        {
          "output_type": "error",
          "ename": "KeyError",
          "evalue": "ignored",
          "traceback": [
            "\u001b[0;31m---------------------------------------------------------------------------\u001b[0m",
            "\u001b[0;31mKeyError\u001b[0m                                  Traceback (most recent call last)",
            "\u001b[0;32m<ipython-input-53-355fd9e3ce22>\u001b[0m in \u001b[0;36m<cell line: 1>\u001b[0;34m()\u001b[0m\n\u001b[0;32m----> 1\u001b[0;31m \u001b[0mword_vector\u001b[0m \u001b[0;34m=\u001b[0m \u001b[0mwv\u001b[0m\u001b[0;34m[\u001b[0m\u001b[0;34m'человек'\u001b[0m\u001b[0;34m]\u001b[0m\u001b[0;34m\u001b[0m\u001b[0;34m\u001b[0m\u001b[0m\n\u001b[0m\u001b[1;32m      2\u001b[0m \u001b[0mword_vector\u001b[0m\u001b[0;34m.\u001b[0m\u001b[0mshape\u001b[0m\u001b[0;34m\u001b[0m\u001b[0;34m\u001b[0m\u001b[0m\n",
            "\u001b[0;32m/usr/local/lib/python3.10/dist-packages/gensim/models/keyedvectors.py\u001b[0m in \u001b[0;36m__getitem__\u001b[0;34m(self, key_or_keys)\u001b[0m\n\u001b[1;32m    401\u001b[0m         \"\"\"\n\u001b[1;32m    402\u001b[0m         \u001b[0;32mif\u001b[0m \u001b[0misinstance\u001b[0m\u001b[0;34m(\u001b[0m\u001b[0mkey_or_keys\u001b[0m\u001b[0;34m,\u001b[0m \u001b[0m_KEY_TYPES\u001b[0m\u001b[0;34m)\u001b[0m\u001b[0;34m:\u001b[0m\u001b[0;34m\u001b[0m\u001b[0;34m\u001b[0m\u001b[0m\n\u001b[0;32m--> 403\u001b[0;31m             \u001b[0;32mreturn\u001b[0m \u001b[0mself\u001b[0m\u001b[0;34m.\u001b[0m\u001b[0mget_vector\u001b[0m\u001b[0;34m(\u001b[0m\u001b[0mkey_or_keys\u001b[0m\u001b[0;34m)\u001b[0m\u001b[0;34m\u001b[0m\u001b[0;34m\u001b[0m\u001b[0m\n\u001b[0m\u001b[1;32m    404\u001b[0m \u001b[0;34m\u001b[0m\u001b[0m\n\u001b[1;32m    405\u001b[0m         \u001b[0;32mreturn\u001b[0m \u001b[0mvstack\u001b[0m\u001b[0;34m(\u001b[0m\u001b[0;34m[\u001b[0m\u001b[0mself\u001b[0m\u001b[0;34m.\u001b[0m\u001b[0mget_vector\u001b[0m\u001b[0;34m(\u001b[0m\u001b[0mkey\u001b[0m\u001b[0;34m)\u001b[0m \u001b[0;32mfor\u001b[0m \u001b[0mkey\u001b[0m \u001b[0;32min\u001b[0m \u001b[0mkey_or_keys\u001b[0m\u001b[0;34m]\u001b[0m\u001b[0;34m)\u001b[0m\u001b[0;34m\u001b[0m\u001b[0;34m\u001b[0m\u001b[0m\n",
            "\u001b[0;32m/usr/local/lib/python3.10/dist-packages/gensim/models/keyedvectors.py\u001b[0m in \u001b[0;36mget_vector\u001b[0;34m(self, key, norm)\u001b[0m\n\u001b[1;32m    444\u001b[0m \u001b[0;34m\u001b[0m\u001b[0m\n\u001b[1;32m    445\u001b[0m         \"\"\"\n\u001b[0;32m--> 446\u001b[0;31m         \u001b[0mindex\u001b[0m \u001b[0;34m=\u001b[0m \u001b[0mself\u001b[0m\u001b[0;34m.\u001b[0m\u001b[0mget_index\u001b[0m\u001b[0;34m(\u001b[0m\u001b[0mkey\u001b[0m\u001b[0;34m)\u001b[0m\u001b[0;34m\u001b[0m\u001b[0;34m\u001b[0m\u001b[0m\n\u001b[0m\u001b[1;32m    447\u001b[0m         \u001b[0;32mif\u001b[0m \u001b[0mnorm\u001b[0m\u001b[0;34m:\u001b[0m\u001b[0;34m\u001b[0m\u001b[0;34m\u001b[0m\u001b[0m\n\u001b[1;32m    448\u001b[0m             \u001b[0mself\u001b[0m\u001b[0;34m.\u001b[0m\u001b[0mfill_norms\u001b[0m\u001b[0;34m(\u001b[0m\u001b[0;34m)\u001b[0m\u001b[0;34m\u001b[0m\u001b[0;34m\u001b[0m\u001b[0m\n",
            "\u001b[0;32m/usr/local/lib/python3.10/dist-packages/gensim/models/keyedvectors.py\u001b[0m in \u001b[0;36mget_index\u001b[0;34m(self, key, default)\u001b[0m\n\u001b[1;32m    418\u001b[0m             \u001b[0;32mreturn\u001b[0m \u001b[0mdefault\u001b[0m\u001b[0;34m\u001b[0m\u001b[0;34m\u001b[0m\u001b[0m\n\u001b[1;32m    419\u001b[0m         \u001b[0;32melse\u001b[0m\u001b[0;34m:\u001b[0m\u001b[0;34m\u001b[0m\u001b[0;34m\u001b[0m\u001b[0m\n\u001b[0;32m--> 420\u001b[0;31m             \u001b[0;32mraise\u001b[0m \u001b[0mKeyError\u001b[0m\u001b[0;34m(\u001b[0m\u001b[0;34mf\"Key '{key}' not present\"\u001b[0m\u001b[0;34m)\u001b[0m\u001b[0;34m\u001b[0m\u001b[0;34m\u001b[0m\u001b[0m\n\u001b[0m\u001b[1;32m    421\u001b[0m \u001b[0;34m\u001b[0m\u001b[0m\n\u001b[1;32m    422\u001b[0m     \u001b[0;32mdef\u001b[0m \u001b[0mget_vector\u001b[0m\u001b[0;34m(\u001b[0m\u001b[0mself\u001b[0m\u001b[0;34m,\u001b[0m \u001b[0mkey\u001b[0m\u001b[0;34m,\u001b[0m \u001b[0mnorm\u001b[0m\u001b[0;34m=\u001b[0m\u001b[0;32mFalse\u001b[0m\u001b[0;34m)\u001b[0m\u001b[0;34m:\u001b[0m\u001b[0;34m\u001b[0m\u001b[0;34m\u001b[0m\u001b[0m\n",
            "\u001b[0;31mKeyError\u001b[0m: \"Key 'человек' not present\""
          ]
        }
      ],
      "source": [
        "word_vector = wv['человек']\n",
        "word_vector.shape"
      ]
    },
    {
      "cell_type": "code",
      "execution_count": null,
      "metadata": {
        "colab": {
          "base_uri": "https://localhost:8080/"
        },
        "id": "kWaHpvB_nFHN",
        "outputId": "6b12f0c3-6cfa-4141-bb4d-aa531312a572"
      },
      "outputs": [
        {
          "output_type": "execute_result",
          "data": {
            "text/plain": [
              "(300,)"
            ]
          },
          "metadata": {},
          "execution_count": 13
        }
      ],
      "source": [
        "word_vector = wv['человек_NOUN']\n",
        "word_vector.shape"
      ]
    },
    {
      "cell_type": "code",
      "execution_count": null,
      "metadata": {
        "colab": {
          "base_uri": "https://localhost:8080/"
        },
        "id": "Zs-haEvusMU1",
        "outputId": "8d7c6034-fb4c-41f0-8242-c1d391110106"
      },
      "outputs": [
        {
          "output_type": "execute_result",
          "data": {
            "text/plain": [
              "[('компьютерный_ADJ', 0.591947615146637),\n",
              " ('программист_NOUN', 0.5713083744049072),\n",
              " ('ноутбук_NOUN', 0.5553575158119202),\n",
              " ('пользователь_NOUN', 0.5512850880622864),\n",
              " ('интернет_NOUN', 0.5506680011749268)]"
            ]
          },
          "metadata": {},
          "execution_count": 14
        }
      ],
      "source": [
        "wv.most_similar(positive=['человек_NOUN', 'компьютер_NOUN'], topn=5)"
      ]
    },
    {
      "cell_type": "code",
      "execution_count": null,
      "metadata": {
        "colab": {
          "base_uri": "https://localhost:8080/"
        },
        "id": "B0xVl35JuGuv",
        "outputId": "5a3022d0-fae2-4aa7-a32b-763ba54558f3"
      },
      "outputs": [
        {
          "output_type": "execute_result",
          "data": {
            "text/plain": [
              "[('король_NOUN', 0.4940599203109741),\n",
              " ('королевский_ADJ', 0.4431174397468567),\n",
              " ('саксен::кобург_NOUN', 0.371537983417511),\n",
              " ('принц::уэльский_NOUN', 0.36908257007598877),\n",
              " ('королевство_NOUN', 0.3571174144744873)]"
            ]
          },
          "metadata": {},
          "execution_count": 15
        }
      ],
      "source": [
        "wv.most_similar(positive=['королева_NOUN'], negative=['женщина_NOUN'], topn=5)"
      ]
    },
    {
      "cell_type": "code",
      "execution_count": null,
      "metadata": {
        "colab": {
          "base_uri": "https://localhost:8080/"
        },
        "id": "4v_C63-1sMYC",
        "outputId": "458edc20-55ce-4b4b-9b57-673518ce88df"
      },
      "outputs": [
        {
          "output_type": "stream",
          "name": "stdout",
          "text": [
            "собака_NOUN\n"
          ]
        }
      ],
      "source": [
        "print(wv.doesnt_match(['январь_NOUN', 'февраль_NOUN', 'март_NOUN', 'апрель_NOUN', 'собака_NOUN']))"
      ]
    },
    {
      "cell_type": "markdown",
      "metadata": {
        "id": "Fi0TRX5wuzNF"
      },
      "source": [
        "### Обучение своих SkipGram эмбеддингов с Gensim"
      ]
    },
    {
      "cell_type": "markdown",
      "metadata": {
        "id": "EY9fLP1Fu_f0"
      },
      "source": [
        "[Gensim Word2Vec](https://radimrehurek.com/gensim/models/word2vec.html#gensim.models.word2vec.Word2Vec)"
      ]
    },
    {
      "cell_type": "markdown",
      "metadata": {
        "id": "h6JVf2KKwgx8"
      },
      "source": [
        "Загрузим данные из Corus и пайплайн обработки из Spacy"
      ]
    },
    {
      "cell_type": "code",
      "execution_count": null,
      "metadata": {
        "id": "MNCGXSXXwBNJ"
      },
      "outputs": [],
      "source": [
        "!wget https://github.com/yutkin/Lenta.Ru-News-Dataset/releases/download/v1.0/lenta-ru-news.csv.gz"
      ]
    },
    {
      "cell_type": "code",
      "execution_count": null,
      "metadata": {
        "colab": {
          "base_uri": "https://localhost:8080/"
        },
        "id": "Upfs3Dw5v92_",
        "outputId": "5f909a77-d6c0-498d-9e81-046a4ddd8cef"
      },
      "outputs": [
        {
          "output_type": "stream",
          "name": "stdout",
          "text": [
            "Collecting corus\n",
            "  Downloading corus-0.10.0-py3-none-any.whl (83 kB)\n",
            "\u001b[?25l     \u001b[90m━━━━━━━━━━━━━━━━━━━━━━━━━━━━━━━━━━━━━━━━\u001b[0m \u001b[32m0.0/83.7 kB\u001b[0m \u001b[31m?\u001b[0m eta \u001b[36m-:--:--\u001b[0m\r\u001b[2K     \u001b[90m━━━━━━━━━━━━━━━━━━━━━━━━━━━━━━━━━━━━━━━━\u001b[0m \u001b[32m83.7/83.7 kB\u001b[0m \u001b[31m2.5 MB/s\u001b[0m eta \u001b[36m0:00:00\u001b[0m\n",
            "\u001b[?25hInstalling collected packages: corus\n",
            "Successfully installed corus-0.10.0\n"
          ]
        }
      ],
      "source": [
        "!pip install corus"
      ]
    },
    {
      "cell_type": "code",
      "execution_count": null,
      "metadata": {
        "id": "Nt5D9R_4wVjl"
      },
      "outputs": [],
      "source": [
        "!python3 -m spacy download ru_core_news_sm"
      ]
    },
    {
      "cell_type": "code",
      "execution_count": null,
      "metadata": {
        "id": "IsgHO2HSvOo0"
      },
      "outputs": [],
      "source": [
        "import gensim.models\n",
        "from corus import load_lenta\n",
        "import spacy\n",
        "import string"
      ]
    },
    {
      "cell_type": "code",
      "execution_count": null,
      "metadata": {
        "id": "LU9NrSf7vP6M"
      },
      "outputs": [],
      "source": [
        "path = 'lenta-ru-news.csv.gz'\n",
        "records = load_lenta(path)\n",
        "data = [next(records).text for i in range(5000)]"
      ]
    },
    {
      "cell_type": "code",
      "execution_count": null,
      "metadata": {
        "id": "Y6YbJWh4wdmb"
      },
      "outputs": [],
      "source": [
        "nlp = spacy.load(\"ru_core_news_sm\")"
      ]
    },
    {
      "cell_type": "code",
      "execution_count": null,
      "metadata": {
        "colab": {
          "base_uri": "https://localhost:8080/"
        },
        "id": "CCDpgFr1vP24",
        "outputId": "07701a1b-5610-4fc3-e7d9-9a7f149bd64a"
      },
      "outputs": [
        {
          "output_type": "stream",
          "name": "stdout",
          "text": [
            "CPU times: user 8min 39s, sys: 2.37 s, total: 8min 42s\n",
            "Wall time: 9min 6s\n"
          ]
        },
        {
          "output_type": "execute_result",
          "data": {
            "text/plain": [
              "['вице',\n",
              " 'премьер',\n",
              " 'социальный',\n",
              " 'вопрос',\n",
              " 'татьяна',\n",
              " 'голиков',\n",
              " 'рассказать',\n",
              " 'какой',\n",
              " 'регион',\n",
              " 'россия',\n",
              " 'зафиксировать',\n",
              " 'высокий',\n",
              " 'смертность',\n",
              " 'рак',\n",
              " 'сообщать',\n",
              " 'риа',\n",
              " 'новость',\n",
              " 'слово',\n",
              " 'голиков',\n",
              " 'онкологический',\n",
              " 'заболевание',\n",
              " 'становиться',\n",
              " 'причина',\n",
              " 'смерть',\n",
              " 'псковский',\n",
              " 'тверской',\n",
              " 'тульский',\n",
              " 'орловский',\n",
              " 'область',\n",
              " 'севастополь',\n",
              " 'вице',\n",
              " 'премьер',\n",
              " 'напомнить',\n",
              " 'главный',\n",
              " 'фактор',\n",
              " 'смертность',\n",
              " 'россия',\n",
              " '—',\n",
              " 'рак',\n",
              " 'болезнь',\n",
              " 'система',\n",
              " 'кровообращение',\n",
              " 'год',\n",
              " 'известный',\n",
              " 'смертность',\n",
              " 'онкологический',\n",
              " 'заболевание',\n",
              " 'россиянин',\n",
              " 'снизиться',\n",
              " 'впервые',\n",
              " 'три',\n",
              " 'год',\n",
              " 'данным',\n",
              " 'росстата',\n",
              " '2017',\n",
              " 'год',\n",
              " 'рак',\n",
              " 'умереть',\n",
              " '289',\n",
              " 'тысяча',\n",
              " 'человек',\n",
              " '3,5',\n",
              " 'процент',\n",
              " 'год']"
            ]
          },
          "metadata": {},
          "execution_count": 23
        }
      ],
      "source": [
        "%%time\n",
        "\n",
        "res = []\n",
        "\n",
        "for doc in nlp.pipe(data):\n",
        "    res.append([token.lemma_ for token in doc if token.lemma_ not in string.punctuation and not token.is_stop])\n",
        "res[0]"
      ]
    },
    {
      "cell_type": "code",
      "execution_count": null,
      "metadata": {
        "colab": {
          "base_uri": "https://localhost:8080/"
        },
        "id": "Dz7I55WgsMbY",
        "outputId": "03a5b81f-0238-4c9a-fd7f-185eb91e2db6"
      },
      "outputs": [
        {
          "output_type": "stream",
          "name": "stdout",
          "text": [
            "CPU times: user 3min 50s, sys: 362 ms, total: 3min 50s\n",
            "Wall time: 2min 15s\n"
          ]
        }
      ],
      "source": [
        "%%time\n",
        "\n",
        "model = gensim.models.Word2Vec(\n",
        "    sentences=res,\n",
        "    vector_size=256, # default = 100\n",
        "    window=7, # default = 5\n",
        "    min_count=10,\n",
        "    sg=1, # Training algorithm: 1 for skip-gram; otherwise CBOW\n",
        "    hs=0, #  If 1, hierarchical softmax will be used for model training. If 0, and negative is non-zero, negative sampling will be used.\n",
        "    negative=5, # If > 0, negative sampling will be used, if set to 0, no negative sampling is used.\n",
        "    epochs=25, # Number of iterations (epochs) over the corpus\n",
        "    seed=2023,\n",
        ")"
      ]
    },
    {
      "cell_type": "code",
      "execution_count": null,
      "metadata": {
        "colab": {
          "base_uri": "https://localhost:8080/"
        },
        "id": "CJYEGRZ62CTw",
        "outputId": "556c3c14-f3af-4c23-db41-efdc7a613535"
      },
      "outputs": [
        {
          "output_type": "execute_result",
          "data": {
            "text/plain": [
              "[('май', 0.40331730246543884),\n",
              " ('год', 0.3948393762111664),\n",
              " ('1997', 0.3566749393939972),\n",
              " ('fighter', 0.32819700241088867),\n",
              " ('март', 0.3153272271156311)]"
            ]
          },
          "metadata": {},
          "execution_count": 25
        }
      ],
      "source": [
        "model.wv.most_similar(positive=['апрель'], topn=5)"
      ]
    },
    {
      "cell_type": "code",
      "execution_count": null,
      "metadata": {
        "colab": {
          "base_uri": "https://localhost:8080/"
        },
        "id": "ALiI_Mw42CWg",
        "outputId": "cd0e69ed-3697-45e3-9e71-cfd3aa9c937d"
      },
      "outputs": [
        {
          "output_type": "execute_result",
          "data": {
            "text/plain": [
              "[('аметова', 0.43047022819519043),\n",
              " ('camp', 0.37536755204200745),\n",
              " ('самец', 0.36090657114982605),\n",
              " ('fire', 0.35134974122047424),\n",
              " ('молодой', 0.3502877950668335)]"
            ]
          },
          "metadata": {},
          "execution_count": 26
        }
      ],
      "source": [
        "model.wv.most_similar(positive=['человек'], topn=5)"
      ]
    },
    {
      "cell_type": "code",
      "execution_count": null,
      "metadata": {
        "colab": {
          "base_uri": "https://localhost:8080/"
        },
        "id": "cVMrr0BRD6I5",
        "outputId": "d78ea8c8-bf07-441c-e78e-bdc31ba4376a"
      },
      "outputs": [
        {
          "output_type": "execute_result",
          "data": {
            "text/plain": [
              "[('российский', 0.4784075915813446),\n",
              " ('госграница', 0.428486704826355),\n",
              " ('рф', 0.41281816363334656),\n",
              " ('страна', 0.40454670786857605),\n",
              " ('гройсман', 0.3970167934894562)]"
            ]
          },
          "metadata": {},
          "execution_count": 27
        }
      ],
      "source": [
        "model.wv.most_similar(positive=['россия'], topn=5)"
      ]
    },
    {
      "cell_type": "markdown",
      "metadata": {
        "id": "7IZFQ3ISzvtq"
      },
      "source": [
        "#### Стандартный setup модели\n",
        "\n",
        "- SkipGram + Negative Sampling\n",
        "- Negative Samples - 2-5 если много данных, 5-20, если мало\n",
        "- Размерность вектора 300\n",
        "- Размер окна - 5-10 (большой размер окна - тематическое сходство, маленький - функциональное сходство)\n"
      ]
    },
    {
      "cell_type": "markdown",
      "metadata": {
        "id": "tEPAE4MS3-O2"
      },
      "source": [
        "## Проблемы Word2Vec и GloVe\n",
        "\n",
        "- не учитывается морфология\n",
        "- проблема с OOV (out of vocabulary) словами, но можно добавить `<unk>`"
      ]
    },
    {
      "cell_type": "markdown",
      "metadata": {
        "id": "oaIiP0MM36Ev"
      },
      "source": [
        "## FastText\n",
        "\n",
        "- Слова разбиваются на n-grams\n",
        "\n",
        "![image.png](data:image/png;base64,iVBORw0KGgoAAAANSUhEUgAAAlkAAACECAYAAACjxz6fAAAAAXNSR0IArs4c6QAAAARnQU1BAACxjwv8YQUAAAAJcEhZcwAADsMAAA7DAcdvqGQAADwSSURBVHhe7Z0HfBTV9sePBEjvEFIIJAEChARC772D9CKoiFQV/dt9vqeC+FCe7+mzY8dHUem9995LgJAAoQRCICQQSnoB/O/v7kx2drIVsskGzpfPfpg7O3On7Gbvb84595wn/tJADMMwDMMwTIlSQfqfYRiGYRiGKUFYZDEMwzAMw9gAFlkMwzAMwzA2gEUWwzAMwzCMDWCRxTAMwzAMYwNYZDEMwzAMw9gATuHAMAxTDrhy5QqlpKSQp6cn1a5dm5544gnpHYZh7BUWWQzDMGXEhQsXaNeuXeTi4kI9evQQAsoQ58+fpy1btkgtoujoaGrRooXUYhjGXmF3IcMwTBmxd+9eys/Pp1u3btGxY8ektcW5fPmytKQlOTlZWmIYxp5hkcUwDFNG5OXlSUv6y2qcnJykJS3Ozs7SEsMw9gyLLIZhGDunYcOGFBAQQA4ODuTj40MtW7aU3mEYxp7hmCyGYR55bt++TampqZSTk0MVK1YkV1dXIVoe1CJ048YN8crNzRX9ubu7U2BgIFWuXFnagoQLEG6+oKAg8vX1ldYSJSYm0s2bN8XykSNHxP8yTZs2Ff9XqFCBatSoobdfRkYGXbx4kfz9/cnPz09aq+P69esiMD4kJIQ8PDyktUQFBQV09epVsf/9+/fFNWN/b29vaQvLuXfvnriPuDb0i+tFHJksAGWysrJEvBmOg/NlmMcVFlkMwzyyQJRAyKSnp0tr9IE4aNy4MVWvXl1aY5ozZ85QTEyMECxqMNsPs/6aNWtGlSpVonnz5lFhYaEQH0899RS5ublRXFwc7dmzR9rDNBBvI0aMEEHxEDTz588XLkUcZ/DgwXoCDCJy0aJFhJ9ziKiRI0eKbQ8fPkznzp0T4kpNlSpVqEOHDuJ/cyBuDDFjp06dEueiBudav359EZDv6OgozhVCCwwcONCgKGSYxwGHqRqkZYZhGLsGYuHkyZO0YcMGIXZgRTFkkYHFZdu2bUJkwNpkDAiBs2fPUnZ2thBasCAZQu4Px4TgMAYsVBBiEDiw+AAIH4gMuPlwLFicLAHXCqsUxBmsZhBoMuhLKVwgJi9duiSW7969K147d+4UxzL2HA2rHs6nWrVqwhJnjGvXrtHq1atFsD3ugyFwrmlpaZSQkCBEJaxYMviMlNYs9LN06VI6ceKEaFetWtXofWeY8g5/sxmGKRdARCxcuJD27dsnRAwsKgcOHJDe1YEBf/369SLtgaWcPn1apEgwJEjQH0SGpf3BegWLjxL0ARo0aKDnyjNFzZo1hQAC6vOS+5NRt2NjY8V5mANibPPmzQatUwACa82aNUKQWQI+F3w+StTnDosYjodt8fnhM4ULlWEeRdhdyDCMXQPrEAZuJONUExwcTL1795ZaWjBwHz9+XGppCQsLozp16girF4QF3IewOCFWSQkCyhs1aiS1tBw8eLBYegVYmCIiIkR/cN/BXRcfH69nwVHSuXNncXwZ2SI0c+ZM8T+AJa1nz55iGX0qrTsQOytXrpRaRK1bt6aoqCipReLYu3fvllo64DrEdhBsiEODsIHVCxY+3AcZxILJ8WAy2BYCCP/LyG7BWrVqCbGIPnDtEKnGrh35vOBGlIGFDdurgbWrTZs2FrkvGaa8wO5ChmHsEgzu+/fvF4OyoRiounXrUseOHfUCrjHgw60ng/cgXBB35eXlJeKFIDwQzxQeHi7WwUImP2vC5QXxBDEBIMa2b98ulgGED44J4QCRgcBvxF/B3QYhp+5PJjQ0VC+GCv3gBfejvC0EG4QY1quzucOtCVEoA3EpW7kA3IJJSUlSSwsC8fv37y/EG64Z9wLXj/3wgmtPBi5QXLcSxI7JLk8Atx/6Q9wZBBvuEa4f9wHXDrcfrl1tVUPgv9JdiPOBlQ0uUOV9wjXCAoj/4QrFfWWY8g67CxmGsSswSCNeB8HTsNCoBQvEw5AhQ4TYUQ/EsGApt2/btq2YpWcMWGSU6RAw+CstMjgPZX+w9kCcGUPdX1khi0uIKkPgHiLoXwbWQqXLUI7XksF97tOnj9GM9AD3uX379lLLODg3WKyGDRtm8LOBmMRnDwFqLAaMYcoLLLIYhrEb5LgrWLDUcUIY4CEcnnzyST2rkAzEkNLaAxD0DlefqZf6OHJ8EMQezkcGs/zUrkRDREZGSktlR/Pmzc1agpQiCyD4Xwb3QGmRatKkicngeBlYuSxN2YDPs1evXuLzRCC/ErghDx06RAsWLLAqto5h7A0WWQzDlDmwpCDAGrMG1a5BWGNkywdii4xx584daUkHBmrEVJl6qXNVyTFIcD0qBRisVMo4KWPA1Yc0DmWJWrQYAi5EJcpZk4gBU6KMJzMH3LjWIFsmkU5CfU5wHWJCwooVKyyelckw9gSLLIZhygxYSxD7s3jx4mKB7RA0CNpGrihYh8wJHEMi60GQXVRqsWfIemYMxCeVJZaKQSVKyxUEpgxSSMCKZykPcu04l3r16onPGvFzyjg7gNiwZcuW0datW4tZHhnGnmGRxTBMmQG3oDL/kwwsVsOHDxez6IzFFakpicEXlhQ5pkqdAsEaoWHNtvaI8tqtvZaHuXa4OOHqRPJWuB7VILEqZlmq4/QYxl5hkcUwTJmB2Xxq4Jbr0aOHxfmkZNTWG6R2mDhxolWvUaNGFQVjq/uzJO+UjDXb2iPKa7dWvJbEtcN61qVLF5H6Qg1cy5bm7WKYsoZFFsMwZYahGCsEOsN9iMzg1uDk5CQtaTGU9sEakKZASWZmprRknoc9dlmjtEYhLsoay5E198kYiIuDG3nHjh3SGh0Q3+XdUsg8PrDIYhimzED8TadOnYoJJBQgXrt2rcjcrowPMoU62Pths4ir+1PONDQHEn6WZ5TxZ5jpZ43gNZaU1BJwLKRuQN1HuJGVcWIAiUr79etXLJ6MYewVFlkMw5QpyDuFgsZIj6B20SHBJgof792712TNQCAnGZVBNndlMk1TwHJy9OhRPYGARJvK+oApKSkigaY5EIBf3kWWOn8VUl1YAtx4yG1mLXL6DeTHwoxQtcsRwfRIhIrC2GoLI8PYMyyyGIYpcxDwjIBzBLujZI0SDMAoCo0BGP+rrRtKMENNCbK/m4vfgTsMBYtRagZ1/JRWG5SQUQL3lamYI1hilBniyytIq6BMPAqBCRFqCszKxOw/a8H9XrJkibi36s9Kjs0aNGiQxfm3GMaeYJHFMIzdgHgbBL0bSlAJSxYsWojXUpeQkYHIUlqzEBuFqf/GtocLcNWqVUJoySiXkR9KWUsPZXaQswn/q4FbE7m+LLWeAbl8D4BAsxfgjmvXrp3U0gIRumvXLr1ahjIIRsd9VNeCNAXuIe4X3MLYXwmsiChdZGyWIcOUF7hANMMwdgl+mlDLDoO7oYEdNfCQwBLWDiUQVrCMqC1O2A5uJ7ibYHWBGFIP7hBUcEspxQ/iw9Cf2oKG+n/KAtGw9hhDXSBaBtnt5ZgzuEqRWR0pK3CeSleltQWiIVJhjTKFJfsgxQZKCylBDitsB0EMYYj7Y2iWqIy6QDRmK6Lgtzo7P8A9gPUQ5YvUcXoMUx5hSxbDMHYJxAuKFiNBJQSFOl4LbiYExqvB4I/0DeoZaLBQIRgeLkeIN7XAgrCB0FAKLAAhhXI+6jI1EGmnT58WfZkSWKZA8WQZiDgISsyqW758ebHzKwsgkNSFoyFQL1++LALTIZTUAgtWKCXqz23Tpk0GBRZmmiKrP+pNssBiHhVYZDEMY9dg0IblBgNwcHCwtFaLsXgrxO+gVIup4tAyEHOwtAwYMKCYQJDBcfG+qQLJAIICAfywhilRl4uRwbbGkq0qrXdq0WFt2xDq4xraB9cDtyEKP5urhShfO2KolKjvqbJGIpCD2iFkzd1fhilvOEzVIC0zDMPYLRABcLnBTQcXFVxVqGlorNwNRAHieWAhwUAP9yP2gcUI1iovLy/RH1x5YWFhQmyZAkIJVh3shz7gjoRVB8eBOMAsSaSjQDJVuCaRLwozDdF3w4YNDfaP88L7KGSNF/rDvhB9Svcirh0xabBuwU2K2ohKCxGsd5j5CNHZoEEDcS7mwDlbug+EENx4OA9cO+4jzhXnj9g51CvEteNakOdMGZuFa1cWl8YyrJC4Tnx+sFypXb4M86jAMVkMwzBMiYDhZMGCBUXJWCEER48ebdYKxjCPKuwuZBiGYUoExJQps90jHQcLLOZxhi1ZDMMwjEEwWWD16tXCPQh3IdyChlx7iB+DwFImIoV7FHFx6lQcDPM4wSKLYRiGMYg6zQPAbEukukB8FuKyEHeGFBNYVoK4MaSkYJjHGRZZDMMwjEEwExAxVrBkWUNkZKQIameYxx0WWQzDMIxRkA8Mmd4tyduF3GStWrXiLO0MI8Eii2EYhjELXIIofA3RBRchUkog+zuEFVI8IFUGUjgoU0swzOMOiyyGYRiGYRgbwI8cDMMwDMMwNoAtWcwjAWY2IWM2snAjSBcv/mozDMOUX5AGBNUZ8EJ1AVRdKG/uaBZZTLkFuXnk+BCIK4ZhGObRBjU3UUoL9UnNlcKyB1hkMeUO1E5DAC7q1zEMwzCPH6gkgMkW9l5UnEUWU66AxSohIUFYsRiGYZjHm8DAQAoICJBa9gcHvjPlBliwWGAxDMMwMlevXqXk5GSpZX+wyGLKDUlJSSywGIZhGD0Qm5ueni617At2FzLlgoKCAoqNjZVaxkE9NcxAQXBkeQiKZBiGYQwDeYKkt5g5bu4BGzMQGzVqJLXsBxZZTLkA5mA8rRgCYsrPz0/45jnbNMMwzKMHwkXgGkxLSzOangeB8Chebk/wiMSUC0zNJIyIiKDq1auzwGIYhnlEwe87fufr168vrSmOJfU1SxselRi7B4lF4S40BKxXcBEyDMMwjz4IB0GOLENkZWXZXRJqFlmM3WPKF29vpmGGYRjGtqAguSEgsLKzs6WWfcAii7F7jGVzRzI6vBiGYZjHB5TYcXBwkFr62NsMdBZZjN1jTGS5uLhISwzDMMzjhKurq7SkDwLk7QkWWYzdg+LPhoBvnmEYhnn8MPaQbWy8KCtYZDF2j7FARs6DxTAM83hi7PefA98ZhmEYhmEeA1hkMQzDMAzD2AAWWQzDMAzDMDaARRbDMAzDMIwNYJHFMAzDMAxjA1hkMQzDMAzD2AAWWQzDMAzDMDaARRbDMAzDMIwNeOIve8vcxTAqMjMzxUuNu7u7eDEMwzCPF+VlXGCRxTAMwzAMYwPYXcgwDMMwDGMDWGQxDMMwDMPYABZZDMMwDMMwNoBFFsMwDMMwjA1gkcUwDMMwDGMDWGQxDMMwDMPYABZZDMMwDMMwNoBFFsMwDMMwjA1gkcUwDMMwDGMDWGQxDMMwDMPYAC6rwzAMU07IzM+kDWc2UU5hDnWp3Ymqe1aX3il7krOu0K7k3eRc0Ym61+xGrpVcpXfsj6NXYyg2NZaCPIKoS1hnqvAE2xsY22C1yMrJyaE7d+6QJbs5OjqSr6+v1GIYhrGevPv59J9Tn1NC5lnqG9CbRtZ8Snrn0eGHfT/RyrjV1DAgiqb1mkqVHSpL7+i4/9d9GrNgAl26dUm0XSu70u9PzyZvZy/RtgV59/Jo2r7pdPrmGepfqx+NbvCs9I4+KdnXaNLmVyj/XoFo1/OpS190+kws2xvbE3fQx9unSy2iEVFP0fhmY6UWw5QsVomsmzdv0rJly+jevXvSGvO0bNmSGjVqJLUYhmGsY3PqFvrx3C9Si+jHZt9RFccqUqv8k3wnmZ7983mpRfRe13epR3h3qaXjWuY1GvG7vsiZ3udjalOzldQqedYnbqBvYmZILaJZvWaSn0tVqaVj06Ut9OWRr6WWlsX9F5BLRWepZT/8Z9fntPHcJqlFVMe3Dv3Q/zupxTAli1U20lu3blklsEBaWpq0xDAMYz2ZhVnSkpbMu/rt8k5GXoa0pOWOqi3j7uhezK1lSysWyCjIlJa0ZBbqt2U8HT2kJS1ODk7kVNFRatkXnk6e0pIWLyfb3kPm8cYqkRUaGkoNGjSggIAAg68qVYo/XTZp0kRaYhiGYR4UuAdfa/+KEFZYHt5oKNX3qye9W7Y0829KPUK6k3NFZ/J18qHXmr6iGVzsM85paOQQauTfULhkw7zDaEJzdhUytqPEAt/v3r1La9eupWvXrol2xYoVqU+fPuTv7y/aDGPvJGVeFrEnt/JukaPmB7iKcxWKrNKAvBwf7Ek3NSeV4tNP043cG/SE5p+vs4+mv0iqqulXJrMgk7YkbaNAtwBq4d9cWls2IPYp/s4pupp7lQruF5BHJXeq6VKTarmHPdCAefevu3QmI4GSci5Tzr0ccqvoRkHOgVTPox5VfMJB2oro+O0TYpv2VduRVyWtleFG/g3ac2OfiAlalrxC9CXT3KcZhbjWFMu+jr7Uya+jXn+lReH9Qjp5LZ4S0xNFILq7oxvV8KpBUQGRVLFCRWkrosPJR8Q2XcO7ko+zt1iXdzePNpzZSDdzblF86ik6dPmwWA8goIY2HCyWXSq5UI+63YssVn9p/m09t52y8jOpV92e5GgDa1FaznXambxL3PtFZxZrrlN371sFtKQwr1CxjL+PbjW7aO699lpz7ubSlktbyFsjstoFtRHrlODvYNeVPRTuXYca+EZIa3Ef72r+TuIpKSOJsjX30a2yG4V6hlB9n3o2C0hPyUyhPZf2UoNqDah+1eJC9cyNMxR77SS1rdmGAtwDpLVE2QXZFJNyTOx/9/498bnU0+wf4qX9PlpD4b1Cir8eTxdvXRL94nNHID4EYCWHStJWms8jO412Ju6iehpBHenXQFr78GyO2UJpt9NoYJsB5OLoIq3V3JubKXQo4bB4r0KFChToE0hNajcmPy8/aQvLuZN9h2LOx1BS2mXKK8wjHzdvqhdcjxrUbEBPPPGEtBXRicQTFHPuGHVt3IWqV7GfyRwlQYmILLgQ161bR1evXhVtBwcH6tWrFwUFBYl2SZORkUG5ublUqVIl8vDwEIJOBucCt6aPj4/4gii5ffs2Va5cmVxcdF8oiEP0h/0QpK/eR6awsFAE/N+/f1/s7+bmJr2j5caNG+Jc0L8SnGd+fj55eekGahwTfeGY7u7u5OxsPG4hKytLTDZwcnISxzR2fmrwsWZmZlJeXp7V+z5KIFjY3A/1vqv76Y9T8+jCnURpjT5RGmH0VN1h1KRaY2mNaeI0A8bsuLl08kactEYfCLdREc+Ift/c/o4QduDvLd6hDtXbi+XS5E7hHVp0eQltS91B+Rqhpcatoiv18O9O/YOeFELJHEIYXVlBG1I2UtbdbGmtDhcHZ+oT2JsGBPWjM5kJ9HHcv8T6IOcg+rrJfzWC6h5NOvwK3Sy4Jdabo6+mrzGho6WW7cktzKU/Y+bT8pMrxWw/NRgsh0QNohGNh2tEWBz9bfU/xHoIsDkjfxPLUzf+k7af3ymWzVHLN4xmDv9ZLP9x9E/65YC2j45hHeijnlPEckkBMTtm3XhKz7sprTHNgFr96IVGE8TyB7un0NG0Y2L5pUYvUL9afcUyQL/jN7yoEXBp4oHji86fUU2PGrT4zFJaeX41ZalcwsBHI9bGR42lTsEdpDUlA4TcqEWjKSM/Q/w2/NB/BtXyCZPeJbp0O4kmLH9B/HZ4a0Tx3KGz6E7eHZodM5e2nN9K9zTfTzXhvnXojbavifguc+DBat7xBbQmYa0QV2rgZu0T3oeebjRCfJdGLx6jEVrXxXvfPfmNRtTVFcsPw+LdS2jq3I/EcseoDjTjle/o6Lmj9N3KGXTwzCGxXgkEUbfG3Wjy0++Tj7uPtNY4idcuavr6jrYc20p37+lEukw1r2o0usdzNLLjCLqYepGGTBsm7revpu/1n6wjZ0f9MfGeRtA6VCj9B6mS4KFFFkTHhg0b6PLly6KNgbxHjx5Uo0YN0S4pCgoK6NixY3TmzBkhXGRwPBwLbkm4K1euXCmsaTVr1qSePXtKWxGdP3+etmzZIgTZ4MGDhVA6dOgQJSQkCAEFIEQGDhyoJ8JSU1PpyJEjdOXKFb0ZlRBUcJ3ihX6OHz8u9h8+fHiR6IN4W7x4sRBVnTp1osDAQNEXzgXrZPz8/KhVq1ZFVj+Ir/j4eIqLixN9yKDf+vXrU9OmTYuJORn0GxMTI+4TxJkMhK98nx6HGZ8HUg7S/07OoStZV2hwnYE0JrL4IAxrzReHvxZP7ZbQM6Q7TYp+kSpV0D1lqll6dhnNjJ0lLA7mwHktPbtcahH1Du1F/9d4ktQqHU7cjqWvznxDGXcNx9oo8ansTW/UfY3qexh3UcECNT3+38IyZY4ApwAKcgmkwzePSGuIfm3xo2bgc6CxB7QDtyVEejagqZGTpZZtSc1Ko7+veZ8SbxoW5EqQXqGGdzDtvbhPWqP5foxeSD4uPvT8/HHCgmEJGFw2TlxHDhpB8Paqd4VlDHg4etDKsUvFcklxpyCDRq42PIPQEI2qNqR/tf9YLPdfNrjI4tg2sA293+rvYhlczU7RiKwXpJZmYK/egc7eOivWmwN/u8PCh0ithyc+LZ5eXfOG1CJ6pdUkGlh/gNQiWpuwjr7Y85XU0vydRgyi9Wc3CGulKZwqOtG0bh9R44BoaU1xTqbF0bRtn1B6Trq0xjheTp4aoTWSvj/wo7SGaGLz8TQ8cpjUenDenfkPWnNwjVjG9+v5HqNp5nqteDdFSLUQ+vX1n8nfx7iHauHORfTpgn9TwV3tTFNTRNSIoOZ1m9HsTXOkNUTz35tHkTV1Fruf1v5MM1Z+T6H+ofRK/0nUvUnxSSH2zEOZNiCwNm/eXCSwoHa7du1a4gILlqklS5YIkaUUWADncPHiRVq6dCkdOHCgyF0pn5NMcnKy+B8i5OzZs2KWJESMLLAArEawSMnExsbSihUrxL5qLQrxs2/fPvE+hBrA/jhXGQg0WUxhWwguiB+lwAKYHLBq1SpxHehj+fLlYnulwALYD+e0Zs0aITrVwGqF64LIUgosAOGWmJgo7tOpU6ektY8eFzMu0Xu7J9NH+z6mpMwk8dS5KGEJ3cjV/1HD+ql7p1kssMCGi5vo3wc/F09chpgZ+z/6VfOyRGABpcAChp6QbQncdNPjP7VIYAFYlqbFTafTGVrLm5q0/DT62/H3LBJYICUvRU9gAdwDj4ruNKj6AI2oMP/kCssati0NUjJS6IXFkywSWACzBpUCC+CJHIxt8Ty5VTafRwpux7HNRwuBBZTfPVt8XzwrewhBY8m9d6/sTsPqDpVaps9Nvm6ZHck7LRJY4H8nZ9Opm6el1sNzT/X3qz43dXtp/DKzAgvABfzJ9unCUmYI5OX62/q/WySwwO28O3oCC9zTjHclwT2FCxjXa4nAArA6fTh3qtQqzqxNs+mff0yzSGCB+KR4PYEFMFbJ4Nx+WP2j+G6dTzlPb/z0Fj3/+Rg6lVR+xrCHsmRt27ZNCBYlEFiwtsCSVBJAaEBgKcUQ8m95e3sLgQUXoCHBAcE3YYLuaXj79u1FYkgJrE9Vq1YV4ggWLLg5YTGCmIHQUQKXH7aBEFILIBlYwmCZAhBUO3bsEMtKcP5wZ0I0Xb+uNQPL4D24F2VgnYPVCukzIKJkoqKiqHXr1lJLCyx1sJLJYF9PT08hTCE+cb9kYM0zNFGhvIIn8N/j/6B1FzbQfc0/JRg4/tf7VzHjSQaCaMnZZVJLS7ugttS1RmcK9gimgnv5dP52Im2+tIWOXz8hbaFlXNQYGlJnkNTScjQ1hj7Y86HU0lLLM4wGhw+kuj51yb2SG13LSaUdl3fSmgvrKF/TvxoEDr/e5P+klm25WXCTXj/6toiVkvGp7CNcb7AMuVZ0pfSCdDp26zhtTNlM2fd0bg2vSl70bdMvydlBZ9K/rxGWH8Z+RKcydINh5QqVqEu1LtSxanvyd65Gufdy6VzmBVp5ZRWdy9J9T5X81HwG+VbWWlrxOSLuZVnycuHOlJnecBqFuIaI5UoaEQL3k63Bj/xrK96i2JRYaY3m+hwqU9/6val7eDcK8gyinIJsOnM9geYfW0in0wwL0UWj5lFVN20KBIhxxOXEpZ6iNzR9y0xoOY6GNdJabhw01ycLLPDmynfo6JUYsQxX0ppxK8RySYPrhVVq4ZnF9Oep+dJaErmv5JgsWHSV9/7JpQOL/vYQuzWl9ftiGVzOTKYXNhW30uLz6xPamzoGd6Agt0DxdxGfformxP2uJ8LgWv93B11uq4chNvUkvbFWd79favECDWmgjYEDq06vpq/3fSu1dMB1OKTBIGod3IqquFShO/l3aO+lfTQrZo4QWDKjop+l0Y1HSS0tEEzjlk0QbkcZWL76hPemzmGdKNA9QFx70u3LtC5hPe28uMvgw9q4pmNpZMOHzxP39i/v0PrDG6SWDsRLjer6DDWt05Q8XDxEfNbiXUto3nbddwD89uZMalFXP4b0wOkDNP6riXoGCVi8RnV5llpHtCZ/72p0K+sWnbx4kv7YOk/EYRnij3d/p0ZhDaUWUZ/JT1JSWpLU0oLxfWDrAfTawFepiqd9j2MOUzVIy1YBcbNrV3ErAGKNMNBDPFSvXl0vXspa8GGtX79exBYB9NW2bVvq0qUL1atXT7wgNiB8EA+m/HDxIcCtJgMrUXq6/hME9oWoql27tnD7hYeHC/cjrg0WOrk/iJHevXtT8+bNxTaRkZEi3iwlJUVPEAGck6ur9gkVx7t0SecSQN/IG9a9e3exnSxGL1y4UKTe5f9x7/r27UvR0dHimDhXWKdkSxv6btiwYVGcFc4Dohdg3YABA6hZs2YUFhYm9sexIAxxbaBOnTpCYJZ3MBAsP7eSph/4VMRCqX+Y8OM8WfNj7+OkDTgGCHD/76Evi7bFYIFtRtYbTtXdg8QTOoLdwzxDRWAv1h1MOVj0pI4Yqj6hvcjRQRt0DLfjP3Z9QLl3dVbWvmG9RZ/oA/1hW8y6QlxXq8CWwp2JQGEltbxqicGpNPjp3C90PvuC1CJq7B1N/4yaIgQW3IKwEPk5VqWGXlHU3b8rnc06R9fztQ8EeffzxOAa5RUp2mBdygbadG2z1IIQ86QPoyZT12qdydfRhxwrOArhFuxSnbr6dxFxW0guqqZfUF9ycdC663EMWFTOZp6j2DsnxTrQK6AnVXH0Fe+VhsACy04up1Xxq6WWRpBqBtwv+n8uRBZEE+JokGIhxCeE+kb0oZzCXIpPjZe21oEZgRBHQFxfBQe6lXOT1pxaJ9aB1iGtRFJSvFdB8zumBNneUzK11nqIvGeajBTLJQ1+P3F/8V0/dv24tFYjpGr1FRM3DN17iDH5b6q6e3UhnGQyNA9Bqy9o3VMy+Hv4T8dPxd8YgujxN4JA/5oeNalDcHvadGlzUXLT6znXqV+tJ4v+5h4GBJJvOLtRahE1D2pGEX71pRZRwo0EOpB8UGppaeTfiL7o8zk1DWwiUj7g3uPzjvCLoPqafTed0333EafXv96TUkvLjP3fC1ehTHWPINFf11pdqKprFSG48L0I9AikjqEdKLxKHdqXtF/zkKHv9WgS2Jiiqun+7h6UjUc30bmr+g86o7s/R19M/Jzq16gvBJZjJUeq4lGFOkS1F799h8/qrM5uzm7UPrKd1NJanF78ZhLdztaOL6BTw440841fqblGjPl6+Ir+vFy9KDwonAa3HSTi4Q4lFI//GtJusBBkMl0bd6ULKYmUdF1faJ2+fJoW7FwoliNDIqmiw4NrDVvywO5CDNDVquluhJqkpCQRDK80/VnLuXPnivJsQThAdEAsyMICINYIAgkiyBpq1aolLEHKvmTglpTPGxan/v37F4tjQvwUhIypoHU1EIhKYQQg4NTJWpEOA+IPQfEy2KdNmzbC0gVwfrJrFMhCFMCSJlvTZHCeEHcdOnQQMXOPwqxPCJUXN75Mv8b+RtmF+gGkAa4B9EGrf4inXzwhK4GbTmntQpxVSxMz+xA/MiZSlywSYmr3lT1Si2j75Z16gcKN/aLp5eiXjAbch2gGkcmt3pNapQ/E0t4bOittoHMAvVXvDT3LlBIIrr/Xf6fIwgS2p+0oGlDx/8orOgGCwffNeq9TmKvW4qEG748OHSVmCZYHcH0Lji2SWtrz/7DHZAqvajjIGe+/3OZFahtSfIYdo2Nq2ynib8EQeMiBoJPBZxBnZCKJrcFMv4+7f0QeGlFlCMRgNfSPklpEibcSKatAF8gP9+BGhQhDmot/9ZiuEVrGZ9G1Cm5Jr7d9VWrZnm4aIfPO0LeFsDfEuF5jhUiSOZygmw0LtsRsoUtpOoMCLGJfvfgluToZdolDxL/05Is0tJ35WDsIrh9f/Z5+fu0nqh1YW1qrJTc/l75Z/i31+3CAQcucPfDAIgtWJYiMiRMnitfo0aOFMIBAkIE16/Bh/Q/DGuBuk4Elx5SoQ1A5rEOWgkBzQ8CFh9glmXbt2hm1xkG4GOtHDUSSsfOD1UoJ+jQk/nAeyhmbsBrKyOILwNoF96IafLFxDiEhWldLeUUZd6WO63Cr5CpmJP3UYwa1CdR3pwI8kW28qMv2DG7n3xZuEVMv9eynPVd1ImXPlb3SkhZ5tpUp6njXoc7BHaVW6bL52laNxNRZ/BwrONG6q+tFqgRjr/UpG8UsRBnEZyVla58sL2QlioB3mdZVWlGEh84yYIxxYWOkJfsm4XqCCHiX6VS7IzUK1LkzjIGcVoxhkK4E7nRTwAqtxNIZjyXN2CbPC2FkiobVdCILKOOudl3arRej9mz00xTgbv4ht2tYF4pS9WsrJvQ2/ZvlXNlZpF2QSbutH+ay7tB6aUnLh89Mtsiy9M6wt0XfltAmojUtmbyIpmj6Vs9wvJp+VbhAR302mk5eKhsxbowHFllqMMgjHqtfv37C2iSDIGtloDdccIihMvRSb4fAcZm6dc1PW7VkGxnZpacG4kQ529CcxQfuOEuAkILIMYTSGgZxZSpWSnneyhgtWL1gdQO4jwhwRzwYZkU+jDXRnkDc1Xcx39Mrm1+jY2k6FwaA1QjuhJk9fxaz9uTcPWpQxFYN0i3Miptj8qWMSwGIx5CRUzAADBw13IOllmkwm7AsuJSjb3ZPzE6kPy7NM/uSZ47JXJeEFdIwKGlfta20ZBq4/Bp46vIl2Stx1/Tdft3qdJGWTOPn5kfRgVxSzBAhnuZjdtX56eByLAtCvQ1bZJUgXksJ0kPInEzVDfqwcnar1VVqmadnndKZSRceZD71BFx+Mkq3IED6B5lQ/xCKCrVMHMLS1b1JN6llHljahncYRmunraZxPcdSpYr6M71jzsXQiOkj6b3/vS/yfNkDJSaylMANJ1tWIJ5ktxbiiObO1Qxos2YZfP32229FweaIP5LFAVyCyjxTxrA0NQHiooyRna1zO8mixRQ4NwTOmwPbGUMpviCyjIkxoLRwKQPZAdJEIHcYwHuwBGIm4uzZs0WMGVy45RXURsPU8rWJ6/VcfQBPxT92n0EvNZoo4p9MkZJl2YwmcxRKuV/gpkTeGxk5KNgSwn3M/7DZgvT8krEIFP6lfRhJzdM9DIFQKSjdEuq46Zv/7ZGrGfrfmdpVLD/n+tXsIyO7vaFM1moMtbtdjoksbSpZYJExda6YZSqD+CtfF8vGKYDYrNJALVYM4aAYe5Txz1m5WZSeqftNiQqxzvoWUdP6By3EhL0x+HVa/c+V1LNpD2mtjpX7V1HP93vTr+tn6p1rWWATkQW3ltK1h9l4AGkVlNYXQ8guQqX1xVhOKDU4riE3mxpj7j8AUSgjCxZzWHp+tgYWsEGDBhVzB8KyheB6TCJAygljMyPtFSQLVRefBcgKPb3dNJraZjJVd7Ms8W3OXfNTsc3hrXnCHheljdFSBrsDa7LDV65QmVwrGbao2pJcxYzCBwHZ31v4NKNmPtqJJbn39P+mPSvr14YzhXdlfQuAPZJToP8Zq60WprBmQGUeTZQpHZAjzRp8ne3/+5OVpx8PW9XTvNFBiZ+V2ysJ8g2i/078nH5/d24x61nh3UL6atnXNH3+p9KassEmIgsoY4TkGXhwrSmDudVAICGIHSgFDoSZJWoU26mtO9aiTESqzsllDHVOqrIEFj8Etg8bNkzMrlRb4+CCRU4upZi0d5TuOBlU9/+0/ScU7WedO0b9xPnPth/S2sErrXr90XcONffXBm2rn8gxa85SYJFTi7TSQHkPYEla3Ha+Va+Fbf+kv9V/myo9of0bVbtmrbkHyhQS9orakoGM75aCtA7M4w3SVMhY890BmKVq76itYNkq0WWO7PyH/w2IDmtEf777Ow1qM1Bao2N33G5pqWywmchSznZDWReALOkjR44sCpZXv8aPHy/SJADEKclCDQIL6RLMYck25lCKQATum4tnghBTJiC1F5BHDCJr6NCh9PTTT4v7Krss4RJFRvnyQouA5iKWQQnSH0zY+CKtvrDWKjeC2spyLVvf1WUtHpU99ERGarblcQA3ctLLxAXiUclDWtKcb36amLn1MHhX1rfepeXpB8WawpptywpflfXhmpRCwRLkdAvM44vSeoUJFNb8zadmPdzvU2ng6aL5DVQ8iFy+oXOPWsKVG8XjZK3l7JWz9NK3L9OyvfoJnkGzOrpUTmWBTUQWZr0p0wtYErNkCOWsOyQHNQdK1jwssARBDAIEwCONhCnsRaxA1CLTuyFXIAL4GzduLGZKysipMcoDKCb7WcdPKcRD3w2aUZBJ3x/7kSZtfpWOpOoCL02hDrhVzwy0FliFUINN5vj14wYTjRpif8oBaal0qeGiO9+MwgyjGdwtRS7WLHPklmWfBSx5+9PL5h5YQ60qtaQlLfsu7ZeWTIPM4jvO75JazONKbR/d9wdJSw9fsXycQlJSewcCq44icP7gmYOUkWN5SApydj0oqbdTafLsKTR42lCDFqth7YfSB0/rkuKWBVaLLARPI7N4slSmRg2ECd6XQTC6JQHkhoiI0AXEIamnKaGFVBGG0hY8CEjUKbN///6iBJ5qICQhbOwBBLijhiLK6hg7X6WVrqyDAa0lwrc+fdftK3qtyf8Vi3tC+ZzJe6bSlD0ficzSppCTjMqcuB5rcckOzCicd3oB7bqi/8fc1L+JtEQieeL6i7pEh8YovH+XFieUbN05S4n21nexLk0u/vRnDJTBWZC0iG4pijcjgWlFRRmWLde2WeQy3Jm2W2SBt3caB0XruYWRONQSt8/mhM0WlWNhHm1aVG8hLWmZH7vAIutxeu5NWnl6ldSybzpE6grbIxZqzua5Uss0u07upgspuqTIlgKX5LcrvqO+k/sJ65V6POvVrCdtmL6OPnx2il5+r7LAKpGFC5FLt6xdu1ZkfIfVCnFQiEtCiR2UwJGzkmOWnLr0izUg55YyLQNmHuL4shsPAd0QOhs3bqSjRy17erYEJAeVBQniyRAsDoGHa8Q9QCA/xBWEzcPGgJUUcjA/zhe1D0+fPq2XEgPCC4JRpjyW1EHANYo0/9rzJxoaPrhYLNDh1CP00uZX6IfjP+vN+FPTK1RXOBw/dp8f+pJu5Zl2+V7PvUGvbXuT5sb/Qf868B89yxnK4SjdmbNPzhXCzxSz4+bQDU2fZUET72hRQkcm5tYxWnHF/I85Stt8euoz8f9/Tv9XWksiiWmbKrrEmyjH81vibJMDSVr+dZqVqF+zzF5BFvIutTtJLc13Ies6fbv7e5PXB5fijD36deeYx5PogEZ6iUdPXIulP47Pk1qGKdA8rH26499Sy/5BlnZlItNf1v1KB88Uz+au5NrNazR5zhSpZRl3790VJX56f9BXFI7OK9B/mGtcK5r+/Pvv9PmEz0RQvD1glciCaFIGtCMH1oIFC+jXX3+l33//XZR1UbqrkFQTSUIfBmQ5VwoCCDxYa2bOnClSPqxcuVKUzClJIFhQukcpXCDwcI2//PIL/fnnn8JqZE/5p3C+cuwbgtp37twpUjfMnz+f5syZQwsXLiwSv5gNKU8wKI8g6H1s5PMi4ai6DA3iHVadX03jNkwU5XbUuZ0AhJrSmpWSnSIE1KFrhw0OnMgs/7cd/6C0HF38kLLgdKBrAPWvpSujASvO29vfFbMi1f1B/H1z9LtixaFLE4jT0aHPSi0tcy/+QT+f/5VuFxa3gsKl+PP5mcKCJaNOA/F0zaf0MsZvTd1GX5351mB/KEz93vEPKOuufoJXY2AWphKUMSptxrUcK8SWzNrT62japk/oZk5x6/nh5CM0acn/6eVKMkXlivpP2vl3LXM3lwYoH6PEns6tvICQgldbvyy1tMw6Opu+2vuNXi1DGWSMf3Pd2xSTckxaY/8E+gbS+F7jpJa2zM7Er1/QCKJ5xYpFw1CxI3YnPTV9BN24Y/mD5uaYLTRg6iD6ZN50uqlIGQGCqwbTly/8l+b+bQ41DDWfKLg0sbp2IWrtoU6gqZl3GMQ7d+5sVQZ2YyBYG+47WMxMBZhDYKBsjVwrELMTEYckg/QRssgIDQ01a8lBHFNwcLBwjyqLU6vBMfC+fD8gXuQZijhnOXs8jofjGgJfOpTyAThv1Cs0BmYHygH+iFmTM+xjogDOF7FW8mxH9AuBqLRoYTuUIELh6PIOcmKhPhpits7dPi/ceTIF9wuFtWln8i6R6qGai67MEOquRVeLFsWf4bYDCKTffnmHZt1Wik+PF0Vq96UcEIlKV5xfqVe2p45XbZrQcDxVVDy5RVWNol2aY2VKmeFxfBwbBaHP3Eyg2BuxtCZxnbCynblVvFA5KM3ahTVcgkUG9/NZOlM9ltdcXUdxdzTXn3Fa/L/x2mZhlVImHIXV7sXaE0QfMi4VXURAPdyJMpdzLtPaq+vFvqhTiFI+85MW0qqrayjvvuHBWlm7UAZlgJSxW8jLBTdjcm4yBTgHFLNo2gK3yq7k6exJey/qMv0n3rxIS2OXU1xqHMWnnqJt53fQbwdn0cLjiyhXUTBYibJ2YRGah1dl2Z6rGdo6rOfTL5CXi5c4tkxp1S6USctJo92KuEUUOcffCup/BrkH6rlRraldGFU1khpq/mZM8SD7WIK1tQuRENTfzXRSanP7BLgHiPsWn3ZKWqPZJ/0sLTu1XLNO8/d2/RTturib5p2YT78dnSUmxRjCVrULJ/V7SVoyjrl9mtZpQnvi9xYlAcUDL9yBi3YtphMXTtCx88do5YHV9OXSr4Q1KleVGkVGXbsw8dpFevX7V2nWptl0J1tflKLG4muDXqV/jflELy7MnrA6JgtB4YMHDxYiCoM6xA1SLyATOQZ8WJ4wg9DSTOiWAItSt27dRO1C1BzEsXBMCBLU6ENy0REjRuhlQ1cXP4bbEQID8WGWlpWBMBo+fLjoH8fB8XBc9A0BiZl7mLWHeoR4D/0q488gghCThuOashxBlCJLPq5TXcdQDYpZw5WJF5aV4NjIkwWrFs4F54nzhfUR549zfeqpp8TyowTSOMzo+g29HP0ieaiSkV7Jukof7J5SzB0I69PUNlPIW1E4GsiDyorzq2hd4nq6mKFvJQ33rkOftJ9GjqonfLSntfuIglT5unD8bZe308rzq4VFTBkU71apbAt0jwkbTV38dG4wgPIfJ+/ECUvU6qtr6eDNQ3rxVXDZvlznRWqrcA/KdKvWhUbUGC61tMCSCHfk+pQNtD1tJyVphJe1IOargsIdC/H324VZNOPsjzQj4Qdpre15sn4fGttCV8MSFGrE9IGkQ7Ts5AqNANqoEV66klyWgmLToT6636Rrmak0Y++P9MXOr+ilJa8Iq0BZAVGDz1wGMYw/ah4UkLfui8PFc9cxxpnQbBz1UxWOLrxXSAeTD9GKUytp/dkNdOq6fnyoq8J6CpQPdvYGAuC/e/lb4bJTAqvTppjN9PvWP2jtwbV0+br+b4A6BYRypmJOfg49/ekzFKMRaEqwDwpar/9kLT3XdZRFJXzKCqstWQBuQ4gHWJggCpo0aSKEBoQMBnDZzVbSQOBBvOFYOCasSBA7KH0Di5cy+B0WN6WYggDDuSKY3przQ7/oH8fB8XBc1FFE/xBPAPcC70EAKrO14zg4Ho6rFn1q0B/6MFfGB6IWx8dL6bqVwfEhtnAu2AbnC8sYzh8i2FTm+fIMrhsCqFdoLxHPcPb2uaKnajxRIW7K01Hfeufn4kdda3QWwfIQQ6bAQDOs7hB6q9mb5FxR65ZV417ZjbrU6ESJdy4Wq6moBlnqP9aIsjUX1hXVNWvi11gUly4t4MZo7tuMqjn5UXzGKbNuuGCX6vRexLvUxFtnIVYT4VmfAl0CKfb2yaKM8IZwq+hKL9Z+gWq71aLYOyfFOgipp2oOL2aZcnJwEpYvdfke4K4Rql2q6QtFW4KahcHewXT0Soz4nhnD3dGd3un0lsj4fiRZG7+H+z1GI9KUeZNk/Nz9aMvZrVJLBwbhkY2fKrIY7bt0gC7e0lrrkT18SMPBYtlWOGm+68jlZmhyCCzJPUJ0JVFWXVhT9BARUSVCzyr7F92nJWeXSS2idkFtqK5PuNQyDGafLrVyH0vADD9lQDnK3IT56IwC17Ku6c3qGxY5lLydTScZTslMMbsPPn8UfkZKh+MpJ+iuZEU3BKzt6GNo5BDaemGbtJaoY2gHquP78BYbxEvJNf48XT1FiRpzHDhzkOLM7OPi6Ez9Wj4pLE5xSaZn3nu5eYk6hDX8gkU5HJmxPZ4X/YOM3EwRe6UEGd6/mfQ19W7Wq8yD2i3hgURWaYMko3iZyqyOjObKYtQIuFfOpmMeD+BCaebflNpXbycCy1FUtndoT+pWw3C9OQwinYI7igEBsV4QZnl384UFBn3V8AjWCKfO9Fbz16l9UDvNj59p4y/26awRWrAAQG7jBz1PM/BAOPi5VKU2Qa3phYYTaHjdoaLoLAYquCZDPEPohUbjzRaitQVIwdA7sCf5O2seVjTXV6i59kKN4PpLo1E9K3lSpFcEDQseIgo6+zqaz0ANN2J3/27CfYj7CNceBhT3im4U5hZGfQN70/+FvywEVpBLEJ3KOE05mm2eDXmaIjwMhxg09IoS55JecFNk7YfoQBHqibXH6eX9Kg3CfEKpX0Rf8nLyEteFjPB37xeSh5MH1a0aLoTPe13fpXp+damGRpCdSDlJ2QXZNLHVeGoUYNjdFexVnSIDGoig+oy8TCEwcJy3Or6uZ+UK9tIIvOQYYaF+Q/Me9rM1jatFi1m5+HuC2xwiEa67VxpP0jy46O49spPH3jgprMSTol/QK3GFvzM87Jy/fUG498dEjtb0Y7qiBh5m8ABizT6W4OXkSZkFWRqxepGaBTWl0Y2f0wvahhv0bPpZSs+5Sf3r9aMetc3X1gvyCLJ4n/Aq4dS3bm/ycvYU3x/MVIVF1KWSsxB7ver0pHfavy0E1faLO+lYiq5OK0SXv5vOlfaghFQLof2nD4jP5P0R/7DI1RZq4T64lx2iOlAvjQhC8ef8wgJhkcIkMS9XL4oOi6bnuo2iac/9k5ClHaVv5FxZsEi9NeRN8f0GEG14gIa4a1y7MX024d9iX7gJywtP/AXnvx2DeCIEmkNkwT0JCw2C6WGZwqlj1hxm0sXFxYk2gFWoZ0/dDDKGYRiGKU9AzDy/ZBxdzdRa2SEwlz6zqEwexGzF5evJ1Hfyk+JaAVyNCF5/lCgXIgtFpU0FnytBQDfikuylniDDMAzDAFjK1dUrjPHbkf/RnyfmSy2iDiHtaUrnD6SW/QLBBNeoOZCOYfyXE+jwWd1kmfdHvkcjO42QWo8GVge+lzaIa+rYsaNFogkxWAMHDmSBxTAMw9gVKJHz3OIxNHz+SJp77Hcxy9EQSP3x9b5v9QQWRMuz0U9LLftlZ+wuavNGOxoybSgt3r2EsnINp2lBAtJxKoHl7+NPg9sOklqPDnZvyZKBRQvpEBB7hVQMSJkAAYaAcgSLIwi/WrWH91UzDMMwTEmDYPtv9n0ntbTU9KpJtX1rifg+TKS4knGFYlNPigkPSp5vMpqebWT/Iuutn9+mDUd06TEQY4W4qxC/muTh6iFE1+nLpyk+6VRReA9AHNcvr/9ELerqZ8d/FCg3IothGIZhyis3cm7Q80vGiok11jAoYiC93NJ8Hit7YMuxrfTaD69LLctAOobpYz4RswUfRVhkMQzDMEwpEJcWT1/t/ZoSb5mvUuLj7EMvtphIXcI6S2vKB0t2L6Wvl39TLCu7IRrUjKApz0wR/z+qsMhiGIZhmFIELsE9SXtFBvjkO8mUVZAlZg9WcfUVebBa12glAt1LImVFWYAi0dtjd9DOEztF+oUr6VcpNz+XnB2dqXqVIGoU1kjku2pZr3QqXJQlLLIYhmEYhmFsgN3PLmQYhmEYhimPsMhiGIZhGIaxASyyGIZhGIZhbACLLIZhGIZhGBvAIothGIZhGMYGsMhiGIZhGIaxASyyGIZhGIZhbACLLIZhGIZhGBvAIothGIZhGMYGsMhiGIZhGIaxASyyGIZhGIZhbACLLIZhGIZhGBvAIothGIZhGMYGsMhiGIZhGIaxASyyGIZhGIZhbACLLIZhGIZhGBvAIothGIZhGMYGsMhiGIZhGIaxASyyGIZhGIZhbACLLIZhGIZhGBvAIothGIZhGKbEIfp/5ADmRGYs8s0AAAAASUVORK5CYII=)\n",
        "\n",
        "- Вектора для n-gramm обучаются с помощью Skip-gram / CBOW\n",
        "- Вектор слова - усреднение векторов n-gram\n",
        "\n",
        "[FastText](https://fasttext.cc/)\n",
        "\n",
        "**hashing trick**:  n-gram очень много, поэтому зафиксируем максимум векторов, которые хотим обучать, сделаем хэш-таблицу, куда смаппим все n-gram'ы\n",
        "\n",
        "![image.png](data:image/png;base64,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)"
      ]
    },
    {
      "cell_type": "markdown",
      "metadata": {
        "id": "GM-fuQN5kWAA"
      },
      "source": [
        "### Обучим свою FastText-модель"
      ]
    },
    {
      "cell_type": "code",
      "execution_count": null,
      "metadata": {
        "id": "u9sabmk2gzBD"
      },
      "outputs": [],
      "source": [
        "!pip install fasttext"
      ]
    },
    {
      "cell_type": "code",
      "execution_count": null,
      "metadata": {
        "id": "XfNzbIuug0mn"
      },
      "outputs": [],
      "source": [
        "with open('data.txt', 'w') as f:\n",
        "  f.writelines(data)"
      ]
    },
    {
      "cell_type": "code",
      "execution_count": null,
      "metadata": {
        "id": "QP2agDlJg8zr"
      },
      "outputs": [],
      "source": [
        "import fasttext"
      ]
    },
    {
      "cell_type": "code",
      "execution_count": null,
      "metadata": {
        "colab": {
          "base_uri": "https://localhost:8080/"
        },
        "id": "pYMBYLypgZEc",
        "outputId": "eeced066-4f0e-4b94-8004-9bc5a877322c"
      },
      "outputs": [
        {
          "output_type": "stream",
          "name": "stdout",
          "text": [
            "CPU times: user 7min 9s, sys: 2.16 s, total: 7min 11s\n",
            "Wall time: 7min 24s\n"
          ]
        }
      ],
      "source": [
        "%%time\n",
        "\n",
        "model = fasttext.train_unsupervised('data.txt', wordNgrams=3, dim=300)"
      ]
    },
    {
      "cell_type": "code",
      "execution_count": null,
      "metadata": {
        "colab": {
          "base_uri": "https://localhost:8080/"
        },
        "id": "ax0sxMDWhKbP",
        "outputId": "a1a31d8b-292b-4a9c-884b-dbb9599a495c"
      },
      "outputs": [
        {
          "output_type": "execute_result",
          "data": {
            "text/plain": [
              "['около',\n",
              " 'чем',\n",
              " 'The',\n",
              " 'После',\n",
              " 'них',\n",
              " 'российских',\n",
              " 'является',\n",
              " 'данным',\n",
              " 'ноября,',\n",
              " 'бы']"
            ]
          },
          "metadata": {},
          "execution_count": 38
        }
      ],
      "source": [
        "model.words[100:110]"
      ]
    },
    {
      "cell_type": "code",
      "execution_count": null,
      "metadata": {
        "colab": {
          "base_uri": "https://localhost:8080/"
        },
        "id": "E3KzHvOyhVC7",
        "outputId": "5d627efb-d9ec-4665-8b11-e7cd670922e2"
      },
      "outputs": [
        {
          "output_type": "execute_result",
          "data": {
            "text/plain": [
              "array([-0.38174158,  0.46940985, -0.10385878,  0.22877087,  0.0838922 ,\n",
              "        0.39588752,  0.10838367,  0.04254621,  0.23738247,  0.13604161,\n",
              "        0.32083935,  0.26735497,  0.08533647, -0.00485045,  0.3022698 ],\n",
              "      dtype=float32)"
            ]
          },
          "metadata": {},
          "execution_count": 39
        }
      ],
      "source": [
        "model.get_word_vector(\"россия\")[:15]"
      ]
    },
    {
      "cell_type": "code",
      "execution_count": null,
      "metadata": {
        "colab": {
          "base_uri": "https://localhost:8080/"
        },
        "id": "VrZQJIlRheHg",
        "outputId": "011fbf41-fc5e-48b5-ae66-d98766596566"
      },
      "outputs": [
        {
          "output_type": "execute_result",
          "data": {
            "text/plain": [
              "[(0.8827095627784729, 'россиян.'),\n",
              " (0.8822407126426697, 'россиянок.'),\n",
              " (0.8799313306808472, 'россиянок'),\n",
              " (0.8675196766853333, 'россиян,'),\n",
              " (0.8671939969062805, 'россияне'),\n",
              " (0.8650916218757629, 'россиянки'),\n",
              " (0.8555282950401306, 'россиянам'),\n",
              " (0.8497037887573242, 'россиянке'),\n",
              " (0.8479588627815247, 'россиянку'),\n",
              " (0.8388267755508423, 'россиян')]"
            ]
          },
          "metadata": {},
          "execution_count": 40
        }
      ],
      "source": [
        "model.get_nearest_neighbors('россия')"
      ]
    },
    {
      "cell_type": "markdown",
      "metadata": {
        "id": "XC9HPNashNA5"
      },
      "source": [
        "## Имеет ли смысл обучать свои эмбеддинги?"
      ]
    },
    {
      "cell_type": "markdown",
      "metadata": {
        "id": "lIb3Gg0avqim"
      },
      "source": [
        "## Предобученные русскоязычные эмбеддинги"
      ]
    },
    {
      "cell_type": "markdown",
      "metadata": {
        "id": "2TM7UmFy2FtJ"
      },
      "source": [
        "### RusVectores\n",
        "\n",
        "[RusVectōrēs](https://rusvectores.org/ru/): семантические модели для русского языка"
      ]
    },
    {
      "cell_type": "code",
      "execution_count": null,
      "metadata": {
        "id": "wIJ3rN4h2Fej"
      },
      "outputs": [],
      "source": [
        "import urllib.request\n",
        "import gensim"
      ]
    },
    {
      "cell_type": "code",
      "execution_count": null,
      "metadata": {
        "colab": {
          "base_uri": "https://localhost:8080/"
        },
        "id": "138mykiR77j1",
        "outputId": "0a196dda-5159-4340-a62d-702541b1bd04"
      },
      "outputs": [
        {
          "output_type": "execute_result",
          "data": {
            "text/plain": [
              "('ruwikiruscorpora_upos_skipgram_300_2_2018.vec.gz',\n",
              " <http.client.HTTPMessage at 0x7a01069f8130>)"
            ]
          },
          "metadata": {},
          "execution_count": 42
        }
      ],
      "source": [
        "urllib.request.urlretrieve(\n",
        "    \"https://rusvectores.org/static/models/rusvectores4/ruwikiruscorpora/ruwikiruscorpora_upos_skipgram_300_2_2018.vec.gz\",\n",
        "    \"ruwikiruscorpora_upos_skipgram_300_2_2018.vec.gz\"\n",
        ")"
      ]
    },
    {
      "cell_type": "code",
      "execution_count": null,
      "metadata": {
        "id": "0QeRjzbM77ng"
      },
      "outputs": [],
      "source": [
        "model_path = 'ruwikiruscorpora_upos_skipgram_300_2_2018.vec.gz'\n",
        "model_ru = gensim.models.KeyedVectors.load_word2vec_format(model_path)"
      ]
    },
    {
      "cell_type": "code",
      "execution_count": null,
      "metadata": {
        "colab": {
          "base_uri": "https://localhost:8080/"
        },
        "id": "9E1rl0vo77pq",
        "outputId": "009d5858-b9eb-401e-e053-62d0565a5d19"
      },
      "outputs": [
        {
          "output_type": "execute_result",
          "data": {
            "text/plain": [
              "[('ночь_PROPN', 0.7704508304595947),\n",
              " ('вечер_NOUN', 0.7683228254318237),\n",
              " ('утро_NOUN', 0.7520124316215515),\n",
              " ('полночь_NOUN', 0.7201331853866577),\n",
              " ('рассвет_NOUN', 0.6792924404144287),\n",
              " ('полдень_NOUN', 0.6637035012245178),\n",
              " ('утро_PROPN', 0.6531521677970886),\n",
              " ('ночь_ADV', 0.6248846650123596),\n",
              " ('сумерки_NOUN', 0.6227153539657593),\n",
              " ('ночью_NOUN', 0.6219336986541748)]"
            ]
          },
          "metadata": {},
          "execution_count": 44
        }
      ],
      "source": [
        "model_ru.most_similar(positive=['ночь_NOUN'], topn=10)"
      ]
    },
    {
      "cell_type": "markdown",
      "metadata": {
        "id": "zMfgsKjIT2HG"
      },
      "source": [
        "#### Проблемы\n",
        "\n",
        "- На практике использовать такие эмбеддинги неудобно. Недостаточно разделить текст на токены, для каждого нужно как-то определить POS-тег.\n",
        "\n",
        "- Таблица эмбеддингов разбухает. Вместо одного слова «стать», мы храним 6: 2 разумных «стать_VERB», «стать_NOUN» и 4 странных «стать_ADV», «стать_PROPN», «стать_NUM», «стать_ADJ».\n",
        "\n",
        "- В таблице на 250 000 записей 195 000 уникальных слов."
      ]
    },
    {
      "cell_type": "markdown",
      "metadata": {
        "id": "FVUZ6zag2Dy8"
      },
      "source": [
        "### Navec\n",
        "\n",
        "[navec](https://natasha.github.io/navec/) - компактные эмбеддинги для русского языка\n",
        "\n",
        "GloVe эмбеддинги, в текстах мало опечаток, проблему OOV-токенов решает большой словарь. 250 000 строк в таблице news_1B_250K_300d_100q покрывают 98% слов в новостных статьях.\n",
        "\n",
        "Архивы мало весят из-за квантизации: заменили 32-битные float-числа на 8-битные коды, затем заменили int-кодом не одно, а 3 числа. Кластеризуем все тройки чисел из таблицы эмбеддингов алгоритмом k-means на 256 кластеров, вместо каждой тройки будем хранить код от 0 до 255.\n",
        "\n",
        "При использовании сжатые вектора распаковываются\n",
        "\n",
        "\n",
        "[Navec evaluation](https://github.com/natasha/navec#evaluation)"
      ]
    },
    {
      "cell_type": "code",
      "execution_count": null,
      "metadata": {
        "id": "qMvrmJIQnFKx"
      },
      "outputs": [],
      "source": [
        "!pip install navec"
      ]
    },
    {
      "cell_type": "code",
      "execution_count": null,
      "metadata": {
        "colab": {
          "base_uri": "https://localhost:8080/"
        },
        "id": "t8ezhQS8TacM",
        "outputId": "37302e02-389e-4303-82c8-21181335111c"
      },
      "outputs": [
        {
          "output_type": "stream",
          "name": "stdout",
          "text": [
            "--2023-10-03 14:12:44--  https://storage.yandexcloud.net/natasha-navec/packs/navec_news_v1_1B_250K_300d_100q.tar\n",
            "Resolving storage.yandexcloud.net (storage.yandexcloud.net)... 213.180.193.243, 2a02:6b8::1d9\n",
            "Connecting to storage.yandexcloud.net (storage.yandexcloud.net)|213.180.193.243|:443... connected.\n",
            "HTTP request sent, awaiting response... 200 OK\n",
            "Length: 26634240 (25M) [application/x-tar]\n",
            "Saving to: ‘navec_news_v1_1B_250K_300d_100q.tar’\n",
            "\n",
            "navec_news_v1_1B_25 100%[===================>]  25.40M  11.6MB/s    in 2.2s    \n",
            "\n",
            "2023-10-03 14:12:47 (11.6 MB/s) - ‘navec_news_v1_1B_250K_300d_100q.tar’ saved [26634240/26634240]\n",
            "\n"
          ]
        }
      ],
      "source": [
        "!wget https://storage.yandexcloud.net/natasha-navec/packs/navec_news_v1_1B_250K_300d_100q.tar"
      ]
    },
    {
      "cell_type": "code",
      "execution_count": null,
      "metadata": {
        "id": "XjZ5cYQpTUvR"
      },
      "outputs": [],
      "source": [
        "from navec import Navec"
      ]
    },
    {
      "cell_type": "code",
      "execution_count": null,
      "metadata": {
        "colab": {
          "base_uri": "https://localhost:8080/"
        },
        "id": "vXC-8RP7vqLU",
        "outputId": "130b93b3-f57d-4944-cd1d-4b9cdd66d2a2"
      },
      "outputs": [
        {
          "output_type": "execute_result",
          "data": {
            "text/plain": [
              "array([-0.13068067, -0.12051002, -0.05782367,  0.07967507,  0.08338855,\n",
              "        0.59920526,  0.4020081 , -1.0838276 ,  0.12556174,  0.17060532,\n",
              "        0.16637331, -0.00257014,  0.51296437,  0.17175263, -0.40394753],\n",
              "      dtype=float32)"
            ]
          },
          "metadata": {},
          "execution_count": 48
        }
      ],
      "source": [
        "path = 'navec_news_v1_1B_250K_300d_100q.tar'\n",
        "navec = Navec.load(path)\n",
        "navec['человек'][:15]"
      ]
    },
    {
      "cell_type": "markdown",
      "metadata": {
        "id": "7uvZzz5k9P6y"
      },
      "source": [
        "## Оценка близости векторов\n",
        "\n",
        "- существует много разных способов измерить расстояние между векторами\n",
        "- но в NLP мы чаще всего сталкиваемся с косинусным расстоянием\n",
        "\n",
        "![image.png](data:image/png;base64,iVBORw0KGgoAAAANSUhEUgAAAa0AAAF6CAYAAACqbQegAAAAAXNSR0IArs4c6QAAAARnQU1BAACxjwv8YQUAAAAJcEhZcwAADsMAAA7DAcdvqGQAAJP2SURBVHhe7Z0HgBzFlb+fcs45opxFFBmByDnZZBMMZ5wwNrbvfMn23+d49tk+2+dAsgERBCJnEEJIIBBIQhIo5xxXWavNK/37e9010zM7MzubZ2bfJ/VOd3V1d3V3Vf3qVVVXNVm6dOlRMQzDMIwsoGnwaxiGYRgZj4mWYRiGkTWYaBmGYRhZg4mWYRiGkTWYaBmGYRhZg4mWYRiGkTWYaBmGYRhZg4mWYRiGkTWYaBmGYRhZg4mWYRiGkTWYaBmGYRhZg4mWYRiGkTWYaBmGYRhZg4mWYRiGkTWYaBmGYRhZg4mWYRgNxuHDh4O19Dhy5EiVjzFyCxMtI2tZunSpLFiwQMrKymTTpk3y4YcfBnvqjqKiIpkzZ45s2LBBysvLZeHChfL5558He3127twps2fPlgMHDsihQ4fkgw8+CPbULQ3xPKrLjh075Nlnn5U333wzcIly9OhRWbt2rbzwwgvyxBNPyOuvvy579+7VfSUlJfLee+/Jk08+qfdoND5MtIysZdWqVZpRIx5bt27VDLuuKS4u1uts2bJFr8v1CUeY3bt3y/z581WwWFivDxrieVQHwvnSSy/JsGHD5Atf+ELg6oMl9dFHH8k777wjJ5xwgtx00016P9OmTdP9rVu3lssvv1xOOukkeeONN+Szzz5Td6PxYKJlGEa9sWvXLpkxY4YKEkvTprFZ0MqVK2Xu3LkyceJEGTx4sDRv3lyOOeYYtV4dTZo0kVGjRslZZ52lVqxZXI0LEy3DMOoFrKh58+aptXTssccGrlEKCgrk448/lp49e8rw4cMDV/84rK14Ro4cqX45prS0NHA1ch0TrRyHUijtAv/4xz9k27ZtmjFQ0n3ggQfkueeek/379wc+awbVYNOnT5fJkydrewNVNyyUmjOJ+noe1YX2KNrJeIYshGnWrFny6quvBj5qH9qJPvnkE3nqqafksccek4ceekivl5+fr/sRjRUrVsjTTz+t7/eRRx7Rd807D0OVJNV+PN+///3v8vDDD8e05+3Zs0fWrVsnI0aMkDZt2gSuUTZu3KhVq2PGjJGWLVsGrqLhwLqKp0WLFmpxcd3t27cHrkauY6KVw5AJ0J4ybtw4OXjwoKxZs0Ybsbt27SonnniidiYgs6opZEZTp05VAbjuuuu0HaKwsFA7KLRv3z7wlRjaN/72t7/JX//610oXMsz4jLIq1NfzqC5YC7TdEMZzzz1XvvSlL6nFgSWBcNQFXPOtt96S5cuXy2WXXSa33nqrDBo0SNavX6+dToDw4Afr6Pbbb5crrrhCO0q8/PLL+s6BOMA2z/KWW27R83Tr1k07XDgoJHC9vn37Bi6xIGitWrWS/v37By5+pwyEDIFKRK9evVTQNm/eHLgYuY6JVg7Tr18/ueqqqzQTaNasmWY0lGKPP/54GTt2rHTp0kXy8vIC3xUhQ6LUT6aRDCyDmTNnatvE+eefL23bttVrIVZUA5FxpaJHjx5y+umnyxlnnFHpMmHCBM3UqktNn0dds2TJEm3TOe+88yIZe7t27fTZ9unTR7drG4SCggMdGzp37qzP5dRTT9V3ybWxPD/99FMZMGCAVscB74z2KCyc1atXqxuihUXkwst7uuiii+Tss8/W/UB7FuLToUOHwCUKhRyePb8UgFxBhQINhQvClgjiG1ZbuM3LyG1MtHIYGrFZyHgoNZNZ06jtIHOhJJsMMlBK2O+//37gUhEyLiwYMn0yLMAqwCLq1KlTwgwqDEKBaKSzxFcbVZWaPo+6hMx60aJFKk4DBw4MXP3vmAgXbTd1ARYVzwQhcnTs2FHfJ2KA0PAue/furYLmwMLhOKwnwMKioEJ1IJYh90N8wJ8DUUO0EllNXINPBLCC77jjDrXoWC699FK9TjLrjH0IJNczGgcmWo0AMh4ynNGjR2sGCLRjuIwlGVgmVE+5EnYiECyqZ/DrIKOl5I2VRUk4FVhqWHTpLIS3NkSlus+jLsGa3bdvnwpWOFOnaz3PEHGvbXiWCAnPIFn1G+JOJ4j4NigKDzxDPgGA7t27y9VXX62/WN60i9GeyfsFrsV5iCvumYchHFQdInKIn1v4PotzhKsMw7jzJeqoYeQmJlo5DlYPpWFKwuGqOkQFIaD9IhmU7mmjotSdDDJaSrpkMA6EjFJzOlVaWHN/+tOf5I9//GOlC50nOG9NqMnzqEuwNMi0w9VgPFvaanCrCzF1GT7PxIlLPM66cu1bDkSC46gCdlBwoR2ONk1ElvZCrC7gWpyLY1jiodCAsIXvEzeqLhHCZKLlxBCLy2gcmGjlOGTElFYRFZfBkGnQG4yquyFDhqhbdSGzI+MjUwI6ONCtmQwqnSqtoUOHyl133ZXWcuONN1Za3VgZdf08qouzFJwVQpjoAEFVJlVzdZUpIwhYS/Htls6ipYqXQgn7nRsQLt69K5hgKbEQDxD+a665RgsGFGAcPF+EyFlnYbD0uMfwfXIsHTnoJJPMYkfoOV9lFr2RO5ho5ThkLmQmrmQM9BSjAf7MM89M2sCdLpSoqQ6kyg0riDYNMitKzOmcG+FA3KgWqmwhg3Ul/+pS18+jupChc29UB5IJ04uRDJ7MGNGqKxiVgnfA9WifxKJCwBlCiefEu6ETBgLi2q+oRl28eLG2g1HoAEbfoJt8vCCFqzU5FyKTyFrmuSOOFHoAK5O4RPf4VJY+YSQ8xA+jcWCilePQI4sMmszg+eef129taGu48MILtdG7powfP14zXMaR4/yckxJ4XVVp1ZS6fh7VhY4GfHOEdXX//fergLl2wsp6YNYErsu9k/FPnjxZ/vCHP6ilfNppp6k1StsVvQDx9+KLL+ozo3cfFtGVV14ZqRbmXWMV8Y3WK6+8ot+XIVj0+nRwDoTJiV8Y7pFrcm2ORTQRRMKWysp0XeoRVqNx0GTp0qUN013KqBcYbJQSNN/OuCq82hYTLBaq3bAKKPnykSoZ8KRJkwIfdQOZKNe74YYbtKRPhn/vvfcGexNT0+eBlUDGfNxxx8kpp5yiGTiWCm1/Dsb/Y+w83Kjue+aZZ+S73/1usDc1WK0IBdVlr732mlbLUS2a6GPceKrzPBy8Q9rVEIhkzwMrDHHjPSM+8XAO9mMhEl5X/epgP71RES3avcLtoA4KPMQlwlCZVY1Vh8BxHTqBpBI3I3cwSyuHIZMh06PES0ZDRlDbggVkzGRA/HI9Mp26rNJyYOHR5oL4kEmGq6ISURvPg4wUK5LjuV+uH5/5kqFzDYSHherSdCE8HIN48e0RFkg6ggVVfR5h3L2keh6IA+dMJFjAOTgeP/GCBeznGzAsXUQ13EbmQHjocp9ONTDftVHdy3d+JliNB7O0chiqwqZMmaLVLIyMXR8wJQfVbZT2k/X4aiga4nlUF9q2sOKw5hgYNpdg5JG3335bq5a5v6oKDhYbo7vTDoc1j1VvNB7M0sphaMwmgVMdxqgCdQ0laDcyASNpYC1kEvX9PGoCFiEw4gQClkvQu/D666/Xzwxou6oKWMt0+KDjzLXXXmuC1QgxS8swjAaDNqyqWFr2XZZhlpZhGA1GVcWH9joTrMaNiZZhGIaRNZhoGYZhGFmDiZZhGIaRNZhoGYZhGFmDiZZhGIaRNZhoGYZhGFmDiZZhGIaRNZhoGYZhGFmDiZZhGIaRNZhoGYZhGFmDiZZhGIaRNZhoGYZhGFmDjfJuGEaVKD9yVHYfLJFenRNPBpkOnGPW4j0y47M9cuzgDnLt6b1lzop9Mn3RHunYppncdl5/6dWl+ufPBopLj0h+UZl069AycDHSwUTLMIy0mbN8nzz89mY5bVRnOWlYJ3nuw+0iVchBrj6tl5w6qou8NnenbNhZKCVexr1q22E5Y3QXXe/Yrrk8+8EOufHsPnLdWX2Co3KTLbsL5ZfPrJX+3VvLPVccI53atQj2GKmw6kHDMCqltOyIPPDmJvnb6xvlB9cNkbsvGaiZ7YHDZbJ0U77sOVQq54zvJhee2CNmmXRsN+neqaWs3HJY/e3NL9XzXezt+8blx6g1tftAiTRv1kTuvGiAJ15dpW2rptK0iXrLafp3byP/942x0r1jS7nvgWWyZOOhYI+RChMtwzAq5dHpW+TDpXvlN/80Wkb2b69uPTu38iyivtLCE5w8T3iKPWE71xOp8HKRJ07fuXqwnHdcNz3G0aK5n/Ws31kg/Tzxu2xCT2nmKdXOfcWeQB6Vft1a6/5ch3v+6qUD5eKTesh/Pblatu4pCvYYyTDRMgwjJSu35Mtrc3fJref1k95x7Uynj+osZ47pom1UL360Q9bvKAj2RCFjRrTatmoWuPgcOFwq27xMevSA9tK5vV81RlVhqxZNVcgaE9dP7OMVAlrKX1/bqLMzG8kx0TIMIyVTZm2Tzu2ay7lx1hJgMV0/sa/08jLcvYdK5SnPb1FJebA3yoCebWTcoA7SrnVUuHZ4VtX+/DIZ0a+dbpeWH1GB7N21lXTr2Lg6JyDs15zeS6sIF2+wasJUNLvnnnt+EqwbRtqs8UrEv39xvfzt9U3aJnH8kI5ayv7TKxu03WPuqv0ytE876dqhdhuXydQefHOTTJ6xRd5ZkCcfLd8n67YXaMZKVZRRu9DD7W9e6X/CiM5y1tiugWssHds2l5aedbRwzUHZtrdYunhW0/BAiBwtPXE7e1xXOaZn28BFZP7qA/K5l0FfdVovFan8wjJ5a36e9O3aWgb2aCMzF+/R8zRtUnsNXIe8azz6zmb5/Qvr5UMv7tBzEcPmcS8+/e9L6+XVT3ZKG88iHNK7rU7tXxkI7czP98hfXt0gL3iW5jsLd8uyTfkye+leWbDmgJw6skvgs3LoiPHKxzu93+ZywtBOgasRj1laRpVBOP4xbbOcf3x3LxNq45UMD8rHK/fLUzO3aTXQ1V6JcZ0nYE+/v01Kyo4ER9Uceq79/Ok1min+71fHyB+/Plarll6du8sr8TeClvsGYMXmfCk7ctQrgETFJhGTxneVk4Z30mrC5z/cIRt3FQZ7kkPnjK7eu+zZya9ybOtZYYjV7GX7tNMHBSEskNoCUaT6DZEl7m7cWahWzYNvbvQsyRbyTxcPUIF82isAbcmrvG2JzimPvbNF2/suP6Wn/PWecfKLO0aqBfmhdw99q9gu180r4CFYZmmlxkTLqDK0N3z/C0PkHC+j6ty+uZSVH5X3vVLx3ZcM8ErT3bRRmeqizXmF2rssFZu8zI2uv5XBuRDKYX3byh0X9Jf2rZtrBkNYyNYGhUrwRu2xdJOfgWJ5pKJVi2Zy0zl91bLmG64ps7Z6VlrFasIw910zWP78zXGR9qwWzZrKdzy3h74zXn5++0gZ1Kt23ykWFO1yN3rhHOgVtuix+P6SvdoFn+71k8Z3U6Ekzm7ZXblovedZWG8v2C1fPLO3V1jrrgLboU1zz2psoZZlVeMklh3PmZqDguLUz64xY6JlVBkEw6/OKZc9B0u1yoWquT5d/ZIlmQ+ZGN/dHPFK3slYve2w/MdjK+VHj6+qtGT+9qd5sv9wqVxyUs+YBn0a86nFQcyM2scVOrBOKoMMl++wMI7mrTwgsxbvDfakDxk/H9vWpoXl4Jz0SqSwQ0GpyIufgzzx4hsxR/s2zTTOVlZDQFx8fd4u6dWlpUwcF6025TjSBc+rb7eqfxyN6JFiDhWkLuw1Zky0jGqzxytRU6oeNaC9HOeVUB1Um9AYT3UPbR3JIPNo6u0me0qVR+3PL9W2D7pYDw+J05GjR2WtVyqlcX9AjzaBq1Gb8C6haZoicuEJ3WX8oA5apbh8c37gmlkgLLS/UhVHNWFYIBELqprDHUaoDv/3R1fIvFX7AxeRtdsKZNueYq2eDo9oQVyl+3+frq20GjvMS3N2yE+fWq37k+HCUpvV6rmGiZZRbTZ7pdXDReVy3OCOWh3i2LW/WEvolGpTldBpJ/nNXaPlV3eOSik6O73zIY50tw6PGoCVR4eQrl6m0aOTDYVTF7jvqagCTgf8886pJrz85J6Ba3JoZ/rt82u1cwSFkPpgnycs2/cVa/tZ2Bo6XFSm30lh7bhaA9i+t1ir61w1JqzdcViFZXjf2A4nazwxI67S1tu6ZVT4aOujNiFeEOMpK/fFKpyejFjsyRjVhgTKh6Xx7R3LvBI2VS8M81NZNQ9CVNkYdlS3UOInMwyfj7HqyFAYmSGd6iuj6mCNANWw6UA1Lr0Cbz6nrwyLy9ATccCzbHiHFDxq0ksQUfhw2V75w0vr1dpJBdejUEWhiWpsB5YTokWPRar9HIzq8cevjY0RqH35ZRoXETgHtQvvLMrT6sX43pP45SPrf79hWIXv1cLs98LFU+hg8TkpJlpGtaCRnR6CfAjqMjbYe6hEG7fJEE4blX5331Q084SRRmrayBy0h727aLe6kznWJMMzkjN2YAf95V1XBtWBz87eLmeO6aqjYaQD1vjv7h6j3d6rC982/b8nVnkW2zpZtfWwlFdisW3YWaBd+XuGrHNEjy72R7wohoVIuyyD2T7iWYA/m7JanvPuKwyFNT4CLg1ZoHR337CjUC2p/qGegzy7372wTs+TaqgmzoffIV7aSSVsjR0TLaNaUNKkay9VJAeDRmMS+eR3t+o2Pfxqy/qhJ2In71wIFd3rP/EsLLol8y1Ly+ZNtDHdqBtGDWinVgJth6mgYwK9O2nfuWVS30i1Yiqme4WOXz6zxreO0rTk4iGTf++zPRrfGPuwMqiCRNhg90H/mggWBSC+t7rmjF4y9hhfqOlwdOrIzrJ8U36FNtdBvdpogemj5Xu1B+zUD7ZpOxkfUTOWIOMtOqiJoI2LtjEKecnYdaBEq9vHBdc3EmMfFxvVgm9s3l20R0urn6zaL3NX7tfvc8jgvnXFIG2gri0ouZJBzF11QDOXfYfL5M4L+8uidQe1OuWa03tL+1A1jVF7NPcsDj6WXbH5sFxxqj8+YDxk+o+/u0W7x3/rykEyOEn3+Dfn71KRGdbHrzqjMPLWp3lq9VxwfDe9FqLy5Hvb5DkvLtGlPNHyycp9aslTNUdnB4QFsVy49qDs2l+ScMgoB9WCL3+8U6vgdh0o1m/C3pi3S5ZsOCS3nNtPLvOsrPA9MhL9J17cvnRCz5jvrmhD5UPqj5fvl3c90aSK+vJTenn3mKftWYweQpx1zF66TwXpCu/84bauMO8v3iufrjkgt3rhyPVpWWqCWVpGtdiwq0CrMyjh/uGrY+Rrlx0jv/d+f3rbyAr1+TWFqr+rTu0lj3z3WPn7fcfqNzw0ijPYKm1ifCtm1B1YTnzWMH3h7sAllg+W7FUxufaM3nLs4Ggv0jB0uMCy4hskR0nZUSksLtdMPty2hACM6t8u6ULbUrKMvzLouUevV0aq+L9vjJPvXjNYfnjTcPnLPeM84YztSQh0nuBa8d3XKST96/VD5R9enCRefuXigToyDJ08GJYqXF1NWxffGVIVmqytipE1EFOsLHpfGskx0TKqDCVrqlhIuIgGiZoESXVKXdLOOz8N9kBjep5Xqh7cK7Yx3ah9GNX9ilN6ylMzt1YYhZxM/Yn3tuonD6l6C9KWs2lXUUzPOTJ5LOVwIYfMno4Pt0zql3T54pl9KnQnTxd6vNITEEsNgeIzCr45TNQm6uI5nTKSXY/4SLyElUG1Y3x1NdWQ9FbkW8JEliqFvykzt+nYjd+84pgYC82oiIlWACWh+9/YqHXTiSACf77+oH5Q+PGKfTFfrNPW8utn1+p4Y/jLdfiWhdG56YDRUL2c6Ope6JVgB/e29qz64MtBm9G//mOFDu0EdBGnowKZLfnsY9O3yANeGopf6ITwf69s0PbPcLXdBv2g/KhaVg6qB6mOY5LIZMu0BXmRdtSqggjR3pbOJxJcY/veIh0vsTLLjt6tPJf2nijHV+1xDjoRJRohg/yC8TuxVP/fl4Zr4c9ITaMXLSLNK5/slB8/sUrryJmcLp7VXkT/wd+Xa+M/1Ry03dATiJ5yQEMr9ejPf7hdG5apfshl+G6KSf8Qboa7qW+h5nq0s3j5m16fd2LULWT0TPx475XHyG89EXr47U1anfXZuoP6PuYs3y9vzM9LuNCbNL/IL+SFRYuCBxZMWEB4p5yTafiTLZyvOqJFfMUyJLxYXBR6UkG84jq02zL4Le2pyeDbLOIiVZ50zKC6z+FEndE2yGtcpxYKft/66xI5UFAqf/zaGOuAkSaNfrp9RmbmS/VvXHaMnB4azsVBBEOIRvZvJ/deNUjaeCWuZZsOyc+nrJGbJ/WVK0+NdtXl+5DfvbhOP8T81+uGxnyMmEtQRcToAGgVvfqYT6m6bQzVgRI7A5LSfkBFyglDO9b6OHVGcrCGqNqjhmHn/qoV0CYM66Tj/iEcP396tWehHNWp5hEi0lJ1u3pzvt97YoolRZtnoo4MiBa1IQho86ZNtANHqg4PCNYvvLS/bvthOdELN+1WySy0vAPFMmfFfk37bVo2lYlju0Y6B9Hj9VdT1+o16cxy7em9tRCAdUbnjFzNJ+qKRi1a9Bj672fXeomlp87AGg+R/FdT18iOvcVqujM9NmDu/8ejKzWz/PbVg9XNwTcgP/ME7RQvQXzl4gEJ67ANw/CnA3nxo51aPXjXhf3l+GpMx0EaffK9rWp5OyuK7uV07rjJS9PJejKmC98jFhQf0arwRO1e6YIAMmRZXbf7NgYarWhRWqeunbas/7p1hFeCqljimrV4j/zx5Q364SN1+g4Sxw8nr9Qx9/7zxmGBa5TJ726RaQt2y49uHhaZmtwwjFiw2KidoF2Uj3kNIx0yQrQYcfnZD7ZrVVxxqW8yY7bzLY7rQkuX25fn7NROEASYEhZtSdef1UfFw0HJ6PV5eTpVBl+r02mAxMEHg3xD4oZdoZ3qv55apV/vf+PyY9QtDKY7VhgfFv74luEx16An1M+nrJZTRnSW731hSOAahZEBfvbUarnwxO7ePQwIXA3DMIya0uCixVfkv5y6Rrug3nPFIK3Tfub9bSpitCExTw0Nov/z/DrZtrdIfnDdUP1Og3YVBtpk0FS+l3BfsU+ZuVVe/WSXztVDFR09nJhJd92OQvn57SMiXaaZIZTJ2+67ZpDOARXPJs8C+/Hjq7QOm6rBsFk/47Pd8ifPAvviWb3ltvOiFpiDr/sZVob5en7ypREx45MlgtlSX5u7K9iqHAbd/Pqlx+j05UbmYO/RMOqeBhUtrBk6Lizd6FszbkDKPYdK5HUv8dNQSvUa3Vz//vZmnWQu3PZE4+0fX1qvM6b+y3VDpNyzrBj6n28ifnnHyMhIzYw6jvXD+VyHAYaOYRSHH3nXTTR6A1WD+GEoovgRyOkptNO7BgNg8k1JPNSr07uQr+kRStcWloxFaw/IgrUHg63KQQzprZjsvFf/dH6wZtQ2L/94QrBWkdp+jwz7Q4cTw6hvaL7L1FqiBhUtrJn/hzXT2bNmPPFwH+mFQdjowcM3EP950zAZPyj6xT0dIv7zsZXa2YFprvlI8H8864uhVc4e11W+fGH/iGUVhnMiKrRN/eKOUdoQHA/fn2CNMXwLA1g6OBZ3qiuxopKNZP3Hl9fr9PB8bV/fJWkTrbojlWjVNnyP9JfXNgZbhlF/0H/sxR/VX1yvCg0qWpRMfzl1rX6fgCAl6mnHlAhUtfFV+c9uGxHTG4hqOKrw+F6K4YNo46LakK6va7YXSLtWzdQSuvr0XjHTX9AehkWGBfarL4+q0O2VNrD/9sK1eMMh+fHNw2R0MNI1uGrDnimEFvhQme86qLqcMLxz4GoY6UM89P4bRoOQqT2fG1S0qJ779XNrdaytH908POFD4lsceuohXk6YHHQj/fHjK/VDV77NoJsr8NEgIzYzEOamvCL9gPHbVw3Sby3cfkSLUcrD1YgOxgr7qWeJUQX4S0QtJHic86G3NulwMtdP7BO4VuQvr26QmYv3yr/fMDRy3WTwHBgFIF2oVmJgT3e/RmZg79Ew6p4G7WfKOGTM0Inlg1Akgqkn6JzBR3t0qghDT0OOZX/4o0Q+AKZa7/d3j9Gu6hxHpws3kR2ZBVME0AbGF+zx8NEsH7TT/hWeQZRrfbB0r1Y5nj46tfWEMDLnTuuWlT9i2vDWbD+c9kIvy4K4Z2E0PPYeDaPuaVBLi0T+o8mrVEzoiBH+pgkLiy/LEQ56/zGFwW3n9ZPrzopaNwytwpfmJ4/oJN//whAVFWYvPW1kl8hX5gjWT55crUMrMa27s5r++tpG7WzxHzcO08E+w9CRglEwsLTciOJAr0HGCbvx7D4x4YiHbvd8YEybG8fHW3KGUR/Q65a43FihIJvOvF6JoGqWz2UaKxgUTBWTiTSoaMGUWdtk6vvbtNrPdZxg7DHm3mGsM77TYriYXzy9RiMhH+wiAiTI37+4XkusfOCL4PG9FyJ40Ynd5Yaz+2p1I8JBmxhz4fzb9UMjvQffXpAn93ti+NVLB6pVFg/DO73w4Y7IB8L0PmRm1DED2+uwM6mGLWJIlx964ejWoYX88ObhMVagYdQ1fH/IR7tbdvuTdDZWfnjTMK9AW7X2ZHps0h5NTQsdtRorv/3K6Ehv7kyjwUWLasGpH2zXydOwlGjVorceE6GF24IYYf2xd7fofDiMM7fbE4aObVuo9eW+0UIsEBY6YQzo3lotpK27i7TL+j9dPCBmBGUGtUTMECE+EI5vT8P6e+itzTrOIB01sNTOP767XHN6r0qnwmBcvt88t86zxnonHB6qvqCUzTP1qymbaQZWVHKk1mYUThd6XBZ6123TqqmOfID1S6SLH9JG3b0dbb1SHr+Enerh+px6JN2wZipMc3HdLxbICcM6aq0CVeUtW2Rmg3pdc9aYrjETN6YDo61TC0PBFxi+qTHC3GKJel5nAg0uWg7Ei+mm6fHXxbNQko3zRbUhZjuClCzzpT2JkibtYF29cyXq4UeGTuSkipGPh5MNuErXdqw6ps9OZ6gZzkt3d74947wD477xqk8oKf5o8kodCJhRP/hgm5Hon/63EwMf9QPTuTwybbP2pKT7P51gmKrhd3ePCXx4YuEVbRmEmMIBVarMKku1LqPuM9FkfZFOWDMZ4uut/7NIfnPXKBtCrBq84KWPGZ5w/fkb4wIXI9PImEpLLAEy+GQTsjnoCcgo0amsBUqXVCFiYSXrko5lxUC5zTwrhBE0wlMJhGE0C86V7thoVG1+uvqAXHxS9wYVLKNxwjQYQGHNqDo8v0y1MAyfzGxpqyewrhjfcN7q/dp+lUy40mXV1nx58K1NWo8enrLEMOqLfYf8qUJsuovqsTffEy17dhlNoxYtYMDc7107RIfLocfg8k2Hgj3pQ/sXU5H/+tl1Oo/O1y8bqNaeYdQ3ZLrUDtio6dWD5gezUjMbi9kexw/pKL++a5ScM66bF2mr3s1VG+49kfrpbSPkS+f2S9mzMFtgVlk+6r7+lwu07Y8OCrj95MlVcuOvFsi//H15ZAbWTILeXxQ+7v7T53Lv35boPTzsWb+EtzHgV29Zpltd7PllPiZaAYgOQz6dMabi7MWV0btLK7n2jN4xvROzGTL+f0zbrL0lGa2BmVc/Xrnfsya36QCvDIu1bkeBPP3+tozqUs1Yjz9/eo22e/7vV8fIH78+VgdDfnXuLh1RvTFglkL1oeelilZ7a9PKZEy0jAr0695aP9Y+Z3xX6dy+ufbCZH6yuy8ZoNO4XHxSD+nVuaVOoHngcGZ8gElYENphfdtqb0O6qNOhh3tBrgb1rNkMttmCipa1yVQLakwohNF72chcTLSMCpDh04szv7Bc5yujG/VFJ/aIjOxBewnfTtEV/EiGjLjw9qd5OoDyJSf1jPmYm/ZGOqMiZo0BxuG03m/Vg4G3wSzVzMZEy0gK30wxdxizNoeHuqJ9i+/q+Ai4ZYuGj0J8k/f5hkPSs3MrGR4SJ4biod2NIWni50TLVeg9aJlu9Yh8LmCWakZjomUkZfPuQjlcVC7HDe4YM3AwU7pQLUgbXn2PrpGInV54EFfaFju1i2Y4WIl0HsHyYAbqXIc2GaoHadMzqg7Prr1XwKnueIVG/WBvx0jKmm0FwhBQ4elgYNnmfCkqPSInDetUYfirhoBqTKw/BDQcnjkr9sn2vcU6yWcmiGtdc7i4XGctMEureljPwezARMtICCPV00OQKVzC469R7//+kr0ytE9bOW1U1Xta1gWMatKkSRNtY3MwyDKTcOLO7NKpRlnJFfa56q1G0KaFVfTa3J36ecO/PbJCvv/QMu2IQ1VxdfF7XjaO9kBqICa/u0XHX/3+w8t0Bvh3FubVeICF+sBEy0gI36sxSSa9qZhsE/KLyryIvlW36aGXKdYLPRk7eWFBqOie/4lnYT09a5ucMLSTDrg7qJFMskimC/T4zHU+Ws473i7nH9dN/vvOUXLTOX1luldIeeK9rYGPqoOl1RiqVhGmx2dslSUbD8k3rzhG/vvLo7Qt+ME3N8n8VQcCX5mLiZaREEbHp92qe8eW8tfXN+oM0d97cJlaWv9xwzAZF4ysnwkwCv+Vp/WS/V54f/z4Kv0ui9H/KXW3b9M8Z76fqwwyXQoStTUaBoWA3zy3Vn77/Fqd+27DzgL53Qvr9INtZmluSMZ78e++awbJySP9qUdGD2yv73mLF2+ry9782uvEwsDZzL/Hs5r6wTatvn5/yR75sWfZ8DyZq6+hoAr9ilN6yreuHKQzAdCGx9BzuG/Ky/zpWEy0jIRs2FWgDftYVH/46hj52mXHyO+935/eNlKG98useXao+rvq1F7yyHePlb/fd6yOEs/Ye+u9TJbOGY3B8gAdNy+U6SI0v5q6Rv7j0RVpL4++s1mPpfqIKYOY4mfh2oPy5rw8eW72Dh35nl6lL328Q2dTaCgYNHvC8M6Ral/aNakBqEkBhepV5sBzMAPEfzyW+DklW7DygfkAl23K156IMz7bo/MGrtpy2CvstZdPVh7QGdAbCp4ZIhUe0JuOTF5yz4pBvk20jApQSly19bBaKWT6DEtFZpDpc0oxor9rk6ADRt7+Ehncq229zsfVkJDphqu3OrdroeMQLvUyT6wmBOfCE3vELBec0F3no9u6p0j9bQgmPhzcu6384LohOgkrX+Kt2JIvX7l4gM6zxPd6ZHyZ0kpIfH31k53SvFkTHZmmuvg9L6NtWnTgobaB58L3b+eM71bh+TGKDtMWrfQECX8UHIApdZgOiFqA3QdKNGx3XjRAzhjdVdq2auo9P/WWEVAIefnjnTqF0UnDo3MYZirN7rnnnp8E60aOQYbFR8H08mPqbCwkZmmmc0UqDnoJ9RUvErdp1UxHv6jpWIqDe7WRy0/pJQN6tFYBOX1UZ5l0XLeYbvRUTZwyopNmiu3bNtfM4xLv2scN6VCtab8/9kq8TMZJ+MmA0yWdsGYqVEfxzk8d6XeQQViwSBauPaBVpwxVdsPZfXRGWsRcF+/ZIEw9O7f0ntcB/SUj5ljeyaJ1B9Xi+KeLBurkrMQN5hyjRM5g0w0NgvXynB064PV3rh5coadrumA10kaGxY4IAYUgnud8Lx7x6cf4wR00TkaenbcM7dNOThnZWTP+tTsKPOuvkz5fnh2Wy6tzd2pHoa9eMlA/el/tFQZnL90nF3qFhf7dG96qwTr986sbtED6dU9ks2GWdbO0chgSDonOiQ4ZbzqdJ/juiZIlMwfTRkDGUBOoMw+3tZAZJLLa1N0Lr8swCXt1rCTCS9UMmQbhZxLPdEk3rJmI32U7tvcblvL1E/vqpwtU89GjMhEMGj24d8VMFAuCb9wQLNi+z4sbXgY9on/DVxHz8TjVcO9+tkfuu2ZwjSa9jPa8jG3TotBy5pguGqde/GiHrPeEKR7iKmNyxmf4jMayzbNgGf/STRWzyrN4KTQyvFhDQ8eqv72+UcN/71WDNL1lAyZaRgUQjhsm9lGrjAZjGpGzCTIYSr+3X9BfEyL19Y2B+DYtB5nuaV7m6zJeOlTEgzifMqKzdAuJHpkaDfNMWe8KOy7TzoQemR8s2Suvz90l91xxjAoWIkaP1+rgqvXiew9SiEH06aFKoeCpWdt0NJh4BnjPg+pXRl9xEJb9+WUyImgDptceg1H37tpKh0lrSOgV/Mi0LWph0iGDdMJ9UWDNdKx60KgAGRRDN1FCpLqlOtVzDQklR6puCH+4lJvrPP7uVjnXK/HHVzvxPPr3aKMzaucdLNUxGk8e7lcZhxkzsIOcGvTGgx17i/VbKL7HI0MGvtHL8woB5x3XXd5ZuFutMASvptDx4/cvrvdK/pu0DQjLD4H80ysb1BqYu2q/VsU5Ud64q1B7tdKhgB6utGEya/jT72/XqreqsnKr/7kEAhUP6YHhyhauOSjbvOsgbPGdkajFOHtcVzmmZ7R6cr73vBle7KrTegVjeZbJW/PzpG/X1lq9OnPxHj0PNQu1BT1m6fRB9/U3vWtN997RFq/ggRuC6jpa8E0WVvdlJ/eUwuIj3n0Vqf/P1x+KiQOZiFlahpEDUJXLKCXJumyTWdFJAQGj7eq9z/cEe5LDMF7F3jkH9YqKIFWIfPbw0ymr9Vq1YTFUZyqcaQvy1JJ55ZOdGhaWB7yMuriaPRq5p1QfFk8a31U7KWCtPv/hDhXNyqBqld6DPTu10m3G6uQ9zF62T8OKMPM+aguspJ89vdp7fofkX68fKn/55jj5p4sGaPUp1ZSMzQkUWt6Yl6dNAH9+daM+u59NWSNveKLVplXmS0KTpUuX1qzBwjCMBofef9/8yxLt8o/lkQiqgn77/Dq1ALCQfnzzcO2oUVUozbdu2bTWJjulGrK4xJ8ShBEuNu4sVKG8y8tw6alI1/0fTV4pnl7Iz24bWSfjSNLVn56TP/nSiMClIgjnz7wMnmrC00d3lu9eM7jKba6IHqJBz87aFCyq8LFUl2/Ol/+8aZh2BgGE7N8fWaFV/j+9bYReN9sxS8swcgDXkaBzaMiteOg9yMgRlP7zDpSo5cJwXVWF6tbanJ07E6bCoU2rstEwqCq/+rRe2l193soDMmtx1b+1QqhoN6xNwQKsKwojVO0xxJqjoMgfj7Jvt1aRdslsx0TLMHIARnNgKKvK2h8pgV9+Sk/NeGkzQigyhYacCsfveVm5FUJ72fhBHaTME0+smkxhnidYdETh85ZwG9kWzwKn6niE995rs+2sITHRMowcIN1MF5i+hW7Xl0zokVab1EtzdshPn1qt1lldUtWpcGozXOkOlus+ieBZX35yz8A1OXS+YNgmqh8RlbqAal8KIPQApKeng+stWntQrbpBvWK/X6Md8d8fXaHfMmYbJlqGkQPoaA5piJZ2aJi1VUvkfChbGbTB0OmgRfMmMd25qwNd7f/w0nrt5ZeIqkyFU5vhAqpX05n8kRmyqYa7+Zy+OntAZRwoKNOejQhiTSwdqkynzNyqSzx0ljlcVKbtjG28xUHb4KdrDqjIxg9vRZiwwLKxZ62JlmHkAGpphYYgSgSl/ke8Ej/tUbed3z+tTgSIBCNN/PsNw6o9WgKWEN3Wf/CPFTrmXqLvnKo6FU5thMuhmb6XgVdmqVId+Ozs7ToSyLnHdgtcU4NY/O7uMdrtvTrQW5IPqL/74DLtzr/7oN92GcZ9jF9WflTFHBCx57ywFnr31adrxfE3GfXkj18bG+mwkU2YaBlGDuBXbyXPdMnMXvhoh6z1rJk7PMFipIzKQEQY1Z0ec0xjUR0QqBc+3K7jG/IRMJZUIqoyFU5thCuMm9Il1fOjxx/d8ulEccukvlpNWBlMlUJvSKxLjq8OfJpAgQRxTvbOsDSpFuQ+Pl6xX795e+CNTfoRM+2AfAjuCig8UwouPDtELRuxj4sNIwdgBHa++0lWcv7Ey8yeem+bdsJgPEYmx4yHdo435u2KdIKgNx1VeozjyDdUbrQM2kH4zogMNdnSysvUB/Roox1DGI2d76+wuAgHo3PEfwDNN03vLtojPTu1lE+88zP1Cd9DYUF864pB+pG4I1m4qsvmvEJPYPboCCqu+jEMgv/4u1tk6aZDOnpEsrEssYgQ1GF9/HfAKBpvfZqnltwFx3fTZ0E705Pee3jOu7dEz43lk5X71LKkjYpzMTYkwZq1eI9+zhD/8S+WFt+CMU4klizDdbn2Sno4Xnpyz0ibFm2FWLMveNcfe0x7GT0wc6YYSheztAwjB9CPY5O0T2zfW6Sz1DL6Ah/qJmtbYdQJljB0gKA9pkeowwbtIKP6t0u5pNspxFHVqXAShau60N0dgUg2DxnDRSEmfJyNgCSCqlcsq3Xbo0Nk0dWc6jkEO1wVy+jxiZ6ZWyh4VPWTAp7Rn785Vh7+znj527fG6Yj0jL9JO1d8AYHOLkSB8Ogd2YSJlmFkObQHFZYwGkbFDJzqucc8wSIDvfPC/kkH/8UKwroJzwDAsVghtMt0CPXaI1O9ZVK/lAvd1tMFS6YqU+EkC1d1SdXzks4ezIaM9ZmqtyDVlJt2FcV0CmE4KkbXD4suBQbakxI9M7d88cw+lX4zlghEt4dncfFLJwumo8Ey694x9lzcE8+Yb7eyERMtw8gSknWZJtOFRL0Hqe6bu/KANsTT8+2BNzZWWP7y6gb5r6dWyaa8ohjRotGfUd2H9W0bU222ycv0GJMw1ZJoNPRkHCoo02GG6ICRjgglC1dlJHt+ydoD6cxA+w/PF8vkselbEj4/2tf+75UN2h4X7hTiz012VC0rB2H4xCscJHpmbmGIKteuV134TICxI5nPK/xMXQGhV5eW1RLGTMBEyzAyHD6uZYy9e/6yJGFm5kQrfjQMSv90viCjojs5Y8slWqYt3O1ZLv409eHvo6hWZBSKQXHVSAwZxWy8qZaNniWULlWdCidZuJJBB4/fe8Lyl1c3Bi6xqKWVIANnYkS65xOeOcv3J3x2LPRuzC/ye0SGRYsOEQhDeNgpdJNzJnpmbuF8NRUt2tboJo+lt90TLwfn5flRNVibo5rUJzb2oGFkMDS+P/vBdp1IcMPOQh1GiDH5wsxeulcefGuTTP7+8YGLz9rtBfLZ+sTfRCWjj1cyZwZbwDJ7fMYW+dHNw3UU9LEDO8QMEVRVGNX8z55F8q2rBsmk8dEu44ggnTvQKkb1YCqVVBlquuHCUqL3IR1Mdu4v0falP359rLYxhfnxE6t0xIhbz+sXuPgWCR09OK4qTBjWScdz5PifP73aK3Ac1V6TCNGVp/aqdvd8pgj6z8krZWS/dvL9Lw5J2i7poMCCRQXhd0q16g+981xzem99DliZdGbJJky0DCODmb96v/YgKy0/Kt/482ItqdPQ7kbsBqywGYt2yx++NjZwqR0Ybf1XU9dK86ZN5IpTe8q1XkaXTlfveOig8J5nQVD6x5pq37qZ9sDT6eurMY1IuuHCQp2zYr+KIKNnIGAnj+gkP7xpeODD596/LZFLJvRMa4SLqoCwvvjRTq0evOvC/nL80KpPZU8vSUa7p7p114ESvWee3cj+7eRL5/arsghiaf3imTWybvthOdET2K9cPLBOBiCuS0y0DCNLoE2F6j4+bGWmXsejnjvtTD++JTYzrg3I5Jp6epBpszdXNVzFpUdU9KmG/OUdI/W7MceXfrNQu7I7a6S2oP2KEfFpU0rWM7EhoONOQfERbUOszGLLRDLnSRqGkZIvntVbrRS6X4dnH96nc0HVTaM6H/RmmmBBVcNFB5NbPMsEEHm61wPWGO1RdfH8EAR6dGaSYAHd72lry0bBAhMtw8gSyKSvn9hH1+nG7qBdIlt7gtUnWKgDe7TWth5GjoB0RsMwMgsTLcPIImh3oQ1iwZqD8nnQySLVd0ZGFLrH335+f13nY2s6S0R6XproZw0mWoaRRdDh4Nagmgtri2ouRnRI9GGxUZEJwzvp8EXb9hbL9IW71dKiqjHTqvCM5NibMows4+zxXWVwrzb67dXMxXt1WJ50ptUwRMdc/PIFvrX11Myt+s2SVa1mFyZahpFl0IDuMt6/v71Jf616MH1G9Guv3eD58JbemPbssgsTLcPIQvjmh/HwDgXT5VubTNW47bx+nvgzuWK5dDPRyipMtAwjS2FeLGD4pqqMwWeI9OnaWj8oBmsPzC5MtAwjS2HoonPGdbXqrWpy49l9pHWLptamlWXYiBiGkcUwMsSegyVJJyY0UsM0HYx3aNWr2YOJlmEYhpE1WPWgYRiGkTWYaBmGYRhZg4mWYRiGkTWYaBmGYRhZg4mWYRiGkTWYaBmGYRhZg4mWYRiGkTWYaBmGYRhZg4mWYRiGkTWYaBmGYRhZg4mWYRiGkTWYaBmGYRhZg4mWYdQB+/fvlzfffFN/M4EjR47IokWLZPbs2YFLehQVFcnrr78uW7duDVwSs3r1ann33XeDLcOoO0y0cpCCggJZsWKFzJo1S55//nl56KGHZPny5cFeoz7gHSAShYWFgUvDcejQIZkyZYps2bJFjj/++MA1yt69e2XatGny5JNPytSpU1WAHK1atZLjjjtOhevDDz9U8UvEjh07ZPHixcGWYdQdNRKt8vJyzRhnzJghpaWlgaufYN944w356KOPAhejPiBDmTt3rjzwwAPy4osvyoIFCyQ/P1/69u0r3bp1C3wZjQnS4qOPPioDBw6Uyy+/XNq3bx/s8dm0aZM888wz0rZtW7nxxhtl1KhRKmA7d+7U/U2aNJH+/fvLrbfeqmKG9WgYDUmNRYvSGxG/rKwscBV1W7p0qTRtaoZcfUKmQvXP6NGj5e6775b77rtP7rjjDs2sevb0pxY3GhfTp0+XTp06yVlnnaUCFIaqy7feeksGDBggp59+ujRv3lz69esXSddhELUrr7xSral169YFroZR/9S6qhw9elQzz9atW8vQoUMD11iwykpKSoKt5OAnHX/1CdYM9fzcZ03gPFQdJatuqSoUGj7//HMtUV9wwQXSvXv3CplUXeKeS2Wk8+55tpyLzNOoPnv27NHC42mnnZYwLmCJY4mdeOKJ0qxZs8DVf/6HDx8OtqJgrY8YMULef//9wMUw6p8azVxM5vPss89qRkTVQps2bWTfvn3y9NNPS58+feSqq66KWFskBNpZqDLctWuXunXt2lVLeOPHj49JVFhuM2fOlG3btul2r1695Nxzz5VBgwbJ5s2b5YMPPpBzzjlHS4WOhQsX6vkvueQS6dKliybGt99+W8NBonXQoMy5v/SlL+k2CTAvL08uvvjimKqTZcuWyWeffSYXXnihCgDVbBzHNbhf/E6YMEHDn+61YM2aNfLxxx/rvZEpI+4nnXSSnqdFC3/KbwRo5cqVsmrVKm2P4Nnh75RTTpHBgwern3goNT/11FNy8sknazsE4STjd2Hq0KFD4NOHZ0y1blgYqEa89NJLdT3d58y75B45H8+FOHDCCSfImWeeqSV3SPfdI3zz58/XKk7um+OHDx+uVgIWJJlwPNwr74575V0SXqqzGhre72OPPSZf/vKX9R04SDM8w7Vr10YEvHfv3hq/iVM8A9477WHs4/1gCZ166qkx7xBR+eSTT2T79u0aX7j/Hj16yEUXXRSJxzxHOkd8//vfl5YtW6qb48CBA9rOhRB94QtfiIgWFhbtWsSZM844Q93CEHass+985ztqfTmIK59++qla94ZRl9SqpUUCI+JiQdB4G64eRARozCXxXHbZZVrVQIZDZs8+B5naq6++qucgM3L18K4jAQJBQg2XBMkwaVujHt6V4gkL56KROQzn5XhHx44dNQPhHA5nteCXhMk5CSdCglBdc801WgVH5gLpXgt/3CsZBedAzCi5kvm4c5FpIQJkDDwr2hgQKlcNmwwy+eLiYn3+ZCBUCZGJUZ3z3HPPycGDBwOfPjyr3bt3a4aJdcY90pjuSPc5r1+/Xtq1ayfXX3+9fOUrX5GxY8dqZhluzE/33ZMhcu9k8ldffbUKEELFs8WNcFKAwA1xZJsMnXMRXsLPb6aCSPFeics8B9qJKIjxDJ2Vimjj59hjj5Xbb79drrjiCo2fL7/8cuTeiJ+0OxEnrr32WvVHgYb35d4LbNy4UeNavGAB75A4QW1I2MpCzAgn6SIRxBdIFRcNoy6pFdEiopPQaPBdsmSJTJw4UY455phgr99tlsTYuXNnTWQI2rhx4zTzQhQoVZJQgOoM/FOSp8ROSfy6667TEmQiyKwpTSII1YFwIoqIhquqQ3xI1EOGDNHwkRls2LBBLaJJkyapYFEFF7ag0oHMAesTawaxItOlNEsG7KxKRAJrjGsg2GRGPCtnhSUDgeQZci9khgg+1zn//PPVksTSCcNzw+/ZZ5+tfirrqJHsOWMBEE6eIyI5ZswYtZCc2KX77gk/BQXOQYbOebj3O++8U4Wb62D18g44P8+PbYQtWQabadAWRDzjHngexAfui+eP8GMtU+hAiEeOHKnH8DxIB1jtriDAs0LIEWsWLFXSCQWhsDVGvE32Xp2ljwX717/+NbK88847KnJYwomg0ADhwphh1Ce1IlpEfjI1SoJk/JT4nQAAGRjCRqnSVV0ACYMSNMeSuVGCJDFQ7URidZAow6VBB/6pEqJ0SSaXCPZRMndL2HIAMg/Eg0zBfVODQHFPw4YN020EjCqusBCDq/5yVHYtB+eiGpWSMKVl7s+VtFnHQuVZOiFPB54FYAliZTl45mRkYSvKXR/RSFQKj6ey58xzwwrFUqLKkffnnl26755SP/7IsBFxB88i3Q49xDky/ZdeekktOyw+qnWTQeaPP7p6V2WZOnVqcIaqgUVFnAnHbQQX65R7Roh4Hlgz4fhO9TjHuYINfjkH8ZReuljM7KcaN1y4If4kKuwQt4kPvIObb75ZLTWWW265RUWO+EO6SISL82GLzjDqk1oRLSI/1UNf+9rXtFpjzpw5Wmp2kDmQ8VGaDEMGTcaJyLHgh4RG6TFeEBJB1Relz1SlbapiHnzwwchCIncZPBAGSrWEkSoPro+lQ2871+OOfYSHcKWismsBIkVbB93S+YaKTJ6MFSEBMnbaehDRhx9+WNsH6WbsRC0VnCPeEiLToj0sXG3GucgcyZgquyeo7DljPVDVRymdQgdi5M6b7rsnEyTs8f6qAvfPtTg3QkpVJu18CHQi8MfzRtSrsoTFN10IG+8ZAU5mNfNeeAZh0QYKFogYzwmIi9REYLVSWPjHP/6hVeq803hcvArDeShM8C5Ju9wPC3GfZ8X7490kwp2PZ2cYDUGtiJaDxEV1F1UIlLqdpUEiJbG6RBeGhEqCJCGy4JeMJz7zjYfSJR87IpJUFSWDfa4kyUK1XrzVRgkV64DMl9IuCx0AnBVCpk8pPl6A4qnsWmRaCBDnuvPOO+V73/uetgNx7TBYKVRNcj0yFp5nfJjjIaw843hx4zkiCOGMkswNq8a1T6QinedMNd63v/1tvR+qcakidt/opfvuXcZckxI8x1PdRnsYVbdUW3Kf8VWjDt4rQkyVbVUWqi+rCpk8zyFVPHLvONE75DjC60BUEC7iD++GAtMrr7yihQQHBYdEz53zIVAUEMLxiupL3KmaToY7XzqFHcOoC2pVtIDERBUS1WNUXzg3So9YD+FMicwTgSDTxg+ZFyVZMppwqZHSXTgxsj1v3jwtJWKVkBkkg+siSm7hWvGlRK5NgzRWAm0snC/cS4/qEjIawhomPnOp7FqU/rkv2mio8gHuJb40zL1h7dHuQwZJj8BkpXMHVhOZGpYcGZyDqk2uSXgcWJT4obdgKqrynIH3h+AitLSjQbrvnoXwU20VztRZr66QEW6eW/x7aigofJDpUxAI494/8QwxYH84ThBveA5YQMDzoN0VP7x32i9p0+KZk3YcvPP4OAu8R1dAdFCgwqKmsJSq96U7Xzg+GUZ9UuuiBQgAmZDrGYYQUQVHhkrbCAmLzJQPH1mnmsNZNQgeidL1UiMB08mDqicHJUVKiOedd16FqpTqgmVFRk7CJXMIN2DTzkKGQxsJ1hhh5hsXqu6qAiVb7pO2CTIvhJj7DFdfsU5nFNqAuG66kPnTNkf4XJdxep3RG889fzI5xIN2HzKdyj44Tuc5cy3XeYaMleoqno87d7rvHn8IHu18fBLAPgo9VO+FeyKmC1a+6+RRmTjXF9wfwkxvUd4Dzwwr8IUXXlDR4JnxznkGrv2KOEKcpA3LfffI86NdLdwZgsIR7yhcdUkbLPEgvkclYUDQaUfknbHQIYP4T8ccBC0ZFCq4VlXipmHUJs3uueeenwTrVYZMkEwKaEx2kZ1EgdjwrQ/VNUCCJJGQAMnoqD4kodLTkIzLWSSUNkk8ZIRkrogDCZfvRkhoZOpUY/BdS/jjZRI5iZgSJ+JAZsU5OCbsj8yQjB3LIQwJHguE/VzLlWqBTBXrAeuHjBDrA7/0giNjSPdaLuPn+y/OQa86quhwZ0E4ycTIpOml6ISTzI0qNzJfhCkRlJ45FxkaYXRiwrNwI2LwfMjsuB96Frr2Kfceybx4F5Duc2abXoVUIdKWyTFkzlS7uYJIuu+eggElefd8uGcyaz5+JU4Bx1EYwiIIV2+SOePOMYQD4eMeqK6m+qwyK7G2ITzcB2P9IcjAL8+c98tzQLzwx3NwVcBYOVhM3D/ph2eF9YU15TpHEB+IVzxPnj/XoWaDdxV+JhQcSUPEy7A7z4JCDs+L987xxAGs+sp6kVII4tj4MQxJD8SL8HeKhlEX1Ojj4upAVQeChsCRkFxmFA+JmQyY/fhLVfqrDUi0r732miY+elGRMOPBAnTVV1TvkWlXB8SMTMa1V9UmCD7Pl2sQPp6dy7DJ7NiHENRmmwSFCt4V1+a5kbmGq0Ud6bx7zkGmjchxLjLRROeKh/fHubkG56AQgFgmi191DWKS6ONiIHzEb55DsjjEu+K5IjzJ3pXzQ+EAf4meExYthS2G9Qq3XwHPDIuUcKTznEgb9J5MdE/2cbFRX9S7aGUqtBEwQgDVZjS213fJ3MgtUolWfUItwOTJk1X8+VC5uoU/CgQMrIuFxWgn8ZhoGfWF5cwBtJ9Q6qSKzgTLyBXobEFPVqw12mAR06pAuyafr1CtTNtmIsEyjPqkRm1auQTVNVT50bOvsp56hlEZVNXRhkWHBde211BQLUhhjOpWqk+pNk0XqjLpGMKoHal6FWLBUe3ckFal0Tiw6kHDMAwja7B6MMMwDCNrMNEyDMMwsgYTLcMwDCNrMNEyDMMwsgYTLcMwDCNrMNEyDMMwsgYTLcMwDCNrMNEyDMMwsgYTLcMwDCNrMNEyDMMwsgYTLcMw0ob57aZNmxZsNTxMY/Pqq69GZklPF+ZdY3JZpsBJxeuvv64DBhuZg4mWYWQZzOeGeDAzdX3DJJ3Mq9XQMBcYk50y+rybjDUM+3k+zAr9xBNPqPgw/ZCDSWuZUJVpW1LNjI0YMvedkTnUSLSYtoDp4mfMmKHz9jiY3vuNN96Qjz76KHAxDKM2IBMlE3777bd1os/GCrN+M4fXzTffLIMHD46ZAJOR6cl73nnnHTnhhBPkpptu0rwqbCHif8yYMfKFL3xBXnnlFZ0J2sgOaixaW7Zs0ZIXpT8Hbkz1bvNSGUbtQDUWM2vPmTMnMnVOY01fPIv33ntPp0vp2rVr4Bpl5cqVMnfuXJk4caIKGtOmYIkxu3Y8ffv2lTPOOEOrCpmZ3Mh8aj3WY5ZjbjN999ChQwPXWLDK0okg+Mm0iEQpjmnOuc+aUpXnEC4UVAWOJczJYB9Ttqfyw71yzxRSklHTd1VcXJzy/A0Jz74m91Yb8GxGjhwpN954o1oPiabWbyx8/PHH0q5dO537Lh5qedjPnGHMIeYgfieLXzxP4h/VjUbmU6P5tEjIzz77rGa+JKY2bdrIvn37dIZUJoMLT1tPxrdixQo126kXB0pJp59+uowfPz4mEWK5zZw5MzLLKpMznnvuuTJo0CDZvHmzVgucc845OjW+Y+HChXr+Sy65RCe7I/JShUI4TjvttMCXyNatW/XcX/rSl3T7/fff18bciy++WNq3b69usGzZMvnss8/kwgsvlO7du0t+fr4exzW4X/xOmDBBw5/utSDd54A/GovxR108z3HYsGFywQUXSKdOndRPIvBPWHlWPCeuway1p5xyiobNTbe+Zs0aTdw8YxIzhYyTTjpJw+FK8iR0qmEotTJJJseSEVDCZYJDSPauKNUS/kTw3I477jgVQsJAQzezRnOPlIgnTZokvXv3DnyL3g/vgufJs2ZSQ94x08c73PPkPRIPgfPzXphq/qyzzlI3/Ln3zT0DGdb06dP1/njfLs5yD5TomQSRZ0E8YPbeZIWx+oK4SZUWcZ3p7+sTLBJqUr7yla8ELj6ke94lcZXnzjNEVIhzxGkKRkzHv27dOo3b7Kctijjv4iTwjufNm6fvnPeCX8Qaq8nxwAMPRPKXeJYvX64WKekEMXKQFojL3/3udwOXWGjbIp2Qj4X5y1/+otWIxGkjM6hVS4vMj4hJBCVTcokfSGg0hjKL62WXXSZXXnmlRhIyFfY5yHjoDcQ5yFguv/xyFQgiI5Bpbd++XTM5BxknbWtkMq5ETFg4V7jxFTgvxzs6duyoDbbhxmVK1mSk+G3btq2ek3BS7UCGe80118jo0aMj9eDpXgvSfQ6sUwdPJn7HHXfItddeK7t379YESWJOBmGgapbMhaoRwooAfPjhhzHh5fxk5uxHVEeMGCGffPJJTN0+BQEEiQzi6quv1oICjdLunlK9K4SYsDPbLe+MMDOLL26dO3fWZ/zuu++qICLGhOPss8+WHTt2yMsvv6yZICCWFIx4H5Seyeh4Z/FtENw37597c7COG8/NgT+u4SxXMkXue/HixXpvzuLk+i+99JK+++uuu05uu+02fV7cLxmrEYXnS4cICjtk+jfccIM+R9IUz5d3T7zlnVHQYPr/Y489VtvCKUTgB3j+vHvizi233CK33nqrPnPel4P4wDsMF2rCIIqkp/Asy5yfMKaakZw4ToE4HH+MzKRWRIsGYTLJRx99VEvXlIrInByUvCjlkFmR+SJoZD5k2IgCZrnryEGGi39KkZSUKImRaVx00UW6Px4iMZlfdSMb4SSjJUG5DMtlgEOGDNHwkUnTAI4lghWAYFGSC1tQ6ZDucyCRI/4kTEr21LsjKmeeeaaGi5JuKngWHMdCWJ0VybNlH5YKpdRLL71Uz0svKur1sVCcxYQQIRRMoY64UtrEWrvzzjtVZCDVu8Ii4xnxvLAMyYgID248c54phQAsBcJBOLHy8MOU8OwDBIL3gXXHuSg0YEXWFlic9MTjmYQhHvMMCC+WFZkgpW0yRO7b8HGiT7wifWA1YYUT59jGyuIZu/RDPMCN+ES8prDA+wVECwuLqj8KvDxr4hKFGQfxHzhPPLwvrGh+EdG//vWvuvztb3/TMJDuksH5SHuusGRkLrUiWkRYxIMSNRk/ma4TAMAqQtjIbMg8HUQUSjgcS+ZH6ZfMjKofMksHkTw+UwH8U71HaZhEkAj2kRjcErbQgIhMpk3mSGYJJDDuyWXOJBQSZ1iIIVytAZVdK93nQEMziQcRWb9+vWbgLCRonmtlvcbINMIZO8+TEivHcX4H98R1qP5CCHnObj9hwD/WkatuAzITlqq+q3jIqLgXnjHHOLgemRbPDzgX4eTZVAbn4x265886xyaDe6f6j/ePFefg3RMfqD4knO75I+iEJ1XGxnHPPPOMPPnkk1Va3nzzzeAMtQvv8P7775df//rXlS7/8z//ExyVPsRp7pmCiasyBkTevVviF2mF6lUHVg+FMo53okU6IF1QlUdVI+JDXKDK2eEKt4msJuII90tBkNoJLDoWCkVcH5FMhkvL7vxG5lIrokVku/766+VrX/uamv30cAp/kEfkI5MjAoYhQmNhIHIs+CHSUMKKF4REUEqj0wfVVlQZJYKqqgcffDCy0BWf6zgIA3XmhJHqDK5PqYxMzGVk7CM8hCsVlV0r3efAQsaJYFFt6Baq0shIwyKSDogMxyGqLjyI1GOPPabtA88//7xW1SCKLpPHL2GID6ujqu8qHjIXjnPtSg4yI85JWICCAt/UUE35yCOPqCBgrSYCkXr88ccjz592CpchxkP4OSfPnpJ8uCqb++L+CSPPxT1/LHreTbK4BoSfjJcMvCpLsudcUzgvljIWcGUL3b+rCs+KZ8J9JyqsEJ8ozDrLKQzxmIIG5wBEjWpofnk3Dz30kMb5cBpy7ylcKHYQZzgXIsc7cAtxgHOEqwzjcfE+HA+MzKRW3xDtNFQzEeloD3GWBhGayEDkjoeSPZGdDIwFv0QwMsxUUEdNOw0iSRVXMtjnSlwsVPfEJy46dGAxUEVIOw0L1VvcD5CxkkjCiScRlV0r3efAL5npiSeeKN/+9rdjlm9961talVYVCDvXJNMgDCRuSva433nnnfK9731PG9Z5Bg7unXCQeSeiKu8qETxTjnMZloPz4ca5gXBQ9eg6nxC3knVEwZ32FPf8WU9UJcSzpSoWC4Bqx3gR4h2xUGi5++67Y57/vffeqyX3ZHAMbXtUv1ZlCVeB1Sa8JyxJqjjTWaoKz5IlWTxgH8+SuBYfl3jP7HPpDEiLVLvzbRXxEUsYq8vhCjnhGgMH50d8wgUA3EjXxJtUokWBEuILUUbmUevFCiwGquqonqGazblRqqIaIRxxMecRCCInfkhglDop4Yarg4iILlIB2/QwwsKjHYSInwyuS0JwC9ciIYXh2iRYqrvIzDgfnRgcZIYkSsIaJj7hVHatdJ8DpUN+catMKBNBuFxVJ1DVR2mTxEwGwT6uSe8uV/XCM3WlTeD6JOBwpwVgnbCn+66SwTMlk+OZh+GeKey4qhzOxUeiiBgihMiEuzKHQWS5H/f8qX4KFxociDbtWCeffHLMe3bwjHgX3BfPLlMJv6+Ggjji4oGzjuOh+pg4E46TiBh5BPGMZw0cz0KaoXqbzjmkcQoXDqrRSZ+ubSsMcYR4yeLgWOIwBUCulQzOx32ksqKNzKBObGEEgAjiesMRGaiCo0qKNigiOJGEbsas0yHBlbYQPCK46w2IRUUnDzIuB5kdmRGN9ohAbUBGSEKiypGEQRuQg3YWSmpUVVBqI8xkenTtrwrpPgf8ER6qK+ldRSZO2HgWiKqzYJNBdQy93AgrGQVtBGS+iBQJ2okXbTRYYAgDzzvcVkMYaJMg0VPSJXwUQp566qnIsDfpvKtkUPpHYHimdHogs+K8VAuRcTjrmZ6dnBtrq7aq0Lhnro9oxRdgHNwbAs29IaQ8f547nTBcZ5WGggIIghUWgYYC0SJOE7+o+UDoWYjfvEvCybskPyBtuQINz5D4TZx0okWaIt7G10S4/UC8JX2GexQ6sKqpTXAFDeIzcZ/rU8WcCuIYVdHJ4oOROTS75557fhKsVxkipOvlRaRwJRwiMhkYXUhPPfVUdaPahMhExCWjovqQjIqehmTWLrJQAieDIHOgBx0RmYjO9x6UuoiIdGulJ1e4OoNEQKmdHmxkblQ9cA6OCfsj8yUzx0ILg/iRiNjPtUgYDhIKGSltXYgGVh5+afAlolflWuk+B6wE3Ll/RAPx4nngRiaRrBqD67lMmYyDsPIuyPTp/YfYO6Hn2yf200bE9XBncZYMQk2G7fwhLpSaKbVy/creFbCftj6eIdWaziqmVMz5EUWeAc+CQg5WJtVvhIfCyezZszXMPB/OAfQQQ0C5jgNxQ1R4/84fosM540WQ90U7D8IMXIdv54i/iBVh5N54FtwzYeP500uO8GIFhAs19QGFAwo3VJe5NEecJ9zEewpWrkq1LiENEH+JAw7iNM+UZ0Vc5X0iIPR25V3wTnnXhJt4z7ujzZv4wPdzLtzEU+IS/ijYEad4D7RZh+M7z4I4SZwO3zPCSFwhrnIN0ioFL45P9WyI47xf4lj8e+VcxPlEFrnRMNTo4+LqQOmQyEkGQcaULPOltEbph/34C5v8dQECzLckiBHfiIRLdw4Si6suw0qoSck/3edABkEmTfgIE2KQqjTIPVD9SLsA4oXIc4wTkTCIKlU0ZOpkKolAdLg+4eD6JOr469fkXXF+jkWMydx4rqmqe+sbniHho8qV8JGB1Yc4ZCrJPi4G0gcFB2fJx0McZj+FBJ5loqpb4gMFH85FoSFRuiD9Pfzww1q4oro4HvZT20A4El0jHjoicU3STHzcto+LM496F61MhSqXKVOmaFsIDeOZlHFWhbBokTEYRm2SSrTqE6zMqVOnageWsNVXFRBRqn+xEPmQOVGnHROtzCM7c+Y6gOoESoGU3rJVsAyjsUBHnTvvvFMFh09LqAmoCtRyYGHxe9dddyUULCMzMUsrgLYgqtLoQu/afLIR7oNqv3DnFsOoLWg/o+ot3HbbkFCdyPeMVH8nqtJPBtX8VEHSFpiqup30RLua62VrNDwmWoZhGEbWYPVgGcJRKzoYhmFUiolWBkCDsPc3Ilz+tmEYhhGPiVYm0cS3uFLVsRuGYTRmTLQamKhR5RQr7GYYhmGEMdHKCJxlFVUsEy7DMIyKmGg1IK4tKxYELCpcJl6GYRhRcka0Eg2gmek4yTpaQbgg6mbCZRiG4ZMTosWwRc8995yOaZYtHKmgROFtV13ou1m/DMMwDJ+cEC1GM2fQ1vBsyZkPShQsR5sE8uT+8hsoFbu9TX+PYRhG4ybrRYvpTxg3EJjmn2FdMp0KbVmBPvkuR71NRIytQLHY7/1YNaFhGI2drBctrCwHY+4xX0/mgxh5P2EV8qwt/Qn+Ilw+gXAFmHAZmYgrOBpGXZP1onX99dfLbbfdpqM033fffTqxXCaDlRXTnuXWnUZ5OOGKwk5TKyMzYXYE2pSZTNEw6pqsFy1GMmdhsjhGZ8/0kc196XFtWAEREcOq8tUrsUT5rmZtGZkE1fLMXMx0+4ZR1+RER4xsGauPcPpB5U+ccDnUqHJmV9hHrJsJl5EJMOM00+sDU/8zP5Vh1CU5I1rZMF5frLiyHggXYQ/vC27Fd3Huvn9dgh8TLqOhmTdvXrDmg9VlGHWJiVZ90iT+cftCpGIWL1yqTL4P589thf2ZcBkNCdPQ/8u//Iu0aNFCfvCDH8iVV14Z7DGMusFEq56gK36speXwBSmyL+wnrkehEzL9NbUyMoisKTgaWY+JVj1RucSE2ricIHFLSTtm6E5dM/0yGppsEy3SjKWb7CQnRAsyOcH4VhSihEUVDWc00URTT9QpWFNtcsdE/fnrulN/LAEaDUk2iZafHn1YC28bmU/OWFqZDEJFEDVJq8D44hWbxrmHuETv7itwZssNrhv+q+h5g3XDMNLASzCaZkK1HEbGY9WD9cARTRIIVZA0CKqKTHyYA3+suvuJKFHUL8LlD/UEnEhXFBMuw0gOaZA04qdFP01pQVDd9CecnIwMxESrjjlyJEgJBI8wamJJhe9ZE1W8cMWInC9cEUKnrfQShmF4ScZPKBXSkbdYEspcTLTqmMiQTe43LFwpgxyyzBz4D4TL3xO335Ka0QBUiKcZCuGMCaq37oQrFt2hftmbLffXWDDRqkP8EefD1XhBSoDgF3spcTUhuGM93HEVhCuM7oxcCizBGXVNpqa/eBKmBM9RxUz3Oh+ku2BbnTL/3hoTJlp1iKsZBD8RxIcx2Ksik2SfR2TNCRBeI8IV9ef71JNFf7IgMzGyn0yPZypMXpohhYRTjBdw/9dzJL34/ihK4s5C3qI+jAwhJ0QLMi3ROCsrTAXhCqeehMEP+ef+WCVl6bb/A1HhUg/+L/6CH8OoSzK10BjGTwdB2gjWlEh6ig2/ilfUl5FBmKVVR5AWEkX5GOEizC7ReFS0tsD3zz1GjoscE/Yf78a5/bXQJQyj1sl00fLTjiO6jj3FlrokSiSeU6aLcWPERKsOIDwkiGRESnAklLBw6Wqi49jvhCsgss5BLvGF9kfw3fAePtwwaotMFy3qPBJHfefqp58YvPsxvcpMcka0Mgm6uUdClDRopAgEJ/DgftUpUWphf4LEBSHvqYTLEqFRF2SyaGk1vRf9SQEJ004E0lY0fXE3ZmVlJmZp1QFHiPwkFFIAwUqQWqLiEgp3VYRLzxs6cUL/4Ny9K4a8G0ZtkcmiRZwnLblvsUgCFZNB2BV/LBV9GZmBiVYtw3dZMeLAuksDccKSyCqK+PBWkgsX+7w/3LO7mHr1/YfP668H5wm8R/caRs3JtJoOB+E6qvlCkCZD6Uk3/dUQvmvZgXw5UlzqOxkZR06IFmSKaJWXxyaFyJYGL1EyCbl596AZgMsEVGQquy/1FKyD79+d1y9hsh74CzbDRxhGTchUS4u0E01O/GGDdEBY/fDGp4N9MxfL8nvul6Ol5YGLkWmYpVWLJOrmTrD8RMOGt8SnEg/fKfAYuY/AY+zpQvgJMrI/cpEoUUF0noJrgPdT8QjDqDqZKlqR0WiCaO9v8ocNfvwws1q8c7+s/elU2fT7V+RIfrE0a99a9xmZh4lWLVJe7g+NG4vfC8mln4h+xOELTMhj6ESpqwljPAYrUf8xllyEwC3RLsOoBpkmWjrpKivhJBFKXv4Ob/HSVnlhqWz47UtyaOFa9YZgZaIIGz4mWrWEWllNm4UShY8vKn7YIvs0vSQLb8hdD/AWzyksXNFrsBJ0zKgAB7ljwj5i3eLDaxhVJRMtLUajgQrRm2QRrPoclWatW8iwX94mTb1CJzTv2FZ/jczERKuWiHTAIBhxKSVsDUX84ClOuBJaRc6JxBb4j71V/4SRI0PX8sPi9jl3378S/IQPMYyqkmmi5dd4EB5qOcLtWgFs+z8R9wOzl0m7MQNk7D/ulW4XHOc7GhmJiVat0VQTAKFQbQkSQ2I8Dxrcip4i1YRhuD9+vT/JqwoDceI5hFNo4N13cecOfl2AcQkdYhhVIeNE64ifrREuV2DU0FGA8zbVxcV3b8eRgmLZ8dgMGfCNS6Rlz07S67ozgp1GJmKiVQtQNUh1xIGCUk0UhCShtnj4JT9SjOdBPapzDDHCFdyXS3zOuSLBMRqA4DcO3yXwp8T6S3CIYVRKQ6e/MGXl5V60Dmo9Qri4TzgJqdvN+o4ps6TzGaOlzeBevqOR0eSMaDUkVIWv3npY/u2R5REdCCeMMCpIEeHySOIxIlx6Mjzh6HsM7K6E6D53bverbv4x7gxRcA9vG0bVyCTR8uNzEkgGQZpw4S3evFsOzF4ufW87R7eNzMcsrRrCkE2zFu+Vnzy5UvYeKpWSUk/BUgXFSzNakafCFbjhP4FpFiNcjmA9eccM/obO5XaGrhE6Wwh3Xv0xjLRp6EKjw6/x0NSVEILp8gkX5s1/e0P63n6uNGtnXdyzBROtGsB1H52+Wf782gYpDT4qLirxeyBpAuFXN/gTxU8vvmOQdjziPMUQd2/ByZN3zEhytgT+fIId/HhLNEyGUTkNWWgMQ3rQuOv9iY/CblvFygsr4d0/a7E09dJt1/OPDfYa2UBOiBY0lGidPLKLNG8WvXZRSbmfQoLMnz1oiyamMKFt3aceWaLngorJL4Sel4Qae4x/oqDEyXOJubjvVy8VnLuCRRd/iGGkIBNEizAcLCiT/CJGsiACB+7+TxDrffB7pNDvfNH/m5c0eNiNqmGWVg2gm/vwPu1kWN92cvv5/eXyk3tGEolC2vEcNGTBelIQHvXoeUpHuNzJYr2GYD+C5v0mES4fKhMRON9/2F/K8BpGQCaI1sZdBfJfU1ZL3oHiwCWIv0Ekjo/KO+l8cdooaTukd+BiZAsmWtWEax71Ht/a7QWy91CJXDKhp9x2/gDp2blV4MH/cTqgoUsSRMKuosEx6of1WM/udAr3yu4gQSY7r08gXOB+ITi/7+ILl4/3G/YWWjeMZDSkaM1duU9++tQa2XWgRGs6YqMs8d/7CUXk4k27ZP+spdLntkmBi5FN5Ixo1Tfl5eVSWnZU3pi/Uy45qWco0w/l+W4FHUgRRCe6ES96qooH+C7uZMH1ghNXrCIEd47QuV1A8B4jXPF4rolOaRhxNESh0fHqJzvlv6eulkI6QHkUlwVtyvo3jC9eBHPbA29Jv9vPleY2vmBWYpZWNSk/2lR2HyyRz9cfkknjuxGIiB4oLjzOjU1vnc2wN0dEuJyHwH+EyHqwM3wx1nHShBlcN0LUX/QUwZpew/eftAoy7lKGEU9DFBodk47t6i3dvWiqCUCKVbz88PA3JmSel33vLxHxhK3rhTbqRbZiolUNuB4FumkLdsnZ47pK65bNIsnEpV9NyPHC5eFCmSidu8Svf/mDZydCMadyOxOQ0Dnq3z/ewwUA56TCFZzM+0kUXsOA+k5/YVo3byItWjSTq0/rJf900QDp0KaFxlU/LfmR1q0dLSiRnY/6I180VHiNmmOiVQ1KPcUqKCqT95fslYtO6hkdnFN/vT+R7WAFWA0yfw1psJ6MyK4m3lqc9eTvizs4dLLkVYWBe0RMg2NivIfP7v0NvFQWXqPx0lCixXX3F5TLp2sOyrnHdpPTR3eRkf3a+fGUqOsVLDUNBhF319RZ0umU4dJ2WB/dNrITE60qwrX4gPEDT7DGDOwgXdu3UPewcGGxBOkkkudDE8QkyPw1tJUF2R2McMUR48K9s7iLJj05+6lC9H7jhSvw7295zzN8vPPiEfFuGAH1mf7C0K48fdEeOXVEZ2nTqpn25nXxkx9dvD/8Fm/dLQdmLdMPiY3sJidEC+or0ZSUlklRabm8vSBPLj2ph7qpCHgktbj8H+83cPOCqn68P25fPNyP7kvmwSOyK7i+EqzzN7HFBYFwOSLrvn//WP6Gjg/5ZzV8uNG4aSjRKiw9KjM/3yvnH99dt4mTCFdYvICQbX/gTelz6znSvEMb39HIWnLG0qoPuA5tWQvWHJSObZvL4N7tPMfoPv9Xf/RXV902f8IJW1f97cBLDOGMwJ0zvpoQ/F2ee/gk7gCcKxzjPAaiGI/zX+FSOESPaIA8yshQGkq0Zi3e56XBNtK9Y8toGvFg3Rcvf/3gx8ulSXGZdLvo+MCHkc1Y9WAVKCsr12kP3vp0l1yCleVdN5RWNBzh7cj+sKPL+1m8dRfqmOMCKpxP27eCdQjWo76izyCyFnUKET2JruHHu5ai6/5BcVf30J3647wbBtS3aBUUlcr0RbvlwhN6xFhX4XhJ+jlSXCw7/j7dOl/kECZaVaD0KB8TH5Z9+aVywrBOop1rg8Ti0IQSJB51Zr/u8ffF6ACbbAduup6EyL5AN5TQLccLjD4Tt+6tJba4fLfIud2KXiPYF3Pe4Bj34/2G9xqNE43X9Uh5+VH5dE2+tG7RVIb0js4y7AtXNP0Rg/c8+4F0PnmYtB3e1/dkZD0mWmlSfuSIlJYekbc9K4vSneuo4JJrON0Snoi7/iEx6WbFTN4Fmx0pboFdkWvohr8aS8jRex5h4Up87tBF3fNzFwn5j94NjsG6O9T7dXuNxkl9pL8wJaWlMm1hnlwYasty0ZYfP/0dlZJte+Tge0us80WOYaKVJgzennewRJZsOiRnjemibn5CQZBCKSZEpGOG/okVrohXVoKghyShIt796X7nQTdi7zl6Xs8dj4FwOUISFoL9gb944Qr5jxWuAOfP7TIaJfWR/hxMpb9mR5Hs8dLisUM66bVdHI9EW/DW8/4xTfrS+aJj1Bozsp+cEC2o60RTXFwu073S3Zmj/Y+JXU5NtRtrmnj4FyQcl5iSCZcSEQnWdbdKQtiLQxOm51/3Ow8JusJHCU4IMRdNBPtjBS56bBBGJdF5Kju3kesQb+pLtOi9+9aneXLucd00+ZC+/OpAl97YECmcv0KOHi6WbhefGBxp5ApmaaVBSWm5HC4qlw+X7dPuta7OPJzJsxbZjDp7hITM/4lus5JAuNxm7Hl8/87J+VMHJyyBW9RX6JkEB2BtJf/4OHKKKOqVgPniHEtwHnZX3Gk0Euo6/TmY5HHXgXJZvilfThvVWa/rIp6mSY2I3kZZmex65F2/80XTug+XUb+YaKUBI0fPXrpXRg9oH/mYOJxHuwybH19YNAX5bsGq8xNd8dGEF4bb8Jz0p5Jb0kPVT3CO4FiIClcIdy3PX/JvuCKniPqHwHvseVnXk0V+jMZJfYhWmadMfB952qgu0qoFtR1+DHTi5ecDIvtemC2dTxwq7Ub2Uz9GbmGiVQmlpWVSXHZU3l20Wy44oXsky9Z0or++i/8TZOnBPv+PD6tuwXNwmBJZDbt569xRyCkJnq+wx9Bj8EMT/1wCj55zKuHS1M8SDmhAVLg4PrhGEGB+Kh5h5DJ1mf7C7D9cJh+t2KfjfXLNcNT0V49K2a79cvDdz6XvHeepi5F7mGhVQmFxM1mwNviYuFfQoBukFn78xW37mThbmqjUNVjXhb3+wgbbjsgqK6FbSXVXvqYEB/iXroAfiuAseoC/qgTOiXD3FCtc0QOid+fcQv7C1zByHuJKXYtW2ZEjXsFxj4zp3146t/cHxaX9qtyzvlx1fVMvDLvpfHHL2dK8k3W+yFVyRrTqgrKyMik7WibvLMzzrawgcejVgmvy13cPtj3hUjdd4oTJ21C/rIe2HZFVVgINcP4T42cUkftnM4FnX2CCEzoRCo4JW1vuND5BxwznGNnJ8f4x/nnD4O67hQ81chviSV2L1qHDJfLe57t1YNz4uKXpyPst+nS1NDlUKN0vPcnfYeQkZmmloKTsqKzZdlj255fJsYM7xmTSuhakHOcaEQ/34/3qMc6Dhyaw0Lb6CG+7+8AtWI1KQSzh+46cI+Vj8HaGL8a6OvkHxT5CPwCJrusHyHlO5CPqFnkmRs5SV+nPwUg0H684IN07tJS+3Vvr9eLTUdPSMtn9aDDyhXW+yGlMtFJQVCZqZVG6o+qBRIIIucSiP8EGVRSgiclf9fE2wsc4Iueo8OutuHvBzVtVp2DT/xNF/QdEVuP8QDRUsc9Jt/Qase4+HBMSrtC13Gl8F+fu+1cip0t0XiOXCMfBuqCgqESmLdwjk47rrlGMq+niXdddOv/1T6TT8YOl3aj+voORs+SEaEFti1ZJ2RHZvqdIlm/Ol9NH073Wd+c3LEL6E2z43W7B3+/7jewO/foSEt4OE7PNqndrOHGHaEuc9xh0n3pkiX0m/lVjiVxLzxvr38edkB/15K8rvrvv4vvzrxH4Cw5LFV4j+yEO1ZWlhZW1dEuhzkg8ql9bjV/EJ128/Xrt3fly8J2F0vdO63zRGDBLKwn5BSUyc/Ee7V7bukUzvQYJBaIJJtj2fxTdpw7O1c/GnThEjvFWfPfQdrAOodUI7Ne7rPRWPQ/qxzsgoXAFbhGLLrharNcQ/lF+ADxPMQH1D/JdvPfg/YtcI+QvfIiRW9RF+nMUlZTJW/N3yznju3pRqql3LWo8gtjm/TRr1kR2PzZN+t48UVp0aqfuRm5jopUAurkfLCiXOSv2yaTx3YIM2Sea+UYTjv8b9cWqv4kQES4/Gw/7AbZ9d3+blbCXyCornCbQgVR3ynOIXEc9hk4YECMqccKF7CQGMQqOgfA1EgiXj+70Vz3cIUbuUReixSSPm/JKZMOuApkwvJNGIKIQMYy4RIwsXrhamu4/ZJ0vGhEmWglg2oOPlu+Xkf3oXttcE4gmFpfrsq1ufiLy/0T381f3R9yjmboKVeAOuq2//n5WwvujouL/oAMRvwlwzyJyjqSPBQ/ByRzBevJqQv6G9rljPSfnGjpbiMSuRm7g4lxtU1Iu8uanu3TotGZNkSj/WsQn/jX1RG3/5Bky4J5LpUmznGnpMCrBRCsO6tALy5rKe4v3RLrXKsGvExl/3d/2pyjx3dwKf3Vx28F+/fE2Iv49nB9waxH/rMQLlwcubIacIsRf0/cY+3yixyV4bp5TWLiiwQvOq39jUTGLiHPYhzuP56bnDTaNnIH4VheitX1vsU64ekbQpuwvXnoLGo8L354vnY4dJO1HDwiOMBoDOSNatUVxSZmXUA5IhzbN5ZiebmpuPxt2l+F6sZf0N3Dz/cVuR/76P/6Wt+G2wU1iB+Hj/V9vJSxcQeYfkYPAXyJ0Hx51AsnYjCUqLiF3dzK9hu8emx/5J1Rf7AhfHH+Ra/ju/jVwC9zjDjGyH+JnbYtWSekRmb5wt35q0rZVM41H0XTXRJrvPySHp9H54nz1bzQezNIKQR16YanIu5/tlkmelRXtxq5//XWX+Xr47v5vVAACgp386Hmc58BnZMuteIS9OeFyxGyzGmT+GppKb915iD0nxIbGA6/uWnqNRCdnP1WQ3m8i4fLwXXhaekJ/CXkLH2JkN7WV/sLsPVQos5ft9Yds8raJhy4NNG8msv+JadLrhjOlRWfrfNHYMNEKwbQHK7bky/7DpTJ+UAd1c3kr6YUMnmuRFbtZUnGP7vd/ddv/8Ynsw7+fibttiJ7DuYe22XDb/o+id+v9YXfKO1c/nMNbwWP4JAGxTs5f4Mq6/ycO9icRrkDofBffX4RQgMOHGNkLcaA2Rau4pFTeX7pf+ndrJT06tQziCWkjiFdLN4jsOSw9Lp+g20bjwkQrREGJyIzP98jZY7t6ycPPkEkw8RaXZtQBzk9kXX+j2/qr6/4vf12p0Xf3XR0Vz8ERrOim+4nsJx1H/Po/sXiOPBs9Kx6SPCb/WHeywFNwYv4mtrggWgKOBASvSYXL+3X+jJwgPg7XlEMFpTLjMy8d0nPXO7e/eDu8Py2bHpW9k9+Rgd+0zheNFROtAGZE3bKnWFZuOSynjuyi54xmtH62q7+64v3x/0fw3fmNFx1/Rf96f5y7OzebkUQZ4M7hiN9WywacY+jWY/wFxIdBSShC7PTcYwPj/ybyHrpaZC3sP0a4wuhOXQtfyshOiF+1ZWkxlf6iDYe1t+DQ3tFBb7lGU8+t4M250mnMMdJ+7MBgj9HYyJmiSk0TTX5hqcz0rKyTh3eWli38x6JiEWSq4cyVdd0Mfp0oREkuXL57sO3265+KwuUsPCW0X48PC5e3qJPvkpLgFJ5nDgrWA/xN/saeyW2lat9ya4oLKM6RY6Jn9/8G7t6P825kJ8TH2hItZgh/Z0GenDOua+ASpen+A1IwbaH0u8s6XzRmcsbSqgllnpWVd6hc5q3aLxPHYWW5zNU/tzu99rSNXMoXJn8t6i+6BPv1j7/t//pO4W3wu81HrwVsR6om9U90vzs+gsv8vUV/4nbH4PaRz8T58zdjHbmWZklcw/tTUbzwH7hFxDQ4h9vUxT9PhWt4jngPuRhZhMaPWhCt0rJyWbm9SHbsK5HjhnQMXH2wsoqenil9rj9TWnRpH7gajRGrHvQoKCyWj5btkWF920mntsxMHAiQv1vP70Qi6qZ/g1//2s6PQ48L1n38LbyxFjlnheOClYAY4Ypc020HsBE8Av1J8TjwGrkG/uJEKOa84D3bmDAmPLcfAPUXL1yhA3gi/lBPAay4jYijkW3UhmgVN2kqb3+6SyaO7aIDVDtYb7Z2sxzJOyg9rjw5cDUaK41etOjmfrj4iLy/hO61XdTNz2u9P/7/gGjG7dycP9xZ1YV158HDdwvWQ+7s0E119M/NmruGvzO6Hd8ZJLLf/4niPQb88DQq7Atwz8pdSqsK44i6BM+VYyIHsBq4x8D+JMIV498XLiM34H3Xhmht2XZYlm3Kl1NH+enQ0bLJETngph2xzheNnkYvWnSvnb/mkLRv01wGdOdjYpfJBmvBry8egbi4fR7qHPEc7w5OjIKtYMW5Rbf88Pvu/jHBzugxke3AzW1z7yoqbHgLq26f/xMDx1YQrgQeI04RTx5u3T88CVGBj4D/QLgSXMrDd40/zMh8wvGpuvBRP9MAnTisk7QO2pShebMmUjhtrnQa2U/ajzsmcDUaM41atDiuoKyp3712rN/wS6aJe5CFxmSwfkYcEq5gp67rim4G/gJ3XRILF8T4cfvVPbi2cwu2Y/xEVtgX7ABWVSR0K7wnQnwYwv6VyLHBzpB/t+49dW81/rlH/UXW3LHq1fcfE15dDwIQdykj8wnHpeqya1+hfLJin0wM0iGQppvnH5bCtxdJv3+6IHA1Gjs5Y2tXR7TogLFi0yE5WFAmY4+Jb9z1slVNi/6vS5Z+AnUZL9u66hFkw94f393f4fZXEB23P1gckf26Hj2n/sSdgxW3qiuJnoE71v9JTaAbSuhUoatEiOz2VlJ3zAiWSKA9IhZX+GLBMfgLfozsgHhZE0urqLhUZi49IEP7tpMu7WlT9mnRvInkPznD73zR1f/Y3zAataVVUFwu73pW1llxDb9RvGxVM0/vj/9fUfEINqJu+je6zRLnyRcd5yO6nx/Wwtu4BFuhI3zctu/N2x84RK4HrAa35O4stDcGbj1yKJ4riJA7Nuoec62K3j38/b43z4OeNzgm5D96d87R+w38hS9hZC7EhZqI1qEi/3OTc8Z3C1x8mqzcJLJzv/S46pTAxTBySLSqCsds3HVYVm09rN9mxRM9pS8KZK7+bxTnJ/bXiUgT9ct1AucIzr8SbDg3dy/+jzuX+/X3syTtCu//KNq/ItCAVFmK7o9qhX+gWw/h30lwppgDUhG0bzmv0YsEvxB/Hvb5bmldwmhQeL/VFS3alOeuPCQdtU25deDqWVleHDzw2HTp/3XrfGHE0mgtrcOFJV7pbr9MGNZJWoUafsNoXhtkmpHMEzd+Agd+WdNvuHRbXaP7WQI/OOmi+9268xU+B38RBV/4fIEKdgbgJ6Vwec+D37BwxZ0iDv/5uXPEaEoMoROGhMt7A95qooN8/+60SvgiwT36TygM54q6RQ4xMg7iYnVFq6DsiLyzKJiZOIDRMI7MWCDtR/SVDscOClwNw6dRihb+9xwqk7mr9mvVYGX4IhLKWoMM1Hcns/Yd+GHN3ww2EuD7i+5U/6Fz+L+x2bh/DCu6GSHi3/+JrGiYAuHSP6HHE/EbAv/uGbpzxngM1qNOnt/IxYNfdUr0HtgfJ1yORN4dXnjca63C6zXqmXDcqQqlZWWydEO+5BeWyZigTZnTtCwslkNvzJd+d1nnC6MijVK0aPj9YOk+Gda3rXRuF234rQw/b/bFxGXAKg4JFAFn9Rf59Y5zGxF33ILt8N/ATX2E9us53AY/wXbEf9y2H7YAVr1gupDqntBuCPvXVTw7p5hbjDtQCdw8f8mFK/jLuwqHLTi5ntdbZbcu6mpkA9URrSIdsmm39hh03+21bN5UDj45XXp/8Qxp2T12VAzDgJypLE430ZAxHywtl5mLo93c08HPY71sNfTLqi7ehm7zq9v48bf9Ff2vxE72iHvstv56i1YV6nZoP4u3ETgr4Wu6/WFitvCjnoJNHlms9zg8D85PnBBt+fNrsuUvb8ju1+ZJ/pKNUnaw0HMNTuZ5TSxcDs+fntf79RZsMDrCsKQ6yshM4uNcuqzbVSxrt0fblBmqqXzFejm6Zbf0vNo6XxiJaXSWVmlpmcxfftD/mLiHm5k4Pfy06UQkKibgEm5ERHQLApHRtSjuWH5ZjW5Hfek+3QxdM/gbbCoVrsl2ZCPkDu4xOccUjy0SFvUTcxYv5jSRfdMWyvaHpsn6/3xCNv/uJTlSUqbXVuLOq6/HW7SS0PPDJpkUS3VK6UbmQDyp6jssLC6V6QvydEYFurZDyyZH5fDjM/1pR5jp0TAS0OhEq6j0iM5MXBUrK4yfJztR8H+DbDpw88Ph3GP9Ozd/w7n5riHcfrcEu531wrYTKodu486676DbjsgqK+5ReeshLzHwOFki5/DWizblSd4Lc2Tdv0+WfW8vDHaIdDpztBzznzdI05auqpUT+wfyXpxQEdmaNm2qiwlV7lBV0cL/9j2F8umaA3LmGL9NmcJL6bsLpN3Q3tLhuMHqZhiJaFSihb8lmw7LgcOJPiauKk4UomKhW96G78667x72h4Pvpo7+trqFjtM//obu0yW80yd8DMRcW//E7lcVAtxY9RZ+wl4cHHektFzyF66VbQ++LSu/+hfZ9ItnpWxvvvS8aaKMefZfpVmHNtLlwuNlwD9/QZq2aK7X5xJe/iP0UqYXGOsmVLmN/97Tf7dYWe8t3q9psEOb5urW6nCBHKbzxVcu1G3DSEajEq3iknJ5Z+HuFB8TpwcZOov3N/jV1UjmHyMeMb+eu275qL/Iur9Xf3U9cORH/7Lp+3f7/d3+MY6Ya/s/0W1W3H1H3KLCxXrpvnzZ984i2fSrZ2XFHX+QvOfnSIueneWYH98kIx74pvT5pwulvVcSbtayuQz852tkwL2Xe4J01BOoo9KiWZNAqKzKrzFBvKrK+z5YeEQ+0AGqu2l0bNG8qRyaMkN6Xnuadb4wKqVRidb6XQVJPyauDmTyPr6Y+GtR3P7YX++P/1+JERl19zf89WDFw32TFbhG8HfHCRdLsK1CFSJm21vlegWrt0nelPdl3T//Xdbe95AcXrpROk0cKyMevEcG//xW6X71qdK6v5fBeIdoO5R3DFV+nU4coiLVzDOrTKQaN+m+/8KiEvlo2V7p1aWl9O7SSgs4zdZukaNb9kjPa04NfBlGchqNaPHl/fSFe1J+TFw9nGDECUewoaKkv7qp+C78RnH7+XX7QdfcuSKroWtG3MK/cddk2617lBeWyMGPV8i2P78mq+/6k/f7uhwtK5c+d18sIx65T/rfd7V0OmuMNG/XWqv31IJqQg8/LCpRkTKhMhzppD/AX2Fxcx067RxnZXkRbN+j7/gjX1jnCyMNcka0KiNvf6F8sjK9j4mrgn/pkIh4vy444XCxpkton/qNrEeFxbn7fyI/vnuw4Op3zPB+dV/gy/14276771SyY5/seW2ebPqvp2T1V/4k+6d/Jq2H9ZHBv7lThv3xbul127nSblR/FSaWFl7+Qa8upoYgc3HtUoYRD3EtHdEqKyuTRRv26Gcfw/u1U6u9ZMan0n5QL+l4wpDAl2GkplFYWiWelfX+0oNV/pg4XRAGpEEFwvujYoETv+oWWo9x8x10NSDqNyo6blt/dT3s7t+37+4fA0fLj0jB0o2ya/K7sv7bD8imHz0uxZvzpMtlJ8vwf3xHBv7oRul26UnSqlcnz3OZZ0kd8QRKpKWnVs3NijKqQGXpz1FYclTblF3P3Rb5+XL41bnS/27rfGGkT6MQrYKScpnxedU+Jq4qvohEJMP9jxAVmah7ZD34jQiT/+O5xW67Ff7qEue/LL9QDr2/RHb870uy3rOm9jw5U5q2ay29v3uNDH3wXun79Uul0ynDpWWbZtL0aLkKFTWlLVu0kGbNmplQGdXCxcNU4GfF1sOydU+RHD+0kxffmkjRsx9Iz2tOk5Y9vIKTYaRJztT3JMtwmU7/4xXBzMRV/Ji4qvhp1/vj/9dt/xcrjIX9vnuUkHXEEtrJamSvrvPrb/v7RIo37ZL9L82RbT9+QrZ4FtXh+aul7QlD5Jg/flUG/OI26XHdGdJxWG9p1Zy2Kb/ar7knUC1aNFehMoyaQpytrMBTUFwm7y7aLWeO7uLFwabScv02KV2/S3sMGkZVyHlLq7ikqUxbuKtOrawwTkx88fGFijUIC5cbpsnfdu7+PYT98atDP/mbcqS0TAoXrZV9j0yTrff+TfJ+/6KUHyqQrjdMlMEPf1v6fu8q6XreOGnfra20a91M2rbyBKq538PPrCmjLqhMtNiPhbV4/SE5fVQX8aKl7KXzxdculqaUogyjCuS8aC3dvL+WPiauCr7EIDiO0KqGV3/1r/OHUEXFSdeDjfJ9+ZL/3iLZ/bsXZNs9f5FDr8+T5r27SJ8f3SyD//x16fPlSdLlhIHStk0zad+2pbRp1UKaNzeBMuqPVHGtoKhUZizaK8cP6SQd2jaX4hnzpf3AHtLxpKGBD8NIn5wRrUSUlZXLW5/m1fhj4qriRMgnEB9v0R/daBIJs/8Xd/2r/7GsStdul0PPz5a8Hz4mu72lZNU2aTdxrAz6yzdl8E9vkb7XTpDOA7tI25ZNpF2bVtKqpS9UhlHfEJeTidaRI0dkb2GZzF7GzMRdpGVBgeS/Ot86XxjVJqctLWYmXrGl9j4mrgpOhCK//o8SFi5W2TpSWCJF81bLgYffkj3fuV8OPjpNP+DtdtcFMuThb8mQ710p/c8fK526tfUsqWaeSLXUdinrhm40NKlEq6i4RGZ/vk8G9Worvbu0lvyps6TXVadIy571nyaN3CBnRUutrAV7PcGq7Y+J00e1CcFyv/rXhzCX7zogRe98Kgf/51nZ988PSslHS6XtyD7S7xe3yNDf3SlD7jpP+p40RDq0bald0W38PiMTSSZaWFkFxUe05y4fEzfdsFXK1+2Unl88PfBhGFUnZ0Vr78FSmbN8X2QU6YYG4TpaXi5lKzZLgVfaPPjDRyT/t89Kk7wD0vXKCTLkwa/LsB9dJwOvPlm6D+olbdu01M4ThpHpJBMtCo7z1hySNi2bysi+beXQI9Ol31fpfOEPkmsY1SEnRau83CvdLd5bZx8TV4UjhwqldM4yKXzwdcn//gNS8vKH0rZrOxn4z1fL6Ie+IUO+dYn0OWu0dOzcQVq2bGHVfUbWkUy0DpcclekLd8u547tJ+fuLpHW/btJpwrBgr2FUj5zJIcOJpqCoWKYvyqu3bu7xHNm6W8remidFv3lGCn78mDRdvkG6nz5CRt//NRn3v3fJ4FvPli6j+qtIWS8/I9tJJFpUDS7bmC9780vllD6t5OBLH3tW1kXBXsOoPjljaYX5ZFV+vXxMHKGsTMqXbpDSp2dIwX/8XUoeekNalRZLvy9PkmOf/K6M/OH10ufi46VVlw7BAYaRO8SnP+BjYgqO5x7XTfKnvic9rzxZWvWyzhdGzcm56kHq0d+cX/dW1tH9+VL+wWIp+esrcvhfHhJ5b5F0GtRdhv/iSzL+oW/KkK9fIl1PGCpNrRu6kePEW1pHjhyVdbtKdBqgM1rmS9maHdLri2cEew2jZuScaC3deEj2Hy6ttY+JOa2e2itMHlm/Q8pe/UiKf/GkFP33FGm1I096X3K8jHv02zLqV7dKPy9htu3f3T/QMBoJ8aJ1uLBYZizaJWeM7ChFT82S/l+9SJq2tM4XRu2QU6LFOIOvzt1V44+JOZTJDVuUlUqTz9ZK2eRpUvivD8qRZ2dK5/atZPB9V8r4yfd5v1dJt4ljpHnbVsGRhtE4caJFGtxzsETmrdwv5+Vvlza9OusgzYZRW+SUaG3JK5Dl1fyYmDTHtN+tDhySpu8vkuI/PCcHfvCwHJ23QrqfMFhG/9/dMvqPX5E+t54j7Ub0jSRSw2jshC2touJSmbn0gBzfq4WUvj5Xxxc0jNokJ0QLSDivz99TpY+JmYSuVTOR1hu3S9OXP5T8Hz4iB3/7nLTYly/9bjhLxj/xXRn24xul+8UnSIuu1onCMBLhRIseg/nFR+X9xXvk/A3LpMflE6RV78z4TtLIHXLG0jpUUCIfJfmYmEIgAsUcPi09QWtXWiRtP1sl8sibsv+++6XwpY+kXY8OMvSHN8i4f9wrA75xiQ7maR9BGkblONEqKS2Tj1fsl1FlB6Xlpl3S6/ozAx+GUXvkjGjNWpYf8zExiYjqPsbp69CqibTfnSct3p0vRb9+Rnb/x2NSunSjdDljlIx5+B4Z8Zs7pNd1Z0ibY3rosYZhpA/pDwqKRd77bI9MWrlYBtx9sXW+MOqEnBAtRsB4b/EBOWd8NxWpLu1aSreWR6TNqvVS9tS7kvf9v8vev70lTUvKpN+d58v4x78rg/7lWuk6aZw0b19P33IZRo7iROvzjQdl0NrV0rVfV+l02gh1M4zaJidEK6+si2dhNZcJ3USaf7RY9v/hedn8rQfk0DufSbvBvWT4r2+X0X/9ugpW+3EDpYmN6VevbNy4Ufbu3RtsGbkGolVQfFRmf7xDJm5aJwO+bp0vjLqjydKlSyt+zp5l/OxfnpHztm+T1mWlUj6kq5QP6y7lg7pIk1bNtZowvEC8W/xSEz/J3FlS7Qsvqfwl25fM3S1uf0Mwa9YsmTNnjowfP17OPPNM6dzZRkbIJZ577gVp02OM7J08R849e5D0v+PcYI9h1D45IVobF62U7es2ytHe7f3pP7ySX6oFasM9vNTETzJ3llT7wksqf25fPPHCFl4q2++WVP7cvu3bt+s6sH3SSSfJ+eefb4MD5whPTpkqe3f2kFPnfiYTHrlHmrZq2EGqjdwmJ0TLqBphIUu2JNufzJ0l2b733ntPNmzYIM2aNZMTTjhBTj31VOnYsaP6N7Ib2pMfm/Ky9H5lo5zwzQulz6SxwR4jEygtLZWdO3dK//79A5fsx0TLqHNmz54txcXFKlbt29fO8FpGZsDMxJN/9KwMyDsgfe/zu7iHre1kS039JXNnSbXPLen4YXH+spXCwkL5wx/+IEOGDJGJEydK3759gz3Zi4mWUedgbWVzwjcSw3stKTsi2zdvlc/nfSYtOjZXN7cv0ZJsXzL3+KWm/pK5syTb52A9LGiJFkjk7pZU+5PtS+aeaIn3i2jREcoxfPhwOffcc6Vbt26BS/ZhomUYRrVgNHcy8sY0w3ZYzFgSubkl1b7wko6/VH5S7Tt8+LC8/fbb6qdDhw5y+umny3HHHSfNm2fvN3QmWoZhGDlKfn6+TJ48WcWK3rvZLFYOEy3DMIwchfEgsbjoBJUrWJ9jwzCMHIXPSnJJsMBEyzAMw8gaTLQMwzCMrMFEyzAMw8gaTLQMwzCMrMFEyzAMw8gaTLQMwzCMrMFEyzAMw8gaTLQMwzCMrMFEyzAMw8gaTLQMwzCMrMFEyzAMw8gaTLTSZO/evbJu3TrZt29f4NIwlJWV6SCY6bBlyxZZtWpVsGUYhpH92CjvlcDQ/u+++67OS9OvXz9ZuXKlnHTSSbrUN6tXr5ZXXnlFzj77bDn55JMDV5GioiKZOnWqbN++PXDxQdzwe+aZ/oyy+/fvlxkzZujvmDFj5JRTTtEBNQ0jm2BiQ6aQb9WqlfTs2TPnBoQ1UmOilQISByJBxn7VVVdpIvn4449l8eLFcsstt0i7du0Cn3XPoUOH5LnnnpMdO3bIBRdcECNahPOZZ57Rqex79OgRuPoMGzZMxRYBe+ONN3Ta7cGDB+s65xg4cGDg0zAym/Lycpk/f754eZbGYSdcl112mf7WNWvWrNH8oLS0NHCJgnCSR4wYMUJrQz766CP13717dznvvPM0bRq1gxWzU/D555+rSGCpuETRpk0bKSgoUKGoLxCcTz75RGce5frJYCrtc845J2ZBsIBzkOi7dOmi50BwsR4NIxtgTqh58+bJggUL5NJLL9Up44nfW7dulc2bNwe+6paSkhIVp2OPPVZOO+20yEJBsGvXrpG0tnz5ck1bt99+u4rWp59+qu5G7WCilQSqBRGtAQMGSO/evQNX36ohAaXTrrRnzx5ZtmyZVtsl8k+JLB1oS+McTJNdXZixdNCgQVrVSWkRy417M4xsgMIjokUa6NOnj7q1bNlS09XBgwd1u66hxoXaCUTTFQrPOOMMzQ9Gjx4dqXmhup7CIWkO0SIvMWoPE60kIBK0/WC9hNt96JDRokWLSqsjFi1aJI8//ri8/fbb8thjj8mTTz4p69ev1wgOnIfqvry8PN1OBhGeqgba0Nq2bRs5PhVYVIkgwV9yySX6e/XVV1uVhZE1UIAkHY4cOTJw8S0fV4NQGfjbtGmTrFixQg4cOBC4RiFdVXaeUaNGqUiFwcrjfFQLOqi6pGrw9ddf1+YE2o+N2qPZPffc85Ng3QixZMkS7X1HZEZs6ATBsmHDBq2mO/7447UklQgEb+7cuXLNNdfI+eefL/3795eNGzdqFR9WExGdyEwiILI3adIkODIWEtoHH3ygVRJUQ1DlQH0+7VCuKgJIbFRJcO45c+bI+++/r6LJ8ViJYdFF+Dp37myN10bWQMFt9uzZ0qtXLznhhBMi6YV0RrwfO3ZshbbcMIgbbbgffvihdqSiug6hwQpy1e3UiJB2aAMOp5dUUFMyc+ZM7Qwybty4SLhIY0OHDtVfwhuuqTFqjolWAhABBAaovyaT79Spk4oUokWEDJes4iHSH3PMMZqQiMhUFYwfP14jL1UHCCE993BLJliwdu1aFR86XiCUVIOQuBAtrCSqTAgb4SI8WFBnnXWWnHjiieqXe6AKBdE0jGyFeE46IF1t27YtUoCkkEb7MvG9Y8eOge+KIFJU699www1a+GvdurV2psKd8yF8WGC0k5Ge0oVCLeGaOHFiheuT7kj3XMuoXUy0EkAEJ0IjOpMmTdISHgvtQHz3NGHChJQlOyIspbDp06fLe++9p5YabpTiEBcWEgfWHCW9RFWNJMY333xTEyrnwlLDQqPHFBYUiYxwck6gypLFrRM+EjYlSqxCw8hWiMekIQqQpEMKkIgE6YG0QzsT6SsZ+CHNkdaoYaCWgnOxTTrjXPTw49zp4mpBOAdV9+laZ0bNsSedAESCKgUSh4NIimBh8VRmuWBN0ZYFCAZdZF988UWZMmWKnoMPlInwlPCSVTGSuEgMJC6uyUJDL5YZpTcafqmSSAZ+qJ4gLIaRzdD+izgQ36mdYKEmgzRK1RzxPBVUA+7atUueeuopeeihh7QwSFU7Ykc3darwKejRbpZO+xhg/dFGRliSpWGjbjDRSgClJiJiuPRGJMXaoQoOAUkFvQb79u2rvYxOPfVUufnmm+WLX/yiCt8LL7wg999/v1ZLXHTRRUkTHKVDEgRVH27BqkLMODfbrl2LRE3DL+d3OOGtLEEbRqaDNUQ8DqdHrCyEh44ZqarYgW7x9JqlWh3/pONHH31UxYt2MdL2W2+9pbUS6VhMVO8jcFho1gO3/jHRSgBWClaW60pLNRydGxCLdKraEBO+7XIJgESF4Nx2221y7733yre+9S0VMuq8qwKlQIQJQQpDAn7ttdf010F7GOFPZY0ZRjaAFUQh0nUeKi4uVtEgPWJxVQYFRLqn097LCDF33nmntkPRJoZ40cuX6vTTTz+9UgEEevySvkhb1mZV/9iIGEnA9J82bZoKCyU6OlEQ0ammaAgoBVIypG4fQWUUAL67AsJK2xnVjiRkqiMJM9WLiKz1FDSyGXrifvbZZ3LTTTdpByR63tIBgt657put6kABkIIdwlMV8WEoNGo2KHhWVuti1D4mWikgUpP5E6FdJ4dMBkuM7sGIlGv/MoxshzRIgY32WdIh1XNYTjURrOpC4ZG2ab69wmoz6h8TLcMwsgLatqAh22kpyFI9Sfua1WA0DNamZRhGVoBYNXTHItqpXdd5o2Ew0TIMwzCyBhMtwzAMI2sw0TIMwzCyBhMtwzAMI2sw0TIMwzCyBhOtGkI3XCan4wPfRDDEEl/e8+Gvg0Fv+UCSAXgbEr534RuYRNOHG4ZhZCL2nVYNYCiXWbNm6QjSjAUY7o7LR76Md4YoMKwT8/gwQgUL33kwNQJf+TM2YUMMtcQUJ0xdQvddJrtkDDWmZkjWpZgRAJjxOJHA0f2XgUd5DoZRF1A4ZC45RmJnDMF4KBwSjxnBxg2PRuGQEWSYb6shR66gcEj4+barKoMUMHaoGz801ZiI6frLFWxqkmrCvFoM88SX+Uz0Fo6MjFXIWIB8iHjttdfq/Ftk9ogUEz8iFAy3xAjVCBvbrNcXDBjKKPSEnalXECwm2cPyI6yJRtJgUFEyAEYCYGZWRrpncR9ZMm5beEBTw6gtKBwyCzDT+RA/w2mNwiGjZTBjAuLAGKFA+sLf7t27ddgl4mZ9pjEHhUPC7iZoRUhJN6nEi7ESyT8WLlyoaY7JKxElRgAJi1K6/nINE61qQKmJiDhkyBC1nOIz+QULFuh8V0xt70p9jPzOvEBMKeKsGUaJRtgYW43EWB/jGnI9ZlvllwFESTwM+eREiXCwHQ/h79q1q847xJiHLFiQZBYcw7MwjNqmsRUOETVmgmA/tRfM9IBYM7YoMz9wP1Xxl4vkpBzzQinV8AJpO2KGUQelMaYq+OijjzTzpsqB0kkYtikhsZ+FNiuqHxxUlRHxqHaIj3iU/BiBmgganmabBMa1SWBhXJUamX86cB7m5KLkRjVjPJw//hphCDcCRQR3Isk9EFbEmJJpIsgEzjjjjGDLh1HlGYvNqgWNuoD4SPojfg0fPjxwjUI6Iy4zowIZNRCnOY504sCyQfAQjHDbcl1CGqTwSgHQjUSPYFK1Sf5BITARTD7LsTQZOGuJYxiFnrzKzY+Xrr9cJKdEi5dIxKTthZHQiSS8XNyAAWURsldffVUjE6URrJynn346Mg0JbVBTp07ViIX1QF04ZjdVFMA1sJiwOhJNLcL8PNStk8jCJjqiRynRJS4H1hbh5PyJRCgME9k98cQT8sYbb8izzz4rDz/8sIbfiS5TllCyYwTsZCCqROj4Ua25T0Q13c4hXItqCRIkz8JofFjhsHYLhzwPRJW0Gc4nqNrkPOQr5E/p+stVckq0MMfnz5+vFgFtL0R2phMhYgPCQEZLyYzJHInIF1xwgUYg3IGEhzhwLCUXqv+YrNFNxU2EI2EhWInacKhnJtEQ4alCdAtVbwhDvFggbMysSkQjISaDiIr4nnLKKfKd73xHvvrVr2oVHR1B/v73v2s1CTOzElmpgkwG1SeId3zYma+IRBWfsSSD+3TPKT5DMXIbKxzWTeGQtmEWrhM/Zx73xHMl7On6y1VySrToocfLDJe8mK4ekQISCC81XN/brVs3LZ24LutEMiIVJUciLyCArscSkYFSGPP6xENkITGRkJn0kWNYuAbH0UAan5iABIWYIIjJ4L7o7EDdNSJBQr788svly1/+slbdEXn5pX7blewSwb0lgnO6pTLIUGg3QMidmBuNBysc1k3hkDROOzHhQ7BdWuW5URXPcU6w0vGXq+SMaJGR0r5CJEkUydlP6YZ9CJeDbSK4qwMnAdH1m9lJmdX0+eefj4gXIA6cK3wOByUrrkGJjsSKwLAgYhxD3XoiiGBEvPhSUxj8UF9NZkHieeyxx1RYSaCElwnxSGiIJo3XySDRkIDjEw0JjDDEJ/ZEUO2ByHNvnM9oXFjhsO4Kh3w6g+WJpTp58mQVSKpOOR/P1N1Xuv5ykZwRLVe6QBxYkuFEx8E6L5pjgfMQIe6++25NhNTLU41BIgEyfPwkEhjcEAMSk4PzUxpEXJKJFokQXBiSQZ0/5yJBUWqkOgUBo+qCOm56LNK9N1xdEg89F4nUlBTDCQvB5TgSdio4hrYE/LmStdF4ID5b4bDuCodUp1533XVy5513ak9dxBHRJFwIqOt5nK6/XCSnRItIS6JIVF9MBOJlEonC+9kmA6cUCCQI3IgUiNaVV16ppTcaZIESDAkwUWmNaxBZw4kZq4TqFBIXET8RnIvIlsrKIVzcG5GTRONKf1Rd8G3K/fffr916CbMrrSaCkivPgWqS8D3QqE74yAiAxM9z4DcMmQzVP/RaSscqM3ILKxzWfeGQ+0Y4KRSSXqn2I71iWYXzlnT95Ro5I1qA2Q6M9IAwEbHpdvrBBx+o+8iRI/WXHksuAlOVQcQiggK9nd56663IfkQKIXIJhCoBIhyRIz5BkYnjzzU2IzIICtUkxx9/vLolgu6vJDaEMhmcmxJVOLJTHYJ4Uff+9a9/XZfKup9zP7QjUFqm/h9IiJQaqZ5x90nbw+9+9zttYA+zZMkSTYxUyxiNDzJKKxzWfeHQQR5DWiTdk26Tka6/XCCnPi4mMpChkrHSFZcSE5GUOmoSAYkNP1RvUZLCYiCREAFpVCVBUkXBfjJ0GjXpcMAHfDQUcy4WRIlMHoEI12uzj0hDryKO55eSEI3Qyeq/idBUP9CwimhUB67L+VOV/MIQJkp/iDv3wT0yygUN666NihIvz4dSG2EDhI4GaZ5VZeJo5C6IBQU/OgJQyifdEIcoAPIJBHGIruW4E6+Il/gnzfFBO4UtBAA3Cj/sRyiwYIhbZOi4cT4ydAqj4bjNuhM3eg9yLB8gk77PPvvsSByOhzDSpoWFl8wS4VjCTH7hwGoivp988smRtjvSUCo4DwVf7on75Z4oHGK1kc5dAZpCNT0VSb8unTl4vlh0WKGXXnpp0mum6y9XyMmxByl18CKJeInEglIN+0lUlPTCCQLYj5hwHvbH16tTRUZXWMYNRMzi4XhKlZToEtXJhyFSv/POO/pFf7JqjbqCBEw4SZTpVCdwX5SG8YtQGo0T4gEWOBkwlgkZNOLjagIoEFFwZD8WB2mInoATJkzQGg3SGwUmajXIzLG+sECI/4wc4eIivfgoQN58881qtYShQwdChTtxmE4h9GBMVTicMmWKCgMj1dQH5B8UnhFL7hPLE1EnnE4UeY7cBwVbRBF4pvSE5JlQaCSfib9/SNdfrmED5lYTrCMS1Be+8AWt964ORGKGYqG0SmKNF0/DyGSscJgeVS0cAoLEc+XZpSJdf7mEjT1YTSjZkSBpnKUUFW5rSgcaTRnok48nEazKEp1hZBqIUCrBICMlQ02WqeJGJs45ElnuCBlVbFSzY6HE94hz56/M6qdwOH36dLUGsfTqO4MnfMnuMRlYr+mEM11/uYRZWjWAahDq1mkApaNFup0T+LASS40GU+q2zcIyjMRghdGRirZXPj6Ob/epDAqHrr2LKjhEzshuTLQMw8horHBohDHRMgzDMLIGK3oYhmEYWYOJlmEYhpE1mGgZhmEYWYOJlmEYhpE1mGgZhmEYWYOJlmEYhpE1mGgZhmEYWYOJlmEYhpE1mGgZhmEYWYOJlmEYhpE1mGgZhmEYWYOJlmEYhpE1mGgZhmEYWYOJlmEYhpE1mGgZhmEYWYOJlmEYhpEliPx/b+8qi9nBDTIAAAAASUVORK5CYII=)\n",
        "\n",
        "Длина вектора может зависеть от модели, которой этот вектор был построен. Тогда, например, Евклидово расстояние будет большим, но с косинусным все хорошо"
      ]
    },
    {
      "cell_type": "markdown",
      "metadata": {
        "id": "FXH_4Nrv3Qb7"
      },
      "source": [
        "## Визуализация\n",
        "\n",
        "https://projector.tensorflow.org/"
      ]
    },
    {
      "cell_type": "markdown",
      "metadata": {
        "id": "DsHlbBP4vzvU"
      },
      "source": [
        "## Оценка эмбеддингов"
      ]
    },
    {
      "cell_type": "markdown",
      "metadata": {
        "id": "kC_7fu_B3gnp"
      },
      "source": [
        "### Intrinsic"
      ]
    },
    {
      "cell_type": "markdown",
      "metadata": {
        "id": "7P63ClU73cAp"
      },
      "source": [
        "#### SimLex-999\n",
        "\n",
        "[SimLex-999](https://fh295.github.io/simlex.html)\n",
        "\n",
        "Обеспечивает способ измерения того, насколько хорошо модели отражают сходство, а не родство или ассоциацию.\n",
        "\n",
        "![image.png](data:image/png;base64,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)\n",
        "\n",
        "(coast\\shore - берег, closet - шкаф, clothes - одежда)"
      ]
    },
    {
      "cell_type": "markdown",
      "metadata": {
        "id": "StX2AlfG3n4C"
      },
      "source": [
        "#### wordsim353\n",
        "\n",
        "[wordsim353](http://alfonseca.org/eng/research/wordsim353.html)\n",
        "\n",
        "Оценивает сходство/связность слов"
      ]
    },
    {
      "cell_type": "markdown",
      "metadata": {
        "id": "jfh_zGOy3vIp"
      },
      "source": [
        "## Doc2Vec\n",
        "\n",
        "[gensim Doc2Vec](https://radimrehurek.com/gensim/models/doc2vec.html)"
      ]
    },
    {
      "cell_type": "code",
      "execution_count": null,
      "metadata": {
        "id": "5Z2VBQnZi_64"
      },
      "outputs": [],
      "source": [
        "from gensim.models.doc2vec import TaggedDocument, Doc2Vec"
      ]
    },
    {
      "cell_type": "code",
      "execution_count": null,
      "metadata": {
        "colab": {
          "base_uri": "https://localhost:8080/"
        },
        "id": "y1ai8wvy3qhl",
        "outputId": "306094b1-be5a-41f6-a19f-578f86bf8f7e"
      },
      "outputs": [
        {
          "output_type": "stream",
          "name": "stdout",
          "text": [
            "[TaggedDocument(words='Вице-премьер по социальным вопросам Татьяна Голикова рассказала, в каких регионах России зафиксирована наиболее высокая смертность от рака, сообщает РИА Новости. По словам Голиковой, чаще всего онкологические заболевания становились причиной смерти в Псковской, Тверской, Тульской и Орловской областях, а также в Севастополе. Вице-премьер напомнила, что главные факторы смертности в России — рак и болезни системы кровообращения. В начале года стало известно, что смертность от онкологических заболеваний среди россиян снизилась впервые за три года. По данным Росстата, в 2017 году от рака умерли 289 тысяч человек. Это на 3,5 процента меньше, чем годом ранее.', tags=[0])]\n"
          ]
        }
      ],
      "source": [
        "#prepare dataset\n",
        "def create_tagged_document(list_of_list_of_words):\n",
        "    for i, list_of_words in enumerate(list_of_list_of_words):\n",
        "        yield TaggedDocument(list_of_words, [i])\n",
        "\n",
        "train_data = list(create_tagged_document(data))\n",
        "print(train_data[:1])"
      ]
    },
    {
      "cell_type": "code",
      "execution_count": null,
      "metadata": {
        "id": "IlFZNr-23qkQ",
        "colab": {
          "base_uri": "https://localhost:8080/"
        },
        "outputId": "ab401592-f7bb-494a-b58b-d7bd022c3f10"
      },
      "outputs": [
        {
          "output_type": "stream",
          "name": "stderr",
          "text": [
            "WARNING:gensim.models.doc2vec:Each 'words' should be a list of words (usually unicode strings). First 'words' here is instead plain <class 'str'>.\n"
          ]
        },
        {
          "output_type": "stream",
          "name": "stdout",
          "text": [
            "CPU times: user 5min, sys: 4.82 s, total: 5min 5s\n",
            "Wall time: 3min 51s\n"
          ]
        }
      ],
      "source": [
        "%%time\n",
        "\n",
        "model = Doc2Vec(vector_size=50, min_count=1, epochs=40)\n",
        "model.build_vocab(train_data)\n",
        "model.train(train_data, total_examples=model.corpus_count, epochs=model.epochs)"
      ]
    },
    {
      "cell_type": "code",
      "execution_count": null,
      "metadata": {
        "id": "TkAIk-aEjFO9",
        "colab": {
          "base_uri": "https://localhost:8080/"
        },
        "outputId": "cc96252a-5400-44b6-bc61-43bac86e2f9c"
      },
      "outputs": [
        {
          "output_type": "stream",
          "name": "stdout",
          "text": [
            "[-0.00880685 -0.00497583 -0.00296825  0.00616467 -0.00788493  0.00114681\n",
            " -0.00106133 -0.00490216  0.00197005 -0.00028668  0.0091407  -0.00181169\n",
            " -0.00682562  0.0084987  -0.00375795  0.00792437  0.00420504 -0.00397296\n",
            " -0.00113354 -0.00105714  0.00230009  0.0073712  -0.00778503 -0.00332474\n",
            " -0.00126832  0.00743415  0.00658491 -0.00419947 -0.00741446 -0.00604924\n",
            " -0.00924033  0.00462022  0.00094782 -0.0043252  -0.00460429  0.00842854\n",
            " -0.00049225 -0.00541507 -0.00403546  0.00154245 -0.00211218  0.00623046\n",
            " -0.00258292 -0.00103301 -0.00135756 -0.00301528 -0.0040803   0.00667015\n",
            " -0.00513779 -0.00868881]\n"
          ]
        }
      ],
      "source": [
        "print(model.infer_vector('gensim is really awesome'.split(' ')))"
      ]
    },
    {
      "cell_type": "markdown",
      "metadata": {
        "id": "Rr3kQN0JjTmw"
      },
      "source": [
        "## Что еще почитать\n",
        "\n",
        "[Topic Modeling with LSA, PLSA, LDA & lda2Vec](https://medium.com/nanonets/topic-modeling-with-lsa-psla-lda-and-lda2vec-555ff65b0b05)\n",
        "\n",
        "[Matrix decompositions and latent semantic indexing](https://nlp.stanford.edu/IR-book/pdf/18lsi.pdf)\n",
        "\n",
        "_______\n",
        "\n",
        "\n",
        "[Word2Vec: покажи мне свой контекст, и я скажу, кто ты](https://sysblok.ru/knowhow/word2vec-pokazhi-mne-svoj-kontekst-i-ja-skazhu-kto-ty/)\n",
        "\n",
        "[Чудесный мир Word Embeddings: какие они бывают и зачем нужны?](https://habr.com/ru/company/ods/blog/329410/)\n",
        "\n",
        "[Efficient Estimation of Word Representations in Vector Space](https://arxiv.org/abs/1301.3781)\n",
        "\n",
        "[Distributed Representations of Words and Phrases and their Compositionality](https://proceedings.neurips.cc/paper/2013/file/9aa42b31882ec039965f3c4923ce901b-Paper.pdf)\n",
        "\n",
        "[word2vec Explained: Deriving Mikolov et al.’s Negative-Sampling Word-Embedding Method](https://arxiv.org/pdf/1402.3722v1.pdf)\n",
        "\n",
        "[Word2Vec: классификация текстовых документов](https://habr.com/ru/post/277563/)\n",
        "\n",
        "[Пирожки в дистрибутивной семантике](https://habr.com/ru/post/275913/)\n",
        "\n",
        "[FastText: рецепт работы по коду](https://habr.com/ru/post/492432/)\n",
        "\n",
        "[FastText: stepping through the code](https://medium.com/@mariamestre/fasttext-stepping-through-the-code-259996d6ebc4)\n",
        "\n",
        "\n",
        "[Distributed Representations of Sentences and Documents](https://arxiv.org/pdf/1405.4053v2.pdf)\n",
        "\n",
        "___\n",
        "\n",
        "[Word2Vec Model Tutorial](https://radimrehurek.com/gensim/auto_examples/tutorials/run_word2vec.html#sphx-glr-auto-examples-tutorials-run-word2vec-py)\n",
        "\n",
        "[FastText Model Tutorial](https://radimrehurek.com/gensim/auto_examples/tutorials/run_fasttext.html#sphx-glr-auto-examples-tutorials-run-fasttext-py)\n",
        "\n",
        "[Comparison of FastText and Word2Vec](https://github.com/RaRe-Technologies/gensim/blob/ba1ce894a5192fc493a865c535202695bb3c0424/docs/notebooks/Word2Vec_FastText_Comparison.ipynb)\n"
      ]
    },
    {
      "cell_type": "code",
      "execution_count": null,
      "metadata": {
        "id": "8NdpMu-cjFSE"
      },
      "outputs": [],
      "source": []
    }
  ],
  "metadata": {
    "colab": {
      "toc_visible": true,
      "provenance": []
    },
    "kernelspec": {
      "display_name": "Python 3",
      "name": "python3"
    },
    "language_info": {
      "name": "python"
    }
  },
  "nbformat": 4,
  "nbformat_minor": 0
}